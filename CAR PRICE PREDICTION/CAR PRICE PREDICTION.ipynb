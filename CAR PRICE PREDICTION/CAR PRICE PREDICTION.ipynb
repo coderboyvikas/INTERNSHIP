{
 "cells": [
  {
   "cell_type": "code",
   "execution_count": 1,
   "id": "d5df057c",
   "metadata": {},
   "outputs": [],
   "source": [
    "import numpy as np\n",
    "import pandas as pd \n",
    "from sklearn.model_selection import train_test_split\n",
    "from sklearn.linear_model import LogisticRegression \n",
    "from sklearn.preprocessing import StandardScaler\n",
    "from sklearn.preprocessing import LabelEncoder\n",
    "import seaborn as sns \n",
    "import matplotlib.pyplot as plt \n",
    "import warnings\n",
    "warnings.filterwarnings('ignore')\n",
    "\n",
    "import bs4\n",
    "from bs4 import BeautifulSoup\n",
    "import requests\n",
    "import selenium \n",
    "from selenium import webdriver \n",
    "import time"
   ]
  },
  {
   "cell_type": "code",
   "execution_count": 2,
   "id": "70627435",
   "metadata": {},
   "outputs": [
    {
     "data": {
      "text/plain": [
       "<selenium.webdriver.chrome.webdriver.WebDriver (session=\"7dcd37ad7b30f9ad29b710393c085908\")>"
      ]
     },
     "execution_count": 2,
     "metadata": {},
     "output_type": "execute_result"
    }
   ],
   "source": [
    "driver=webdriver.Chrome(\"chromedriver.exe\")\n",
    "driver"
   ]
  },
  {
   "cell_type": "code",
   "execution_count": 3,
   "id": "7d46cdf6",
   "metadata": {},
   "outputs": [],
   "source": [
    "driver.get('https://www.cardekho.com/')"
   ]
  },
  {
   "cell_type": "code",
   "execution_count": 4,
   "id": "3e5bea58",
   "metadata": {},
   "outputs": [],
   "source": [
    "used_car=driver.find_element(\"xpath\",\"/html/body/div[2]/div/header/div[2]/div/div/nav/ul/li[2]/span/span\")\n",
    "used_car.click()\n",
    "time.sleep(120)"
   ]
  },
  {
   "cell_type": "code",
   "execution_count": 5,
   "id": "bb35289c",
   "metadata": {},
   "outputs": [],
   "source": [
    "car_variant=[]\n",
    "kilometers_driven=[]\n",
    "fuel_type=[]\n",
    "gear_shift=[]\n",
    "car_price=[]"
   ]
  },
  {
   "cell_type": "code",
   "execution_count": null,
   "id": "ac80b0d2",
   "metadata": {},
   "outputs": [],
   "source": [
    "variant=driver.find_elements(\"xpath\",\"//h3[@class='title']\")\n",
    "variant[0:3800]\n",
    "\n",
    "for i in variant:\n",
    "    vari=i.text\n",
    "    car_variant.append(vari)\n",
    "car_variant[0:3800]\n",
    "    \n",
    "    "
   ]
  },
  {
   "cell_type": "code",
   "execution_count": null,
   "id": "a0ca510a",
   "metadata": {},
   "outputs": [],
   "source": [
    "len(car_variant)"
   ]
  },
  {
   "cell_type": "code",
   "execution_count": null,
   "id": "f9adacdd",
   "metadata": {},
   "outputs": [],
   "source": [
    "km=driver.find_elements(\"xpath\",\"//div[@class='dotsDetails']/text[1]\")\n",
    "km[0:3800]"
   ]
  },
  {
   "cell_type": "code",
   "execution_count": null,
   "id": "ef6d406e",
   "metadata": {},
   "outputs": [],
   "source": [
    "for i in km :\n",
    "    k=i.text\n",
    "    kilometers_driven.append(k)\n",
    "kilometers_driven[0:3800]"
   ]
  },
  {
   "cell_type": "code",
   "execution_count": null,
   "id": "d41aa60f",
   "metadata": {},
   "outputs": [],
   "source": [
    "fuel =driver.find_elements('xpath',\"xpath\",\"//div[@class='dotsDetails']/text[3]\")\n",
    "fuel[0:3800]\n",
    "\n",
    "for i in fuel :\n",
    "    f=i.text\n",
    "    fuel_type.append(f)\n",
    "fuel_type[0:3800]\n"
   ]
  },
  {
   "cell_type": "code",
   "execution_count": null,
   "id": "4aa14721",
   "metadata": {},
   "outputs": [],
   "source": [
    "gear=driver.find_elements(\"xpath\",\"xpath\",\"//div[@class='dotsDetails']/text[5]\")\n",
    "gear[0:3800]\n",
    "\n",
    "for i in gear:\n",
    "    g=i.text\n",
    "    gear_shift.append(g)\n",
    "gear_shift[0:3800]\n"
   ]
  },
  {
   "cell_type": "code",
   "execution_count": null,
   "id": "99042907",
   "metadata": {},
   "outputs": [],
   "source": [
    "price=driver.find_elements(\"xpath\",\"//div[@class='Price hover']\")\n",
    "price[0:3800]\n",
    "\n",
    "for i in price:\n",
    "    p=i.text\n",
    "    car_price.append(p)\n",
    "car_price[0:3800]"
   ]
  },
  {
   "cell_type": "code",
   "execution_count": null,
   "id": "9dcbb682",
   "metadata": {},
   "outputs": [],
   "source": [
    "car_price=pd.DataFrame({})\n",
    "car_price['variant_type']=car_variant\n",
    "car_price['kilometers']=kilometers_driven\n",
    "car_price['fueltype']=fuel_type\n",
    "car_price['drive']=gear_shift\n",
    "car_price['price']=car_price\n"
   ]
  },
  {
   "cell_type": "code",
   "execution_count": null,
   "id": "3dee4f13",
   "metadata": {},
   "outputs": [],
   "source": [
    "car_price"
   ]
  },
  {
   "cell_type": "code",
   "execution_count": null,
   "id": "8dddea2b",
   "metadata": {},
   "outputs": [],
   "source": [
    "car_price.isnull().sum()"
   ]
  },
  {
   "cell_type": "code",
   "execution_count": null,
   "id": "0a82e036",
   "metadata": {},
   "outputs": [],
   "source": [
    "car_price.describe()"
   ]
  },
  {
   "cell_type": "code",
   "execution_count": null,
   "id": "219bf371",
   "metadata": {},
   "outputs": [],
   "source": [
    "car_price.shape"
   ]
  },
  {
   "cell_type": "code",
   "execution_count": null,
   "id": "e6183e40",
   "metadata": {},
   "outputs": [],
   "source": [
    "car_price.corr()"
   ]
  },
  {
   "cell_type": "code",
   "execution_count": null,
   "id": "98bef9a6",
   "metadata": {},
   "outputs": [],
   "source": [
    "df.skew()"
   ]
  },
  {
   "cell_type": "code",
   "execution_count": null,
   "id": "7aadf7c2",
   "metadata": {},
   "outputs": [],
   "source": [
    "x=car_price.drop(['price'],axis=1)\n",
    "y=car_price['price']\n",
    "x_train,y_train,x_test,y_test=train_test_split(x,y,random_state=2,train_size=0.25)\n",
    "lr=LogisticRegression()\n",
    "lr.fit(x_train,y_train)"
   ]
  },
  {
   "cell_type": "code",
   "execution_count": null,
   "id": "6af992d0",
   "metadata": {},
   "outputs": [],
   "source": []
  }
 ],
 "metadata": {
  "kernelspec": {
   "display_name": "Python 3 (ipykernel)",
   "language": "python",
   "name": "python3"
  },
  "language_info": {
   "codemirror_mode": {
    "name": "ipython",
    "version": 3
   },
   "file_extension": ".py",
   "mimetype": "text/x-python",
   "name": "python",
   "nbconvert_exporter": "python",
   "pygments_lexer": "ipython3",
   "version": "3.9.12"
  }
 },
 "nbformat": 4,
 "nbformat_minor": 5
}
