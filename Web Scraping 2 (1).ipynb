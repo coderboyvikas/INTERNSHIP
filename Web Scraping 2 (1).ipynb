{
 "cells": [
  {
   "cell_type": "code",
   "execution_count": 43,
   "id": "3e9238f3",
   "metadata": {},
   "outputs": [
    {
     "name": "stdout",
     "output_type": "stream",
     "text": [
      "Requirement already satisfied: selenium in c:\\users\\vikas khandelwal\\anaconda3\\lib\\site-packages (4.2.0)\n",
      "Requirement already satisfied: urllib3[secure,socks]~=1.26 in c:\\users\\vikas khandelwal\\anaconda3\\lib\\site-packages (from selenium) (1.26.7)\n",
      "Requirement already satisfied: trio-websocket~=0.9 in c:\\users\\vikas khandelwal\\anaconda3\\lib\\site-packages (from selenium) (0.9.2)\n",
      "Requirement already satisfied: trio~=0.17 in c:\\users\\vikas khandelwal\\anaconda3\\lib\\site-packages (from selenium) (0.20.0)\n",
      "Requirement already satisfied: sortedcontainers in c:\\users\\vikas khandelwal\\anaconda3\\lib\\site-packages (from trio~=0.17->selenium) (2.4.0)\n",
      "Requirement already satisfied: cffi>=1.14 in c:\\users\\vikas khandelwal\\anaconda3\\lib\\site-packages (from trio~=0.17->selenium) (1.14.6)\n",
      "Requirement already satisfied: sniffio in c:\\users\\vikas khandelwal\\anaconda3\\lib\\site-packages (from trio~=0.17->selenium) (1.2.0)\n",
      "Requirement already satisfied: idna in c:\\users\\vikas khandelwal\\anaconda3\\lib\\site-packages (from trio~=0.17->selenium) (3.2)\n",
      "Requirement already satisfied: outcome in c:\\users\\vikas khandelwal\\anaconda3\\lib\\site-packages (from trio~=0.17->selenium) (1.1.0)\n",
      "Requirement already satisfied: async-generator>=1.9 in c:\\users\\vikas khandelwal\\anaconda3\\lib\\site-packages (from trio~=0.17->selenium) (1.10)\n",
      "Requirement already satisfied: attrs>=19.2.0 in c:\\users\\vikas khandelwal\\anaconda3\\lib\\site-packages (from trio~=0.17->selenium) (21.2.0)\n",
      "Requirement already satisfied: pycparser in c:\\users\\vikas khandelwal\\anaconda3\\lib\\site-packages (from cffi>=1.14->trio~=0.17->selenium) (2.20)\n",
      "Requirement already satisfied: wsproto>=0.14 in c:\\users\\vikas khandelwal\\anaconda3\\lib\\site-packages (from trio-websocket~=0.9->selenium) (1.1.0)\n",
      "Requirement already satisfied: pyOpenSSL>=0.14 in c:\\users\\vikas khandelwal\\anaconda3\\lib\\site-packages (from urllib3[secure,socks]~=1.26->selenium) (21.0.0)\n",
      "Requirement already satisfied: cryptography>=1.3.4 in c:\\users\\vikas khandelwal\\anaconda3\\lib\\site-packages (from urllib3[secure,socks]~=1.26->selenium) (3.4.8)\n",
      "Requirement already satisfied: certifi in c:\\users\\vikas khandelwal\\anaconda3\\lib\\site-packages (from urllib3[secure,socks]~=1.26->selenium) (2021.10.8)\n",
      "Requirement already satisfied: PySocks!=1.5.7,<2.0,>=1.5.6 in c:\\users\\vikas khandelwal\\anaconda3\\lib\\site-packages (from urllib3[secure,socks]~=1.26->selenium) (1.7.1)\n",
      "Requirement already satisfied: six>=1.5.2 in c:\\users\\vikas khandelwal\\anaconda3\\lib\\site-packages (from pyOpenSSL>=0.14->urllib3[secure,socks]~=1.26->selenium) (1.16.0)\n",
      "Requirement already satisfied: h11<1,>=0.9.0 in c:\\users\\vikas khandelwal\\anaconda3\\lib\\site-packages (from wsproto>=0.14->trio-websocket~=0.9->selenium) (0.13.0)\n"
     ]
    }
   ],
   "source": [
    "import selenium \n",
    "import pandas as pd \n",
    "from selenium import webdriver\n",
    "import warnings \n",
    "warnings.filterwarnings('ignore')\n",
    "import time\n",
    "! pip install selenium\n"
   ]
  },
  {
   "cell_type": "code",
   "execution_count": 73,
   "id": "6949d3a5",
   "metadata": {},
   "outputs": [],
   "source": [
    "1.\n",
    "\n",
    "\n",
    "\n",
    "driver = webdriver.Chrome(r\"C:\\web driver\\chromedriver.exe\")"
   ]
  },
  {
   "cell_type": "code",
   "execution_count": null,
   "id": "b26fc524",
   "metadata": {},
   "outputs": [],
   "source": [
    "\n"
   ]
  },
  {
   "cell_type": "code",
   "execution_count": 74,
   "id": "18a0534e",
   "metadata": {},
   "outputs": [],
   "source": [
    "driver.get(\"https://www.naukri.com/\")"
   ]
  },
  {
   "cell_type": "code",
   "execution_count": 75,
   "id": "2b174755",
   "metadata": {},
   "outputs": [],
   "source": [
    "\n",
    "search_field_designation= driver.find_element_by_class_name(\"suggestor-input \")\n",
    "search_field_designation.send_keys(\"data analyst\")"
   ]
  },
  {
   "cell_type": "code",
   "execution_count": 76,
   "id": "6d7c23f2",
   "metadata": {},
   "outputs": [],
   "source": [
    "search_field_loc=driver.find_element_by_xpath(\"/html/body/div/div[2]/div[3]/div/div/div[5]/div/div/div/input \")\n",
    "search_field_loc.send_keys(\"Banglore\")"
   ]
  },
  {
   "cell_type": "code",
   "execution_count": 77,
   "id": "f415f0c1",
   "metadata": {},
   "outputs": [],
   "source": [
    "search_button=driver.find_element_by_xpath(\"/html/body/div/div[2]/div[3]/div/div[1]/div[6]\")\n",
    "search_button.click()"
   ]
  },
  {
   "cell_type": "code",
   "execution_count": 78,
   "id": "02988774",
   "metadata": {},
   "outputs": [],
   "source": [
    "job_titles=[]\n",
    "company_names=[]\n",
    "locations_list=[]\n",
    "experience_list=[]\n"
   ]
  },
  {
   "cell_type": "code",
   "execution_count": 79,
   "id": "53b59e6b",
   "metadata": {},
   "outputs": [
    {
     "data": {
      "text/plain": [
       "[<selenium.webdriver.remote.webelement.WebElement (session=\"57f1f210b6e3061985d42f08fee02e3c\", element=\"cf60afae-2fbd-45a2-9bd6-7ad0d9338228\")>,\n",
       " <selenium.webdriver.remote.webelement.WebElement (session=\"57f1f210b6e3061985d42f08fee02e3c\", element=\"33dea9b0-6914-4ee7-9e8c-6db59f3d6b83\")>,\n",
       " <selenium.webdriver.remote.webelement.WebElement (session=\"57f1f210b6e3061985d42f08fee02e3c\", element=\"30ae9e40-619d-4fc9-8991-b02dad8f38ef\")>,\n",
       " <selenium.webdriver.remote.webelement.WebElement (session=\"57f1f210b6e3061985d42f08fee02e3c\", element=\"54643825-1ec6-49e4-8509-7b8705614591\")>,\n",
       " <selenium.webdriver.remote.webelement.WebElement (session=\"57f1f210b6e3061985d42f08fee02e3c\", element=\"6849de7a-2eb5-4fe6-a763-134e6ad85c9e\")>,\n",
       " <selenium.webdriver.remote.webelement.WebElement (session=\"57f1f210b6e3061985d42f08fee02e3c\", element=\"efae7669-cc8c-4b0d-8ca7-413e227a854e\")>,\n",
       " <selenium.webdriver.remote.webelement.WebElement (session=\"57f1f210b6e3061985d42f08fee02e3c\", element=\"3289257b-00cf-42fe-b250-02ed25c4431e\")>,\n",
       " <selenium.webdriver.remote.webelement.WebElement (session=\"57f1f210b6e3061985d42f08fee02e3c\", element=\"1a4183c9-914e-41de-abc3-0a00916fefb7\")>,\n",
       " <selenium.webdriver.remote.webelement.WebElement (session=\"57f1f210b6e3061985d42f08fee02e3c\", element=\"6a43a891-28fa-4781-b4a2-8a9362db9a17\")>,\n",
       " <selenium.webdriver.remote.webelement.WebElement (session=\"57f1f210b6e3061985d42f08fee02e3c\", element=\"f7dd4c3e-8544-43bd-a40e-e885d7eb851d\")>]"
      ]
     },
     "execution_count": 79,
     "metadata": {},
     "output_type": "execute_result"
    }
   ],
   "source": [
    "from selenium.webdriver.common.keys import Keys\n",
    "titles_tags=driver.find_elements_by_xpath('// a[@class=\"title fw500 ellipsis\"]')\n",
    "titles_tags[0:10]"
   ]
  },
  {
   "cell_type": "code",
   "execution_count": 100,
   "id": "94b4af82",
   "metadata": {},
   "outputs": [
    {
     "data": {
      "text/plain": [
       "['Business Data Analyst',\n",
       " 'EY GDS Data Analyst-Finland based project',\n",
       " 'Data Analyst - Data and Analytics',\n",
       " 'Data Analyst - Data and Analytics',\n",
       " 'Data Analyst (CSD)',\n",
       " 'Data Analyst - Data Science, 3 To 5 Years',\n",
       " 'Data Analyst / Business Analyst',\n",
       " 'Data Analyst',\n",
       " 'SAS/SQL - Healthcare Data Analyst - Bangalore',\n",
       " 'Business & Data Analyst - Alteryx (London)']"
      ]
     },
     "execution_count": 100,
     "metadata": {},
     "output_type": "execute_result"
    }
   ],
   "source": [
    "for i in titles_tags:\n",
    "    title=i.text\n",
    "    job_titles.append(title)\n",
    "job_titles[0:10]"
   ]
  },
  {
   "cell_type": "code",
   "execution_count": 87,
   "id": "71effc56",
   "metadata": {},
   "outputs": [
    {
     "data": {
      "text/plain": [
       "[<selenium.webdriver.remote.webelement.WebElement (session=\"57f1f210b6e3061985d42f08fee02e3c\", element=\"4da72c0c-06b1-4b48-8bb9-5c45be46741e\")>,\n",
       " <selenium.webdriver.remote.webelement.WebElement (session=\"57f1f210b6e3061985d42f08fee02e3c\", element=\"99d96aea-dec1-498e-bbec-61f06fa52cff\")>,\n",
       " <selenium.webdriver.remote.webelement.WebElement (session=\"57f1f210b6e3061985d42f08fee02e3c\", element=\"7b84d02a-d390-4e88-811f-93b5abee96b9\")>,\n",
       " <selenium.webdriver.remote.webelement.WebElement (session=\"57f1f210b6e3061985d42f08fee02e3c\", element=\"bea69b9e-b7ca-4e35-ab3e-62f3bc633161\")>,\n",
       " <selenium.webdriver.remote.webelement.WebElement (session=\"57f1f210b6e3061985d42f08fee02e3c\", element=\"3f28392e-91ac-46c4-b9e3-cae760eddf6a\")>,\n",
       " <selenium.webdriver.remote.webelement.WebElement (session=\"57f1f210b6e3061985d42f08fee02e3c\", element=\"561f7f91-235b-408f-9aab-d33770569819\")>,\n",
       " <selenium.webdriver.remote.webelement.WebElement (session=\"57f1f210b6e3061985d42f08fee02e3c\", element=\"99571f3b-6745-4214-97c5-2ea939951088\")>,\n",
       " <selenium.webdriver.remote.webelement.WebElement (session=\"57f1f210b6e3061985d42f08fee02e3c\", element=\"e4feacab-4945-452a-ad05-79f1bf9f81a5\")>,\n",
       " <selenium.webdriver.remote.webelement.WebElement (session=\"57f1f210b6e3061985d42f08fee02e3c\", element=\"f6987248-97e0-402b-863c-eae927d2677b\")>,\n",
       " <selenium.webdriver.remote.webelement.WebElement (session=\"57f1f210b6e3061985d42f08fee02e3c\", element=\"e6f7f63f-ad01-4518-a5a9-877284be1990\")>]"
      ]
     },
     "execution_count": 87,
     "metadata": {},
     "output_type": "execute_result"
    }
   ],
   "source": [
    "companies_tags=driver.find_elements_by_xpath('//a[@class=\"subTitle ellipsis fleft\"]')\n",
    "companies_tags[0:10]"
   ]
  },
  {
   "cell_type": "code",
   "execution_count": 90,
   "id": "1103089e",
   "metadata": {},
   "outputs": [
    {
     "data": {
      "text/plain": [
       "['NXP Semiconductors',\n",
       " 'EY',\n",
       " 'Intel',\n",
       " 'Intel',\n",
       " 'Siemens',\n",
       " 'Rise Finconnect Private Limited',\n",
       " 'METRO Cash & Carry',\n",
       " 'Cigna TTK',\n",
       " 'Genpact',\n",
       " 'Imaginative Brains LLP']"
      ]
     },
     "execution_count": 90,
     "metadata": {},
     "output_type": "execute_result"
    }
   ],
   "source": [
    "for i in companies_tags:\n",
    "    company_name=i.text\n",
    "    company_names.append(company_name)\n",
    "company_names[0:10]"
   ]
  },
  {
   "cell_type": "code",
   "execution_count": 91,
   "id": "953942a7",
   "metadata": {},
   "outputs": [
    {
     "data": {
      "text/plain": [
       "[<selenium.webdriver.remote.webelement.WebElement (session=\"57f1f210b6e3061985d42f08fee02e3c\", element=\"b21e6933-45c4-49a0-adc9-592c29b98e4f\")>,\n",
       " <selenium.webdriver.remote.webelement.WebElement (session=\"57f1f210b6e3061985d42f08fee02e3c\", element=\"0f23f6a7-8885-4997-848d-51a6151b3a8f\")>,\n",
       " <selenium.webdriver.remote.webelement.WebElement (session=\"57f1f210b6e3061985d42f08fee02e3c\", element=\"f5d8c71d-c41c-423f-a75c-2737ccaa26bb\")>,\n",
       " <selenium.webdriver.remote.webelement.WebElement (session=\"57f1f210b6e3061985d42f08fee02e3c\", element=\"3d16b835-2a42-4c33-95c8-0349fe46b18c\")>,\n",
       " <selenium.webdriver.remote.webelement.WebElement (session=\"57f1f210b6e3061985d42f08fee02e3c\", element=\"1f501e4c-fbbd-40d3-97b2-add95f10e9c0\")>,\n",
       " <selenium.webdriver.remote.webelement.WebElement (session=\"57f1f210b6e3061985d42f08fee02e3c\", element=\"93af3dcc-84eb-4fb0-b68c-60cf1c8ce2ef\")>,\n",
       " <selenium.webdriver.remote.webelement.WebElement (session=\"57f1f210b6e3061985d42f08fee02e3c\", element=\"e49f2807-bf8a-4784-8737-4dd003382979\")>,\n",
       " <selenium.webdriver.remote.webelement.WebElement (session=\"57f1f210b6e3061985d42f08fee02e3c\", element=\"7e40e70a-4de6-4916-9b33-e39550d78a39\")>,\n",
       " <selenium.webdriver.remote.webelement.WebElement (session=\"57f1f210b6e3061985d42f08fee02e3c\", element=\"11c62412-7e7b-4830-821e-4953348c0978\")>,\n",
       " <selenium.webdriver.remote.webelement.WebElement (session=\"57f1f210b6e3061985d42f08fee02e3c\", element=\"a33b5383-d758-446b-9a82-325000057b59\")>]"
      ]
     },
     "execution_count": 91,
     "metadata": {},
     "output_type": "execute_result"
    }
   ],
   "source": [
    "experience_tags=driver.find_elements_by_xpath(\"//li[@class='fleft grey-text br2 placeHolderLi experience']/span\")\n",
    "experience_tags[0:10]"
   ]
  },
  {
   "cell_type": "code",
   "execution_count": 92,
   "id": "44730cd6",
   "metadata": {},
   "outputs": [
    {
     "data": {
      "text/plain": [
       "['2-5 Yrs',\n",
       " '0-1 Yrs',\n",
       " '3-6 Yrs',\n",
       " '3-6 Yrs',\n",
       " '2-6 Yrs',\n",
       " '2-6 Yrs',\n",
       " '3-8 Yrs',\n",
       " '2-4 Yrs',\n",
       " '7-10 Yrs',\n",
       " '5-10 Yrs']"
      ]
     },
     "execution_count": 92,
     "metadata": {},
     "output_type": "execute_result"
    }
   ],
   "source": [
    "for i in experience_tags:\n",
    "    experience=i.text\n",
    "    experience_list.append(experience)\n",
    "experience_list[0:10]"
   ]
  },
  {
   "cell_type": "code",
   "execution_count": 96,
   "id": "546a2d26",
   "metadata": {},
   "outputs": [
    {
     "data": {
      "text/plain": [
       "[<selenium.webdriver.remote.webelement.WebElement (session=\"57f1f210b6e3061985d42f08fee02e3c\", element=\"4313822a-b056-4f3e-86ca-32ac10b14d43\")>,\n",
       " <selenium.webdriver.remote.webelement.WebElement (session=\"57f1f210b6e3061985d42f08fee02e3c\", element=\"275c1f68-1df9-49ca-82af-f3b8cdf40e19\")>,\n",
       " <selenium.webdriver.remote.webelement.WebElement (session=\"57f1f210b6e3061985d42f08fee02e3c\", element=\"8c18a61b-ac24-4302-80b8-dce87d36bb34\")>,\n",
       " <selenium.webdriver.remote.webelement.WebElement (session=\"57f1f210b6e3061985d42f08fee02e3c\", element=\"3c53ee58-5dd5-4ac8-9083-285051ca6206\")>,\n",
       " <selenium.webdriver.remote.webelement.WebElement (session=\"57f1f210b6e3061985d42f08fee02e3c\", element=\"c0518d0e-7e4a-4508-9414-06e2c473d8a2\")>,\n",
       " <selenium.webdriver.remote.webelement.WebElement (session=\"57f1f210b6e3061985d42f08fee02e3c\", element=\"b5fae833-85a7-47e5-83a9-23a47a8d558f\")>,\n",
       " <selenium.webdriver.remote.webelement.WebElement (session=\"57f1f210b6e3061985d42f08fee02e3c\", element=\"a620c3e0-6bf1-4f63-85ac-4e535d92f3e0\")>,\n",
       " <selenium.webdriver.remote.webelement.WebElement (session=\"57f1f210b6e3061985d42f08fee02e3c\", element=\"5b8d6d09-e5a7-4bc1-9ef0-a49faf14e33a\")>,\n",
       " <selenium.webdriver.remote.webelement.WebElement (session=\"57f1f210b6e3061985d42f08fee02e3c\", element=\"24443cc0-4222-4058-b5f1-8bd7ec0b95dd\")>,\n",
       " <selenium.webdriver.remote.webelement.WebElement (session=\"57f1f210b6e3061985d42f08fee02e3c\", element=\"73e2cec8-c0e8-4952-bcd7-ed00e70ba741\")>]"
      ]
     },
     "execution_count": 96,
     "metadata": {},
     "output_type": "execute_result"
    }
   ],
   "source": [
    "locations_tags=driver.find_elements_by_xpath(\"//li[@class='fleft grey-text br2 placeHolderLi location']\")\n",
    "locations_tags[0:10]"
   ]
  },
  {
   "cell_type": "code",
   "execution_count": 98,
   "id": "45448670",
   "metadata": {},
   "outputs": [
    {
     "data": {
      "text/plain": [
       "['Bangalore/Bengaluru',\n",
       " 'Bangalore/Bengaluru',\n",
       " 'Bangalore/Bengaluru',\n",
       " 'Bangalore/Bengaluru',\n",
       " 'Bangalore/Bengaluru',\n",
       " 'Bangalore/Bengaluru',\n",
       " 'Bangalore/Bengaluru',\n",
       " 'Bangalore/Bengaluru',\n",
       " 'Bangalore/Bengaluru',\n",
       " 'Bangalore/Bengaluru, Delhi / NCR, Mumbai (All Areas)']"
      ]
     },
     "execution_count": 98,
     "metadata": {},
     "output_type": "execute_result"
    }
   ],
   "source": [
    "for i in locations_tags:\n",
    "    location=i.text\n",
    "    locations_list.append(location)\n",
    "locations_list[0:10]\n",
    "    "
   ]
  },
  {
   "cell_type": "code",
   "execution_count": 108,
   "id": "6d65a488",
   "metadata": {},
   "outputs": [],
   "source": [
    "import pandas as pd \n",
    "jobs=pd.DataFrame({})\n",
    "jobs['title']=job_titles\n",
    "jobs['company']=company_names\n",
    "jobs['experience_required']=experience_list\n",
    "jobs['location']=locations_list"
   ]
  },
  {
   "cell_type": "code",
   "execution_count": 109,
   "id": "a2028fd1",
   "metadata": {},
   "outputs": [
    {
     "data": {
      "text/html": [
       "<div>\n",
       "<style scoped>\n",
       "    .dataframe tbody tr th:only-of-type {\n",
       "        vertical-align: middle;\n",
       "    }\n",
       "\n",
       "    .dataframe tbody tr th {\n",
       "        vertical-align: top;\n",
       "    }\n",
       "\n",
       "    .dataframe thead th {\n",
       "        text-align: right;\n",
       "    }\n",
       "</style>\n",
       "<table border=\"1\" class=\"dataframe\">\n",
       "  <thead>\n",
       "    <tr style=\"text-align: right;\">\n",
       "      <th></th>\n",
       "      <th>title</th>\n",
       "      <th>company</th>\n",
       "      <th>experience_required</th>\n",
       "      <th>location</th>\n",
       "    </tr>\n",
       "  </thead>\n",
       "  <tbody>\n",
       "    <tr>\n",
       "      <th>0</th>\n",
       "      <td>Business Data Analyst</td>\n",
       "      <td>NXP Semiconductors</td>\n",
       "      <td>2-5 Yrs</td>\n",
       "      <td>Bangalore/Bengaluru</td>\n",
       "    </tr>\n",
       "    <tr>\n",
       "      <th>1</th>\n",
       "      <td>EY GDS Data Analyst-Finland based project</td>\n",
       "      <td>EY</td>\n",
       "      <td>0-1 Yrs</td>\n",
       "      <td>Bangalore/Bengaluru</td>\n",
       "    </tr>\n",
       "    <tr>\n",
       "      <th>2</th>\n",
       "      <td>Data Analyst - Data and Analytics</td>\n",
       "      <td>Intel</td>\n",
       "      <td>3-6 Yrs</td>\n",
       "      <td>Bangalore/Bengaluru</td>\n",
       "    </tr>\n",
       "    <tr>\n",
       "      <th>3</th>\n",
       "      <td>Data Analyst - Data and Analytics</td>\n",
       "      <td>Intel</td>\n",
       "      <td>3-6 Yrs</td>\n",
       "      <td>Bangalore/Bengaluru</td>\n",
       "    </tr>\n",
       "    <tr>\n",
       "      <th>4</th>\n",
       "      <td>Data Analyst (CSD)</td>\n",
       "      <td>Siemens</td>\n",
       "      <td>2-6 Yrs</td>\n",
       "      <td>Bangalore/Bengaluru</td>\n",
       "    </tr>\n",
       "    <tr>\n",
       "      <th>5</th>\n",
       "      <td>Data Analyst - Data Science, 3 To 5 Years</td>\n",
       "      <td>Rise Finconnect Private Limited</td>\n",
       "      <td>2-6 Yrs</td>\n",
       "      <td>Bangalore/Bengaluru</td>\n",
       "    </tr>\n",
       "    <tr>\n",
       "      <th>6</th>\n",
       "      <td>Data Analyst / Business Analyst</td>\n",
       "      <td>METRO Cash &amp; Carry</td>\n",
       "      <td>3-8 Yrs</td>\n",
       "      <td>Bangalore/Bengaluru</td>\n",
       "    </tr>\n",
       "    <tr>\n",
       "      <th>7</th>\n",
       "      <td>Data Analyst</td>\n",
       "      <td>Cigna TTK</td>\n",
       "      <td>2-4 Yrs</td>\n",
       "      <td>Bangalore/Bengaluru</td>\n",
       "    </tr>\n",
       "    <tr>\n",
       "      <th>8</th>\n",
       "      <td>SAS/SQL - Healthcare Data Analyst - Bangalore</td>\n",
       "      <td>Genpact</td>\n",
       "      <td>7-10 Yrs</td>\n",
       "      <td>Bangalore/Bengaluru</td>\n",
       "    </tr>\n",
       "    <tr>\n",
       "      <th>9</th>\n",
       "      <td>Business &amp; Data Analyst - Alteryx (London)</td>\n",
       "      <td>Imaginative Brains LLP</td>\n",
       "      <td>5-10 Yrs</td>\n",
       "      <td>Bangalore/Bengaluru, Delhi / NCR, Mumbai (All ...</td>\n",
       "    </tr>\n",
       "    <tr>\n",
       "      <th>10</th>\n",
       "      <td>data analyst/ data analytics / Business analys...</td>\n",
       "      <td>Leading US MNC into Analytics</td>\n",
       "      <td>2-7 Yrs</td>\n",
       "      <td>Gurgaon/Gurugram, Bangalore/Bengaluru, Delhi /...</td>\n",
       "    </tr>\n",
       "    <tr>\n",
       "      <th>11</th>\n",
       "      <td>Data analyst / Data scientist, AVP</td>\n",
       "      <td>Deutsche Bank</td>\n",
       "      <td>6-11 Yrs</td>\n",
       "      <td>Bangalore/Bengaluru</td>\n",
       "    </tr>\n",
       "    <tr>\n",
       "      <th>12</th>\n",
       "      <td>Data analyst / Data scientist, Associate</td>\n",
       "      <td>Deutsche Bank</td>\n",
       "      <td>5-8 Yrs</td>\n",
       "      <td>Bangalore/Bengaluru</td>\n",
       "    </tr>\n",
       "    <tr>\n",
       "      <th>13</th>\n",
       "      <td>HR Data Analyst</td>\n",
       "      <td>Gojek</td>\n",
       "      <td>3-8 Yrs</td>\n",
       "      <td>Bangalore/Bengaluru</td>\n",
       "    </tr>\n",
       "    <tr>\n",
       "      <th>14</th>\n",
       "      <td>Senior Mis Data Analyst</td>\n",
       "      <td>Barbeque Nation</td>\n",
       "      <td>5-8 Yrs</td>\n",
       "      <td>Bangalore/Bengaluru(Sarjapur), Delhi / NCR, Mu...</td>\n",
       "    </tr>\n",
       "    <tr>\n",
       "      <th>15</th>\n",
       "      <td>Data Business Analyst</td>\n",
       "      <td>Schneider Electric</td>\n",
       "      <td>2-5 Yrs</td>\n",
       "      <td>Bangalore/Bengaluru</td>\n",
       "    </tr>\n",
       "    <tr>\n",
       "      <th>16</th>\n",
       "      <td>Junior Data Analyst/ Scientist- Fresher Position</td>\n",
       "      <td>Sejal Consulting Hub</td>\n",
       "      <td>0-3 Yrs</td>\n",
       "      <td>Remote</td>\n",
       "    </tr>\n",
       "    <tr>\n",
       "      <th>17</th>\n",
       "      <td>Senior Data Analyst</td>\n",
       "      <td>Flipkart</td>\n",
       "      <td>3-7 Yrs</td>\n",
       "      <td>Bangalore/Bengaluru</td>\n",
       "    </tr>\n",
       "    <tr>\n",
       "      <th>18</th>\n",
       "      <td>Senior Data Analyst</td>\n",
       "      <td>Walmart</td>\n",
       "      <td>4-7 Yrs</td>\n",
       "      <td>Bangalore/Bengaluru</td>\n",
       "    </tr>\n",
       "    <tr>\n",
       "      <th>19</th>\n",
       "      <td>Data Analyst</td>\n",
       "      <td>PharmEasy</td>\n",
       "      <td>1-3 Yrs</td>\n",
       "      <td>Bangalore/Bengaluru</td>\n",
       "    </tr>\n",
       "  </tbody>\n",
       "</table>\n",
       "</div>"
      ],
      "text/plain": [
       "                                                title  \\\n",
       "0                               Business Data Analyst   \n",
       "1           EY GDS Data Analyst-Finland based project   \n",
       "2                   Data Analyst - Data and Analytics   \n",
       "3                   Data Analyst - Data and Analytics   \n",
       "4                                  Data Analyst (CSD)   \n",
       "5           Data Analyst - Data Science, 3 To 5 Years   \n",
       "6                     Data Analyst / Business Analyst   \n",
       "7                                        Data Analyst   \n",
       "8       SAS/SQL - Healthcare Data Analyst - Bangalore   \n",
       "9          Business & Data Analyst - Alteryx (London)   \n",
       "10  data analyst/ data analytics / Business analys...   \n",
       "11                 Data analyst / Data scientist, AVP   \n",
       "12           Data analyst / Data scientist, Associate   \n",
       "13                                    HR Data Analyst   \n",
       "14                            Senior Mis Data Analyst   \n",
       "15                              Data Business Analyst   \n",
       "16   Junior Data Analyst/ Scientist- Fresher Position   \n",
       "17                                Senior Data Analyst   \n",
       "18                                Senior Data Analyst   \n",
       "19                                       Data Analyst   \n",
       "\n",
       "                            company experience_required  \\\n",
       "0                NXP Semiconductors             2-5 Yrs   \n",
       "1                                EY             0-1 Yrs   \n",
       "2                             Intel             3-6 Yrs   \n",
       "3                             Intel             3-6 Yrs   \n",
       "4                           Siemens             2-6 Yrs   \n",
       "5   Rise Finconnect Private Limited             2-6 Yrs   \n",
       "6                METRO Cash & Carry             3-8 Yrs   \n",
       "7                         Cigna TTK             2-4 Yrs   \n",
       "8                           Genpact            7-10 Yrs   \n",
       "9            Imaginative Brains LLP            5-10 Yrs   \n",
       "10    Leading US MNC into Analytics             2-7 Yrs   \n",
       "11                    Deutsche Bank            6-11 Yrs   \n",
       "12                    Deutsche Bank             5-8 Yrs   \n",
       "13                            Gojek             3-8 Yrs   \n",
       "14                  Barbeque Nation             5-8 Yrs   \n",
       "15               Schneider Electric             2-5 Yrs   \n",
       "16             Sejal Consulting Hub             0-3 Yrs   \n",
       "17                         Flipkart             3-7 Yrs   \n",
       "18                          Walmart             4-7 Yrs   \n",
       "19                        PharmEasy             1-3 Yrs   \n",
       "\n",
       "                                             location  \n",
       "0                                 Bangalore/Bengaluru  \n",
       "1                                 Bangalore/Bengaluru  \n",
       "2                                 Bangalore/Bengaluru  \n",
       "3                                 Bangalore/Bengaluru  \n",
       "4                                 Bangalore/Bengaluru  \n",
       "5                                 Bangalore/Bengaluru  \n",
       "6                                 Bangalore/Bengaluru  \n",
       "7                                 Bangalore/Bengaluru  \n",
       "8                                 Bangalore/Bengaluru  \n",
       "9   Bangalore/Bengaluru, Delhi / NCR, Mumbai (All ...  \n",
       "10  Gurgaon/Gurugram, Bangalore/Bengaluru, Delhi /...  \n",
       "11                                Bangalore/Bengaluru  \n",
       "12                                Bangalore/Bengaluru  \n",
       "13                                Bangalore/Bengaluru  \n",
       "14  Bangalore/Bengaluru(Sarjapur), Delhi / NCR, Mu...  \n",
       "15                                Bangalore/Bengaluru  \n",
       "16                                             Remote  \n",
       "17                                Bangalore/Bengaluru  \n",
       "18                                Bangalore/Bengaluru  \n",
       "19                                Bangalore/Bengaluru  "
      ]
     },
     "execution_count": 109,
     "metadata": {},
     "output_type": "execute_result"
    }
   ],
   "source": [
    "jobs"
   ]
  },
  {
   "cell_type": "code",
   "execution_count": 228,
   "id": "75b1e4f2",
   "metadata": {},
   "outputs": [],
   "source": [
    "\n",
    "\n",
    "\n",
    "\n",
    "2.\n",
    "\n",
    "\n",
    "\n",
    "driver=webdriver.Chrome(r\"C:\\web driver\\chromedriver.exe\")\n",
    "driver.get(\"https://www.naukri.com/\")\n",
    "\n",
    "\n",
    "search_field_designation=driver.find_element_by_class_name(\"suggestor-input \")\n",
    "search_field_designation.send_keys(\"Data Scientist\")\n",
    "\n",
    "search_field_loc=driver.find_element_by_xpath(\"/html/body/div/div[2]/div[3]/div/div/div[5]/div/div/div/input\")\n",
    "search_field_loc.send_keys(\"Banglore\")\n",
    "\n",
    "search_button=driver.find_element_by_class_name(\"qsbSubmit\")\n",
    "search_button.click()"
   ]
  },
  {
   "cell_type": "code",
   "execution_count": 229,
   "id": "63cd44fa",
   "metadata": {},
   "outputs": [
    {
     "data": {
      "text/plain": [
       "[<selenium.webdriver.remote.webelement.WebElement (session=\"93c250aae36717c8166716568f0ae64a\", element=\"777d1159-5244-45c2-a2d9-3f0535d86deb\")>,\n",
       " <selenium.webdriver.remote.webelement.WebElement (session=\"93c250aae36717c8166716568f0ae64a\", element=\"150ca127-2388-49f8-84be-3fad6ccce67f\")>,\n",
       " <selenium.webdriver.remote.webelement.WebElement (session=\"93c250aae36717c8166716568f0ae64a\", element=\"5ecda9b9-bedc-4b9b-867f-546bce4155ab\")>,\n",
       " <selenium.webdriver.remote.webelement.WebElement (session=\"93c250aae36717c8166716568f0ae64a\", element=\"49f11211-be45-4649-b414-682c805681f9\")>,\n",
       " <selenium.webdriver.remote.webelement.WebElement (session=\"93c250aae36717c8166716568f0ae64a\", element=\"e685947b-cf68-4dd0-825f-db045b431a32\")>,\n",
       " <selenium.webdriver.remote.webelement.WebElement (session=\"93c250aae36717c8166716568f0ae64a\", element=\"2f28b1e7-7d53-4459-8d19-2327d16acb30\")>,\n",
       " <selenium.webdriver.remote.webelement.WebElement (session=\"93c250aae36717c8166716568f0ae64a\", element=\"27c357d9-3d00-4b7c-bf79-fe0bf39ae685\")>,\n",
       " <selenium.webdriver.remote.webelement.WebElement (session=\"93c250aae36717c8166716568f0ae64a\", element=\"c6bcf080-a576-45fd-b660-fd736551a184\")>,\n",
       " <selenium.webdriver.remote.webelement.WebElement (session=\"93c250aae36717c8166716568f0ae64a\", element=\"a126f600-4a0e-4d0e-9dac-23903d953316\")>,\n",
       " <selenium.webdriver.remote.webelement.WebElement (session=\"93c250aae36717c8166716568f0ae64a\", element=\"af052163-b88a-4562-8f0f-18854489623a\")>]"
      ]
     },
     "execution_count": 229,
     "metadata": {},
     "output_type": "execute_result"
    }
   ],
   "source": [
    "job_titles=[]\n",
    "company_names=[]\n",
    "locations_list=[]\n",
    "experience_list=[]\n",
    "\n",
    "titles_tag=driver.find_elements_by_xpath(\"//a[@class='title fw500 ellipsis']\")\n",
    "titles_tag[0:10]"
   ]
  },
  {
   "cell_type": "code",
   "execution_count": 230,
   "id": "004037f8",
   "metadata": {},
   "outputs": [
    {
     "data": {
      "text/plain": [
       "['Senior Data Scientist',\n",
       " 'Data Science - Engineering Manager',\n",
       " 'AI Technologist Vacancy',\n",
       " 'Job Opening with Wipro For Data Scientist position',\n",
       " 'DATA Scientist with Fraud Analytics Experience',\n",
       " 'Data Scientist',\n",
       " 'Data Scientist',\n",
       " 'Data Scientist',\n",
       " 'Data Scientist',\n",
       " 'Principal - Data Scientist']"
      ]
     },
     "execution_count": 230,
     "metadata": {},
     "output_type": "execute_result"
    }
   ],
   "source": [
    "for i in titles_tag:\n",
    "    title=i.text\n",
    "    job_titles.append(title)\n",
    "job_titles[0:10]"
   ]
  },
  {
   "cell_type": "code",
   "execution_count": 231,
   "id": "68ab0639",
   "metadata": {},
   "outputs": [
    {
     "data": {
      "text/plain": [
       "[<selenium.webdriver.remote.webelement.WebElement (session=\"93c250aae36717c8166716568f0ae64a\", element=\"c103556e-2a38-4550-b1d3-8706f765c30e\")>,\n",
       " <selenium.webdriver.remote.webelement.WebElement (session=\"93c250aae36717c8166716568f0ae64a\", element=\"ea3e780a-1847-40c9-861c-6b3ed6d0ebdc\")>,\n",
       " <selenium.webdriver.remote.webelement.WebElement (session=\"93c250aae36717c8166716568f0ae64a\", element=\"8e1f3b87-98eb-4f39-b39d-73bfa9b538f1\")>,\n",
       " <selenium.webdriver.remote.webelement.WebElement (session=\"93c250aae36717c8166716568f0ae64a\", element=\"63df7957-b4ee-462f-81b5-f17f2b3e28d3\")>,\n",
       " <selenium.webdriver.remote.webelement.WebElement (session=\"93c250aae36717c8166716568f0ae64a\", element=\"b8466149-d3a0-4b54-97fb-e450dba8843c\")>,\n",
       " <selenium.webdriver.remote.webelement.WebElement (session=\"93c250aae36717c8166716568f0ae64a\", element=\"5b5f5f56-703f-441d-a219-b54f9ac005d7\")>,\n",
       " <selenium.webdriver.remote.webelement.WebElement (session=\"93c250aae36717c8166716568f0ae64a\", element=\"7a2479e1-85da-43e9-8490-c15f6a2950c3\")>,\n",
       " <selenium.webdriver.remote.webelement.WebElement (session=\"93c250aae36717c8166716568f0ae64a\", element=\"e00c13c0-4e65-42b2-b590-638276f14ee6\")>,\n",
       " <selenium.webdriver.remote.webelement.WebElement (session=\"93c250aae36717c8166716568f0ae64a\", element=\"e2326fe9-a0e0-42b8-93fc-79d76533f35f\")>,\n",
       " <selenium.webdriver.remote.webelement.WebElement (session=\"93c250aae36717c8166716568f0ae64a\", element=\"8dfdda88-671e-4b2c-a0fb-f39c303a619b\")>]"
      ]
     },
     "execution_count": 231,
     "metadata": {},
     "output_type": "execute_result"
    }
   ],
   "source": [
    "companies_tag=driver.find_elements_by_xpath(\"//a[@class='subTitle ellipsis fleft']\")\n",
    "companies_tag[0:10]"
   ]
  },
  {
   "cell_type": "code",
   "execution_count": 232,
   "id": "547b9cc5",
   "metadata": {},
   "outputs": [
    {
     "data": {
      "text/plain": [
       "['Baker Hughes',\n",
       " 'Paytm',\n",
       " 'Wipro',\n",
       " 'Wipro',\n",
       " 'Concentrix Daksh Services',\n",
       " 'Applied Materials',\n",
       " 'Applied Materials',\n",
       " 'Applied Materials',\n",
       " 'Applied Materials',\n",
       " 'Schneider Electric']"
      ]
     },
     "execution_count": 232,
     "metadata": {},
     "output_type": "execute_result"
    }
   ],
   "source": [
    "for i in companies_tag:\n",
    "    company=i.text\n",
    "    company_names.append(company)\n",
    "company_names[0:10]"
   ]
  },
  {
   "cell_type": "code",
   "execution_count": 233,
   "id": "52b5856a",
   "metadata": {},
   "outputs": [
    {
     "data": {
      "text/plain": [
       "[<selenium.webdriver.remote.webelement.WebElement (session=\"93c250aae36717c8166716568f0ae64a\", element=\"aa99b75a-da56-41ba-ae21-7c9861992ebe\")>,\n",
       " <selenium.webdriver.remote.webelement.WebElement (session=\"93c250aae36717c8166716568f0ae64a\", element=\"4cc71f13-5465-44a6-90ea-e32cce4b492c\")>,\n",
       " <selenium.webdriver.remote.webelement.WebElement (session=\"93c250aae36717c8166716568f0ae64a\", element=\"8306649f-d6ee-42f9-8fab-c9a22a47a5d3\")>,\n",
       " <selenium.webdriver.remote.webelement.WebElement (session=\"93c250aae36717c8166716568f0ae64a\", element=\"c83d73dd-43cf-4cbc-92ff-26b671496d4d\")>,\n",
       " <selenium.webdriver.remote.webelement.WebElement (session=\"93c250aae36717c8166716568f0ae64a\", element=\"154a0908-f27a-4c47-9e56-014b815ef537\")>,\n",
       " <selenium.webdriver.remote.webelement.WebElement (session=\"93c250aae36717c8166716568f0ae64a\", element=\"d64d8092-768a-4646-a5c2-fd2990bf2d11\")>,\n",
       " <selenium.webdriver.remote.webelement.WebElement (session=\"93c250aae36717c8166716568f0ae64a\", element=\"e1926a6b-ab0e-4964-9274-d9ea7d8cc2a4\")>,\n",
       " <selenium.webdriver.remote.webelement.WebElement (session=\"93c250aae36717c8166716568f0ae64a\", element=\"44d323fc-e86c-4941-aa11-f234361cf133\")>,\n",
       " <selenium.webdriver.remote.webelement.WebElement (session=\"93c250aae36717c8166716568f0ae64a\", element=\"3177f4be-6fd7-4e6e-8a2e-31facdc2aa44\")>,\n",
       " <selenium.webdriver.remote.webelement.WebElement (session=\"93c250aae36717c8166716568f0ae64a\", element=\"c1232116-d028-4490-8a72-0c8f0446965e\")>]"
      ]
     },
     "execution_count": 233,
     "metadata": {},
     "output_type": "execute_result"
    }
   ],
   "source": [
    "experience_tags=driver.find_elements_by_xpath(\"//li[@class='fleft grey-text br2 placeHolderLi experience']/span\")\n",
    "experience_tags[0:10]"
   ]
  },
  {
   "cell_type": "code",
   "execution_count": 234,
   "id": "2583910a",
   "metadata": {},
   "outputs": [
    {
     "data": {
      "text/plain": [
       "['6-8 Yrs',\n",
       " '9-13 Yrs',\n",
       " '6-11 Yrs',\n",
       " '2-7 Yrs',\n",
       " '2-4 Yrs',\n",
       " '7-10 Yrs',\n",
       " '7-10 Yrs',\n",
       " '7-10 Yrs',\n",
       " '7-10 Yrs',\n",
       " '7-10 Yrs']"
      ]
     },
     "execution_count": 234,
     "metadata": {},
     "output_type": "execute_result"
    }
   ],
   "source": [
    "for i in experience_tags:\n",
    "    experience=i.text\n",
    "    experience_list.append(experience)\n",
    "experience_list[0:10]"
   ]
  },
  {
   "cell_type": "code",
   "execution_count": 235,
   "id": "a9a37a3a",
   "metadata": {},
   "outputs": [
    {
     "data": {
      "text/plain": [
       "[<selenium.webdriver.remote.webelement.WebElement (session=\"93c250aae36717c8166716568f0ae64a\", element=\"e26d572e-d311-42cd-8453-90e6dc779f03\")>,\n",
       " <selenium.webdriver.remote.webelement.WebElement (session=\"93c250aae36717c8166716568f0ae64a\", element=\"c37ca846-03e8-443b-9a2d-35e7a6dbd551\")>,\n",
       " <selenium.webdriver.remote.webelement.WebElement (session=\"93c250aae36717c8166716568f0ae64a\", element=\"24209305-0303-4344-85ac-9c367d155d2d\")>,\n",
       " <selenium.webdriver.remote.webelement.WebElement (session=\"93c250aae36717c8166716568f0ae64a\", element=\"1fd1ed33-1b86-4841-976e-700221b4c4d6\")>,\n",
       " <selenium.webdriver.remote.webelement.WebElement (session=\"93c250aae36717c8166716568f0ae64a\", element=\"c2807367-46f5-415f-b591-f1c5cba7e0b9\")>,\n",
       " <selenium.webdriver.remote.webelement.WebElement (session=\"93c250aae36717c8166716568f0ae64a\", element=\"592a83c8-3a54-4728-8391-400e8d4bcbbb\")>,\n",
       " <selenium.webdriver.remote.webelement.WebElement (session=\"93c250aae36717c8166716568f0ae64a\", element=\"650c21e2-ae86-4814-997b-0939014a800a\")>,\n",
       " <selenium.webdriver.remote.webelement.WebElement (session=\"93c250aae36717c8166716568f0ae64a\", element=\"cf584c12-f9cd-4ee0-8ded-0c062c61cf93\")>,\n",
       " <selenium.webdriver.remote.webelement.WebElement (session=\"93c250aae36717c8166716568f0ae64a\", element=\"793767bc-a9d7-46e8-837b-864ef97c0ac4\")>,\n",
       " <selenium.webdriver.remote.webelement.WebElement (session=\"93c250aae36717c8166716568f0ae64a\", element=\"c3175e6a-ff92-4f70-aeea-b339774e719a\")>]"
      ]
     },
     "execution_count": 235,
     "metadata": {},
     "output_type": "execute_result"
    }
   ],
   "source": [
    "locations_tag=driver.find_elements_by_xpath(\"//li[@class='fleft grey-text br2 placeHolderLi location']/span\")\n",
    "locations_tag[0:10]"
   ]
  },
  {
   "cell_type": "code",
   "execution_count": 236,
   "id": "5aa10bf6",
   "metadata": {},
   "outputs": [
    {
     "data": {
      "text/plain": [
       "['Mumbai, Bangalore/Bengaluru',\n",
       " 'Noida, Mumbai, Bangalore/Bengaluru',\n",
       " 'Kolkata, Hyderabad/Secunderabad, Pune, Ahmedabad, Chennai, Bangalore/Bengaluru, Delhi / NCR, Mumbai (All Areas)',\n",
       " 'Kolkata, Hyderabad/Secunderabad, Chennai, Bangalore/Bengaluru, Delhi / NCR, Mumbai (All Areas)',\n",
       " 'Bangalore/Bengaluru',\n",
       " 'Bangalore/Bengaluru',\n",
       " 'Bangalore/Bengaluru',\n",
       " 'Bangalore/Bengaluru',\n",
       " 'Bangalore/Bengaluru',\n",
       " 'Bangalore/Bengaluru']"
      ]
     },
     "execution_count": 236,
     "metadata": {},
     "output_type": "execute_result"
    }
   ],
   "source": [
    "for i in locations_tag:\n",
    "    location = i.text\n",
    "    locations_list.append(location)\n",
    "locations_list[0:10]"
   ]
  },
  {
   "cell_type": "code",
   "execution_count": 239,
   "id": "d58b0f6b",
   "metadata": {},
   "outputs": [
    {
     "data": {
      "text/plain": [
       "21"
      ]
     },
     "execution_count": 239,
     "metadata": {},
     "output_type": "execute_result"
    }
   ],
   "source": [
    "len(locations_list)\n",
    "\n",
    "\n",
    "\n",
    "\n"
   ]
  },
  {
   "cell_type": "code",
   "execution_count": 238,
   "id": "2bbf275d",
   "metadata": {},
   "outputs": [
    {
     "ename": "ValueError",
     "evalue": "Length of values (21) does not match length of index (20)",
     "output_type": "error",
     "traceback": [
      "\u001b[1;31m---------------------------------------------------------------------------\u001b[0m",
      "\u001b[1;31mValueError\u001b[0m                                Traceback (most recent call last)",
      "\u001b[1;32mC:\\Users\\VIKASK~1\\AppData\\Local\\Temp/ipykernel_10864/537189052.py\u001b[0m in \u001b[0;36m<module>\u001b[1;34m\u001b[0m\n\u001b[0;32m      4\u001b[0m \u001b[0mjobs\u001b[0m\u001b[1;33m[\u001b[0m\u001b[1;34m'company'\u001b[0m\u001b[1;33m]\u001b[0m\u001b[1;33m=\u001b[0m\u001b[0mcompany_names\u001b[0m\u001b[1;33m\u001b[0m\u001b[1;33m\u001b[0m\u001b[0m\n\u001b[0;32m      5\u001b[0m \u001b[0mjobs\u001b[0m\u001b[1;33m[\u001b[0m\u001b[1;34m'experience'\u001b[0m\u001b[1;33m]\u001b[0m\u001b[1;33m=\u001b[0m\u001b[0mexperience_list\u001b[0m\u001b[1;33m\u001b[0m\u001b[1;33m\u001b[0m\u001b[0m\n\u001b[1;32m----> 6\u001b[1;33m \u001b[0mjobs\u001b[0m\u001b[1;33m[\u001b[0m\u001b[1;34m'location'\u001b[0m\u001b[1;33m]\u001b[0m\u001b[1;33m=\u001b[0m\u001b[0mlocations_list\u001b[0m\u001b[1;33m\u001b[0m\u001b[1;33m\u001b[0m\u001b[0m\n\u001b[0m\u001b[0;32m      7\u001b[0m \u001b[1;33m\u001b[0m\u001b[0m\n",
      "\u001b[1;32m~\\anaconda3\\lib\\site-packages\\pandas\\core\\frame.py\u001b[0m in \u001b[0;36m__setitem__\u001b[1;34m(self, key, value)\u001b[0m\n\u001b[0;32m   3610\u001b[0m         \u001b[1;32melse\u001b[0m\u001b[1;33m:\u001b[0m\u001b[1;33m\u001b[0m\u001b[1;33m\u001b[0m\u001b[0m\n\u001b[0;32m   3611\u001b[0m             \u001b[1;31m# set column\u001b[0m\u001b[1;33m\u001b[0m\u001b[1;33m\u001b[0m\u001b[0m\n\u001b[1;32m-> 3612\u001b[1;33m             \u001b[0mself\u001b[0m\u001b[1;33m.\u001b[0m\u001b[0m_set_item\u001b[0m\u001b[1;33m(\u001b[0m\u001b[0mkey\u001b[0m\u001b[1;33m,\u001b[0m \u001b[0mvalue\u001b[0m\u001b[1;33m)\u001b[0m\u001b[1;33m\u001b[0m\u001b[1;33m\u001b[0m\u001b[0m\n\u001b[0m\u001b[0;32m   3613\u001b[0m \u001b[1;33m\u001b[0m\u001b[0m\n\u001b[0;32m   3614\u001b[0m     \u001b[1;32mdef\u001b[0m \u001b[0m_setitem_slice\u001b[0m\u001b[1;33m(\u001b[0m\u001b[0mself\u001b[0m\u001b[1;33m,\u001b[0m \u001b[0mkey\u001b[0m\u001b[1;33m:\u001b[0m \u001b[0mslice\u001b[0m\u001b[1;33m,\u001b[0m \u001b[0mvalue\u001b[0m\u001b[1;33m)\u001b[0m\u001b[1;33m:\u001b[0m\u001b[1;33m\u001b[0m\u001b[1;33m\u001b[0m\u001b[0m\n",
      "\u001b[1;32m~\\anaconda3\\lib\\site-packages\\pandas\\core\\frame.py\u001b[0m in \u001b[0;36m_set_item\u001b[1;34m(self, key, value)\u001b[0m\n\u001b[0;32m   3782\u001b[0m         \u001b[0mensure\u001b[0m \u001b[0mhomogeneity\u001b[0m\u001b[1;33m.\u001b[0m\u001b[1;33m\u001b[0m\u001b[1;33m\u001b[0m\u001b[0m\n\u001b[0;32m   3783\u001b[0m         \"\"\"\n\u001b[1;32m-> 3784\u001b[1;33m         \u001b[0mvalue\u001b[0m \u001b[1;33m=\u001b[0m \u001b[0mself\u001b[0m\u001b[1;33m.\u001b[0m\u001b[0m_sanitize_column\u001b[0m\u001b[1;33m(\u001b[0m\u001b[0mvalue\u001b[0m\u001b[1;33m)\u001b[0m\u001b[1;33m\u001b[0m\u001b[1;33m\u001b[0m\u001b[0m\n\u001b[0m\u001b[0;32m   3785\u001b[0m \u001b[1;33m\u001b[0m\u001b[0m\n\u001b[0;32m   3786\u001b[0m         if (\n",
      "\u001b[1;32m~\\anaconda3\\lib\\site-packages\\pandas\\core\\frame.py\u001b[0m in \u001b[0;36m_sanitize_column\u001b[1;34m(self, value)\u001b[0m\n\u001b[0;32m   4507\u001b[0m \u001b[1;33m\u001b[0m\u001b[0m\n\u001b[0;32m   4508\u001b[0m         \u001b[1;32mif\u001b[0m \u001b[0mis_list_like\u001b[0m\u001b[1;33m(\u001b[0m\u001b[0mvalue\u001b[0m\u001b[1;33m)\u001b[0m\u001b[1;33m:\u001b[0m\u001b[1;33m\u001b[0m\u001b[1;33m\u001b[0m\u001b[0m\n\u001b[1;32m-> 4509\u001b[1;33m             \u001b[0mcom\u001b[0m\u001b[1;33m.\u001b[0m\u001b[0mrequire_length_match\u001b[0m\u001b[1;33m(\u001b[0m\u001b[0mvalue\u001b[0m\u001b[1;33m,\u001b[0m \u001b[0mself\u001b[0m\u001b[1;33m.\u001b[0m\u001b[0mindex\u001b[0m\u001b[1;33m)\u001b[0m\u001b[1;33m\u001b[0m\u001b[1;33m\u001b[0m\u001b[0m\n\u001b[0m\u001b[0;32m   4510\u001b[0m         \u001b[1;32mreturn\u001b[0m \u001b[0msanitize_array\u001b[0m\u001b[1;33m(\u001b[0m\u001b[0mvalue\u001b[0m\u001b[1;33m,\u001b[0m \u001b[0mself\u001b[0m\u001b[1;33m.\u001b[0m\u001b[0mindex\u001b[0m\u001b[1;33m,\u001b[0m \u001b[0mcopy\u001b[0m\u001b[1;33m=\u001b[0m\u001b[1;32mTrue\u001b[0m\u001b[1;33m,\u001b[0m \u001b[0mallow_2d\u001b[0m\u001b[1;33m=\u001b[0m\u001b[1;32mTrue\u001b[0m\u001b[1;33m)\u001b[0m\u001b[1;33m\u001b[0m\u001b[1;33m\u001b[0m\u001b[0m\n\u001b[0;32m   4511\u001b[0m \u001b[1;33m\u001b[0m\u001b[0m\n",
      "\u001b[1;32m~\\anaconda3\\lib\\site-packages\\pandas\\core\\common.py\u001b[0m in \u001b[0;36mrequire_length_match\u001b[1;34m(data, index)\u001b[0m\n\u001b[0;32m    529\u001b[0m     \"\"\"\n\u001b[0;32m    530\u001b[0m     \u001b[1;32mif\u001b[0m \u001b[0mlen\u001b[0m\u001b[1;33m(\u001b[0m\u001b[0mdata\u001b[0m\u001b[1;33m)\u001b[0m \u001b[1;33m!=\u001b[0m \u001b[0mlen\u001b[0m\u001b[1;33m(\u001b[0m\u001b[0mindex\u001b[0m\u001b[1;33m)\u001b[0m\u001b[1;33m:\u001b[0m\u001b[1;33m\u001b[0m\u001b[1;33m\u001b[0m\u001b[0m\n\u001b[1;32m--> 531\u001b[1;33m         raise ValueError(\n\u001b[0m\u001b[0;32m    532\u001b[0m             \u001b[1;34m\"Length of values \"\u001b[0m\u001b[1;33m\u001b[0m\u001b[1;33m\u001b[0m\u001b[0m\n\u001b[0;32m    533\u001b[0m             \u001b[1;34mf\"({len(data)}) \"\u001b[0m\u001b[1;33m\u001b[0m\u001b[1;33m\u001b[0m\u001b[0m\n",
      "\u001b[1;31mValueError\u001b[0m: Length of values (21) does not match length of index (20)"
     ]
    }
   ],
   "source": [
    "import pandas as pd\n",
    "jobs=pd.DataFrame()\n",
    "jobs['title']=job_titles\n",
    "jobs['company']=company_names\n",
    "jobs['experience']=experience_list\n",
    "jobs['location']=locations_list\n",
    "\n"
   ]
  },
  {
   "cell_type": "code",
   "execution_count": 210,
   "id": "edebed29",
   "metadata": {},
   "outputs": [],
   "source": [
    "\n",
    "\n",
    "\n",
    "3.\n",
    "\n",
    "\n",
    "\n",
    "driver =  webdriver.Chrome(r\"C:\\web driver\\chromedriver.exe\")\n",
    "driver.get(\"https://www.naukri.com/\")"
   ]
  },
  {
   "cell_type": "code",
   "execution_count": 211,
   "id": "53501447",
   "metadata": {},
   "outputs": [],
   "source": [
    "search_field_designation=driver.find_element_by_class_name(\"suggestor-input \")\n",
    "search_field_designation.send_keys(\"Data Scientist\")"
   ]
  },
  {
   "cell_type": "code",
   "execution_count": 212,
   "id": "cc038765",
   "metadata": {},
   "outputs": [],
   "source": [
    "import selenium\n",
    "search_button = driver.find_element_by_class_name(\"qsbSubmit\")\n",
    "search_button.click()"
   ]
  },
  {
   "cell_type": "code",
   "execution_count": 217,
   "id": "6053d868",
   "metadata": {},
   "outputs": [],
   "source": [
    "modify_button=driver.find_element_by_class_name(\"quick-search-bar\")\n",
    "modify_button.click()"
   ]
  },
  {
   "cell_type": "code",
   "execution_count": 218,
   "id": "2550e3a8",
   "metadata": {},
   "outputs": [
    {
     "ename": "NoSuchElementException",
     "evalue": "Message: no such element: Unable to locate element: {\"method\":\"xpath\",\"selector\":\"/html/body/div[1]/div[3]/div[1]/section/div/div/div/form/span[3]/div/div/div/div[1]/div[2]/input\"}\n  (Session info: chrome=102.0.5005.115)\nStacktrace:\nBacktrace:\n\tOrdinal0 [0x00DFD953+2414931]\n\tOrdinal0 [0x00D8F5E1+1963489]\n\tOrdinal0 [0x00C7C6B8+837304]\n\tOrdinal0 [0x00CA9500+1021184]\n\tOrdinal0 [0x00CA979B+1021851]\n\tOrdinal0 [0x00CD6502+1205506]\n\tOrdinal0 [0x00CC44E4+1131748]\n\tOrdinal0 [0x00CD4812+1198098]\n\tOrdinal0 [0x00CC42B6+1131190]\n\tOrdinal0 [0x00C9E860+976992]\n\tOrdinal0 [0x00C9F756+980822]\n\tGetHandleVerifier [0x0106CC62+2510274]\n\tGetHandleVerifier [0x0105F760+2455744]\n\tGetHandleVerifier [0x00E8EABA+551962]\n\tGetHandleVerifier [0x00E8D916+547446]\n\tOrdinal0 [0x00D95F3B+1990459]\n\tOrdinal0 [0x00D9A898+2009240]\n\tOrdinal0 [0x00D9A985+2009477]\n\tOrdinal0 [0x00DA3AD1+2046673]\n\tBaseThreadInitThunk [0x7503FA29+25]\n\tRtlGetAppContainerNamedObjectPath [0x77047A9E+286]\n\tRtlGetAppContainerNamedObjectPath [0x77047A6E+238]\n",
     "output_type": "error",
     "traceback": [
      "\u001b[1;31m---------------------------------------------------------------------------\u001b[0m",
      "\u001b[1;31mNoSuchElementException\u001b[0m                    Traceback (most recent call last)",
      "\u001b[1;32mC:\\Users\\VIKASK~1\\AppData\\Local\\Temp/ipykernel_10864/4019278674.py\u001b[0m in \u001b[0;36m<module>\u001b[1;34m\u001b[0m\n\u001b[1;32m----> 1\u001b[1;33m \u001b[0msearch_field_loc\u001b[0m\u001b[1;33m=\u001b[0m\u001b[0mdriver\u001b[0m\u001b[1;33m.\u001b[0m\u001b[0mfind_element_by_xpath\u001b[0m\u001b[1;33m(\u001b[0m\u001b[1;34m\"/html/body/div[1]/div[3]/div[1]/section/div/div/div/form/span[3]/div/div/div/div[1]/div[2]/input\"\u001b[0m\u001b[1;33m)\u001b[0m\u001b[1;33m\u001b[0m\u001b[1;33m\u001b[0m\u001b[0m\n\u001b[0m\u001b[0;32m      2\u001b[0m \u001b[0msearch_field_loc\u001b[0m\u001b[1;33m.\u001b[0m\u001b[0msend_keys\u001b[0m\u001b[1;33m(\u001b[0m\u001b[1;34m\"Delhi\"\u001b[0m\u001b[1;33m)\u001b[0m\u001b[1;33m\u001b[0m\u001b[1;33m\u001b[0m\u001b[0m\n",
      "\u001b[1;32m~\\anaconda3\\lib\\site-packages\\selenium\\webdriver\\remote\\webdriver.py\u001b[0m in \u001b[0;36mfind_element_by_xpath\u001b[1;34m(self, xpath)\u001b[0m\n\u001b[0;32m    524\u001b[0m             \u001b[0mstacklevel\u001b[0m\u001b[1;33m=\u001b[0m\u001b[1;36m2\u001b[0m\u001b[1;33m,\u001b[0m\u001b[1;33m\u001b[0m\u001b[1;33m\u001b[0m\u001b[0m\n\u001b[0;32m    525\u001b[0m         )\n\u001b[1;32m--> 526\u001b[1;33m         \u001b[1;32mreturn\u001b[0m \u001b[0mself\u001b[0m\u001b[1;33m.\u001b[0m\u001b[0mfind_element\u001b[0m\u001b[1;33m(\u001b[0m\u001b[0mby\u001b[0m\u001b[1;33m=\u001b[0m\u001b[0mBy\u001b[0m\u001b[1;33m.\u001b[0m\u001b[0mXPATH\u001b[0m\u001b[1;33m,\u001b[0m \u001b[0mvalue\u001b[0m\u001b[1;33m=\u001b[0m\u001b[0mxpath\u001b[0m\u001b[1;33m)\u001b[0m\u001b[1;33m\u001b[0m\u001b[1;33m\u001b[0m\u001b[0m\n\u001b[0m\u001b[0;32m    527\u001b[0m \u001b[1;33m\u001b[0m\u001b[0m\n\u001b[0;32m    528\u001b[0m     \u001b[1;32mdef\u001b[0m \u001b[0mfind_elements_by_xpath\u001b[0m\u001b[1;33m(\u001b[0m\u001b[0mself\u001b[0m\u001b[1;33m,\u001b[0m \u001b[0mxpath\u001b[0m\u001b[1;33m)\u001b[0m \u001b[1;33m->\u001b[0m \u001b[0mList\u001b[0m\u001b[1;33m[\u001b[0m\u001b[0mWebElement\u001b[0m\u001b[1;33m]\u001b[0m\u001b[1;33m:\u001b[0m\u001b[1;33m\u001b[0m\u001b[1;33m\u001b[0m\u001b[0m\n",
      "\u001b[1;32m~\\anaconda3\\lib\\site-packages\\selenium\\webdriver\\remote\\webdriver.py\u001b[0m in \u001b[0;36mfind_element\u001b[1;34m(self, by, value)\u001b[0m\n\u001b[0;32m   1249\u001b[0m             \u001b[0mvalue\u001b[0m \u001b[1;33m=\u001b[0m \u001b[1;34m'[name=\"%s\"]'\u001b[0m \u001b[1;33m%\u001b[0m \u001b[0mvalue\u001b[0m\u001b[1;33m\u001b[0m\u001b[1;33m\u001b[0m\u001b[0m\n\u001b[0;32m   1250\u001b[0m \u001b[1;33m\u001b[0m\u001b[0m\n\u001b[1;32m-> 1251\u001b[1;33m         return self.execute(Command.FIND_ELEMENT, {\n\u001b[0m\u001b[0;32m   1252\u001b[0m             \u001b[1;34m'using'\u001b[0m\u001b[1;33m:\u001b[0m \u001b[0mby\u001b[0m\u001b[1;33m,\u001b[0m\u001b[1;33m\u001b[0m\u001b[1;33m\u001b[0m\u001b[0m\n\u001b[0;32m   1253\u001b[0m             'value': value})['value']\n",
      "\u001b[1;32m~\\anaconda3\\lib\\site-packages\\selenium\\webdriver\\remote\\webdriver.py\u001b[0m in \u001b[0;36mexecute\u001b[1;34m(self, driver_command, params)\u001b[0m\n\u001b[0;32m    428\u001b[0m         \u001b[0mresponse\u001b[0m \u001b[1;33m=\u001b[0m \u001b[0mself\u001b[0m\u001b[1;33m.\u001b[0m\u001b[0mcommand_executor\u001b[0m\u001b[1;33m.\u001b[0m\u001b[0mexecute\u001b[0m\u001b[1;33m(\u001b[0m\u001b[0mdriver_command\u001b[0m\u001b[1;33m,\u001b[0m \u001b[0mparams\u001b[0m\u001b[1;33m)\u001b[0m\u001b[1;33m\u001b[0m\u001b[1;33m\u001b[0m\u001b[0m\n\u001b[0;32m    429\u001b[0m         \u001b[1;32mif\u001b[0m \u001b[0mresponse\u001b[0m\u001b[1;33m:\u001b[0m\u001b[1;33m\u001b[0m\u001b[1;33m\u001b[0m\u001b[0m\n\u001b[1;32m--> 430\u001b[1;33m             \u001b[0mself\u001b[0m\u001b[1;33m.\u001b[0m\u001b[0merror_handler\u001b[0m\u001b[1;33m.\u001b[0m\u001b[0mcheck_response\u001b[0m\u001b[1;33m(\u001b[0m\u001b[0mresponse\u001b[0m\u001b[1;33m)\u001b[0m\u001b[1;33m\u001b[0m\u001b[1;33m\u001b[0m\u001b[0m\n\u001b[0m\u001b[0;32m    431\u001b[0m             response['value'] = self._unwrap_value(\n\u001b[0;32m    432\u001b[0m                 response.get('value', None))\n",
      "\u001b[1;32m~\\anaconda3\\lib\\site-packages\\selenium\\webdriver\\remote\\errorhandler.py\u001b[0m in \u001b[0;36mcheck_response\u001b[1;34m(self, response)\u001b[0m\n\u001b[0;32m    245\u001b[0m                 \u001b[0malert_text\u001b[0m \u001b[1;33m=\u001b[0m \u001b[0mvalue\u001b[0m\u001b[1;33m[\u001b[0m\u001b[1;34m'alert'\u001b[0m\u001b[1;33m]\u001b[0m\u001b[1;33m.\u001b[0m\u001b[0mget\u001b[0m\u001b[1;33m(\u001b[0m\u001b[1;34m'text'\u001b[0m\u001b[1;33m)\u001b[0m\u001b[1;33m\u001b[0m\u001b[1;33m\u001b[0m\u001b[0m\n\u001b[0;32m    246\u001b[0m             \u001b[1;32mraise\u001b[0m \u001b[0mexception_class\u001b[0m\u001b[1;33m(\u001b[0m\u001b[0mmessage\u001b[0m\u001b[1;33m,\u001b[0m \u001b[0mscreen\u001b[0m\u001b[1;33m,\u001b[0m \u001b[0mstacktrace\u001b[0m\u001b[1;33m,\u001b[0m \u001b[0malert_text\u001b[0m\u001b[1;33m)\u001b[0m  \u001b[1;31m# type: ignore[call-arg]  # mypy is not smart enough here\u001b[0m\u001b[1;33m\u001b[0m\u001b[1;33m\u001b[0m\u001b[0m\n\u001b[1;32m--> 247\u001b[1;33m         \u001b[1;32mraise\u001b[0m \u001b[0mexception_class\u001b[0m\u001b[1;33m(\u001b[0m\u001b[0mmessage\u001b[0m\u001b[1;33m,\u001b[0m \u001b[0mscreen\u001b[0m\u001b[1;33m,\u001b[0m \u001b[0mstacktrace\u001b[0m\u001b[1;33m)\u001b[0m\u001b[1;33m\u001b[0m\u001b[1;33m\u001b[0m\u001b[0m\n\u001b[0m\u001b[0;32m    248\u001b[0m \u001b[1;33m\u001b[0m\u001b[0m\n\u001b[0;32m    249\u001b[0m     \u001b[1;32mdef\u001b[0m \u001b[0m_value_or_default\u001b[0m\u001b[1;33m(\u001b[0m\u001b[0mself\u001b[0m\u001b[1;33m,\u001b[0m \u001b[0mobj\u001b[0m\u001b[1;33m:\u001b[0m \u001b[0mMapping\u001b[0m\u001b[1;33m[\u001b[0m\u001b[0m_KT\u001b[0m\u001b[1;33m,\u001b[0m \u001b[0m_VT\u001b[0m\u001b[1;33m]\u001b[0m\u001b[1;33m,\u001b[0m \u001b[0mkey\u001b[0m\u001b[1;33m:\u001b[0m \u001b[0m_KT\u001b[0m\u001b[1;33m,\u001b[0m \u001b[0mdefault\u001b[0m\u001b[1;33m:\u001b[0m \u001b[0m_VT\u001b[0m\u001b[1;33m)\u001b[0m \u001b[1;33m->\u001b[0m \u001b[0m_VT\u001b[0m\u001b[1;33m:\u001b[0m\u001b[1;33m\u001b[0m\u001b[1;33m\u001b[0m\u001b[0m\n",
      "\u001b[1;31mNoSuchElementException\u001b[0m: Message: no such element: Unable to locate element: {\"method\":\"xpath\",\"selector\":\"/html/body/div[1]/div[3]/div[1]/section/div/div/div/form/span[3]/div/div/div/div[1]/div[2]/input\"}\n  (Session info: chrome=102.0.5005.115)\nStacktrace:\nBacktrace:\n\tOrdinal0 [0x00DFD953+2414931]\n\tOrdinal0 [0x00D8F5E1+1963489]\n\tOrdinal0 [0x00C7C6B8+837304]\n\tOrdinal0 [0x00CA9500+1021184]\n\tOrdinal0 [0x00CA979B+1021851]\n\tOrdinal0 [0x00CD6502+1205506]\n\tOrdinal0 [0x00CC44E4+1131748]\n\tOrdinal0 [0x00CD4812+1198098]\n\tOrdinal0 [0x00CC42B6+1131190]\n\tOrdinal0 [0x00C9E860+976992]\n\tOrdinal0 [0x00C9F756+980822]\n\tGetHandleVerifier [0x0106CC62+2510274]\n\tGetHandleVerifier [0x0105F760+2455744]\n\tGetHandleVerifier [0x00E8EABA+551962]\n\tGetHandleVerifier [0x00E8D916+547446]\n\tOrdinal0 [0x00D95F3B+1990459]\n\tOrdinal0 [0x00D9A898+2009240]\n\tOrdinal0 [0x00D9A985+2009477]\n\tOrdinal0 [0x00DA3AD1+2046673]\n\tBaseThreadInitThunk [0x7503FA29+25]\n\tRtlGetAppContainerNamedObjectPath [0x77047A9E+286]\n\tRtlGetAppContainerNamedObjectPath [0x77047A6E+238]\n"
     ]
    }
   ],
   "source": [
    "search_field_loc=driver.find_element_by_xpath(\"/html/body/div[1]/div[3]/div[1]/section/div/div/div/form/span[3]/div/div/div/div[1]/div[2]/input\")\n",
    "search_field_loc.send_keys(\"Delhi\")"
   ]
  },
  {
   "cell_type": "code",
   "execution_count": 219,
   "id": "40284487",
   "metadata": {},
   "outputs": [
    {
     "data": {
      "text/plain": [
       "[<selenium.webdriver.remote.webelement.WebElement (session=\"0c4f0ee8667235482a2c825c9c7a82fd\", element=\"6824a73d-6b50-470d-a91d-5b0295b3d0e9\")>,\n",
       " <selenium.webdriver.remote.webelement.WebElement (session=\"0c4f0ee8667235482a2c825c9c7a82fd\", element=\"c6d80ce4-bf37-420f-81c6-7750ab487846\")>,\n",
       " <selenium.webdriver.remote.webelement.WebElement (session=\"0c4f0ee8667235482a2c825c9c7a82fd\", element=\"6bf693be-1bcb-4e02-acd9-47ea4833a367\")>,\n",
       " <selenium.webdriver.remote.webelement.WebElement (session=\"0c4f0ee8667235482a2c825c9c7a82fd\", element=\"5ee9f291-5df4-4b3c-91ff-25868ef57ea0\")>,\n",
       " <selenium.webdriver.remote.webelement.WebElement (session=\"0c4f0ee8667235482a2c825c9c7a82fd\", element=\"6ec5ab34-cad6-4967-9946-d35120a96f8e\")>,\n",
       " <selenium.webdriver.remote.webelement.WebElement (session=\"0c4f0ee8667235482a2c825c9c7a82fd\", element=\"a5d030bc-b328-4da5-b6c1-0b35d1a3ff7e\")>,\n",
       " <selenium.webdriver.remote.webelement.WebElement (session=\"0c4f0ee8667235482a2c825c9c7a82fd\", element=\"fbc8a095-bab4-46e9-b3cb-05dfaf055553\")>,\n",
       " <selenium.webdriver.remote.webelement.WebElement (session=\"0c4f0ee8667235482a2c825c9c7a82fd\", element=\"df7da3a6-de39-4e1e-976f-216d870baed0\")>,\n",
       " <selenium.webdriver.remote.webelement.WebElement (session=\"0c4f0ee8667235482a2c825c9c7a82fd\", element=\"1699b90b-7e9d-4b46-8c1a-c133ab3ee043\")>,\n",
       " <selenium.webdriver.remote.webelement.WebElement (session=\"0c4f0ee8667235482a2c825c9c7a82fd\", element=\"ec7b9582-bd4f-4f05-b49b-dc8dc4322a52\")>]"
      ]
     },
     "execution_count": 219,
     "metadata": {},
     "output_type": "execute_result"
    }
   ],
   "source": [
    "job_titles=[]\n",
    "company_names=[]\n",
    "salary_payouts=[]\n",
    "locations_list=[]\n",
    "\n",
    "title_tags=driver.find_elements_by_xpath(\"//a[@class='title fw500 ellipsis']\")\n",
    "title_tags[0:10]"
   ]
  },
  {
   "cell_type": "code",
   "execution_count": 220,
   "id": "5dda651e",
   "metadata": {},
   "outputs": [
    {
     "data": {
      "text/plain": [
       "['Senior Data Scientist',\n",
       " 'Data Science - Engineering Manager',\n",
       " 'AI Technologist Vacancy',\n",
       " 'Job Opening with Wipro For Data Scientist position',\n",
       " 'DATA Scientist with Fraud Analytics Experience',\n",
       " 'Data Scientist',\n",
       " 'Data Scientist',\n",
       " 'Data Scientist',\n",
       " 'Data Scientist',\n",
       " 'Principal - Data Scientist']"
      ]
     },
     "execution_count": 220,
     "metadata": {},
     "output_type": "execute_result"
    }
   ],
   "source": [
    "for i in title_tags:\n",
    "    title=i.text\n",
    "    job_titles.append(title)\n",
    "job_titles[0:10]"
   ]
  },
  {
   "cell_type": "code",
   "execution_count": 223,
   "id": "6f283d14",
   "metadata": {},
   "outputs": [
    {
     "data": {
      "text/plain": [
       "[<selenium.webdriver.remote.webelement.WebElement (session=\"0c4f0ee8667235482a2c825c9c7a82fd\", element=\"389258a1-b458-4467-a88a-2778164d7a20\")>,\n",
       " <selenium.webdriver.remote.webelement.WebElement (session=\"0c4f0ee8667235482a2c825c9c7a82fd\", element=\"14ec9767-2629-4749-801a-86df3bb9126a\")>,\n",
       " <selenium.webdriver.remote.webelement.WebElement (session=\"0c4f0ee8667235482a2c825c9c7a82fd\", element=\"0adcfa6f-5089-4f72-b604-28e441051b63\")>,\n",
       " <selenium.webdriver.remote.webelement.WebElement (session=\"0c4f0ee8667235482a2c825c9c7a82fd\", element=\"cc0d59dc-0221-43b9-ac06-d85467b98646\")>,\n",
       " <selenium.webdriver.remote.webelement.WebElement (session=\"0c4f0ee8667235482a2c825c9c7a82fd\", element=\"6a870ab5-8145-4c2d-bb37-60a7b611a872\")>,\n",
       " <selenium.webdriver.remote.webelement.WebElement (session=\"0c4f0ee8667235482a2c825c9c7a82fd\", element=\"2e0e3b95-c34d-4d81-bbe0-ef8290becafd\")>,\n",
       " <selenium.webdriver.remote.webelement.WebElement (session=\"0c4f0ee8667235482a2c825c9c7a82fd\", element=\"c42d310b-be90-4486-abfc-8fa4cc707387\")>,\n",
       " <selenium.webdriver.remote.webelement.WebElement (session=\"0c4f0ee8667235482a2c825c9c7a82fd\", element=\"245abe11-dfdd-4685-bc02-d68931bca69b\")>,\n",
       " <selenium.webdriver.remote.webelement.WebElement (session=\"0c4f0ee8667235482a2c825c9c7a82fd\", element=\"55dd3ab8-9f46-4a1f-bc49-a53a489f14c2\")>,\n",
       " <selenium.webdriver.remote.webelement.WebElement (session=\"0c4f0ee8667235482a2c825c9c7a82fd\", element=\"a1ba4b43-1fd6-411e-90bb-83d7676ab91e\")>]"
      ]
     },
     "execution_count": 223,
     "metadata": {},
     "output_type": "execute_result"
    }
   ],
   "source": [
    "companies_name=driver.find_elements_by_xpath(\"//a[@class='subTitle ellipsis fleft']\")\n",
    "companies_name[0:10]"
   ]
  },
  {
   "cell_type": "code",
   "execution_count": 225,
   "id": "3c70cd62",
   "metadata": {},
   "outputs": [
    {
     "data": {
      "text/plain": [
       "['Baker Hughes',\n",
       " 'Paytm',\n",
       " 'Wipro',\n",
       " 'Wipro',\n",
       " 'Concentrix Daksh Services',\n",
       " 'Applied Materials',\n",
       " 'Applied Materials',\n",
       " 'Applied Materials',\n",
       " 'Applied Materials',\n",
       " 'Schneider Electric']"
      ]
     },
     "execution_count": 225,
     "metadata": {},
     "output_type": "execute_result"
    }
   ],
   "source": [
    "for i in  companies_name:\n",
    "    company=i.text\n",
    "    company_names.append(company)\n",
    "company_names[0:10]"
   ]
  },
  {
   "cell_type": "code",
   "execution_count": null,
   "id": "3e428c98",
   "metadata": {},
   "outputs": [],
   "source": [
    "salary_tags=driver.find_element_by_xpath(\"\")\n",
    "salary_tags[0:10]\n",
    "\n",
    "for i in salary_tags:\n",
    "   salary = i.text\n",
    "   salary_payouts.append('salary')\n",
    "salary_payouts[0:10]"
   ]
  },
  {
   "cell_type": "code",
   "execution_count": 240,
   "id": "9a791989",
   "metadata": {},
   "outputs": [
    {
     "data": {
      "text/plain": [
       "[<selenium.webdriver.remote.webelement.WebElement (session=\"93c250aae36717c8166716568f0ae64a\", element=\"e26d572e-d311-42cd-8453-90e6dc779f03\")>,\n",
       " <selenium.webdriver.remote.webelement.WebElement (session=\"93c250aae36717c8166716568f0ae64a\", element=\"c37ca846-03e8-443b-9a2d-35e7a6dbd551\")>,\n",
       " <selenium.webdriver.remote.webelement.WebElement (session=\"93c250aae36717c8166716568f0ae64a\", element=\"24209305-0303-4344-85ac-9c367d155d2d\")>,\n",
       " <selenium.webdriver.remote.webelement.WebElement (session=\"93c250aae36717c8166716568f0ae64a\", element=\"1fd1ed33-1b86-4841-976e-700221b4c4d6\")>,\n",
       " <selenium.webdriver.remote.webelement.WebElement (session=\"93c250aae36717c8166716568f0ae64a\", element=\"c2807367-46f5-415f-b591-f1c5cba7e0b9\")>,\n",
       " <selenium.webdriver.remote.webelement.WebElement (session=\"93c250aae36717c8166716568f0ae64a\", element=\"592a83c8-3a54-4728-8391-400e8d4bcbbb\")>,\n",
       " <selenium.webdriver.remote.webelement.WebElement (session=\"93c250aae36717c8166716568f0ae64a\", element=\"650c21e2-ae86-4814-997b-0939014a800a\")>,\n",
       " <selenium.webdriver.remote.webelement.WebElement (session=\"93c250aae36717c8166716568f0ae64a\", element=\"cf584c12-f9cd-4ee0-8ded-0c062c61cf93\")>,\n",
       " <selenium.webdriver.remote.webelement.WebElement (session=\"93c250aae36717c8166716568f0ae64a\", element=\"793767bc-a9d7-46e8-837b-864ef97c0ac4\")>,\n",
       " <selenium.webdriver.remote.webelement.WebElement (session=\"93c250aae36717c8166716568f0ae64a\", element=\"c3175e6a-ff92-4f70-aeea-b339774e719a\")>]"
      ]
     },
     "execution_count": 240,
     "metadata": {},
     "output_type": "execute_result"
    }
   ],
   "source": [
    "location_tags=driver.find_elements_by_xpath(\"//li[@class='fleft grey-text br2 placeHolderLi location']/span\")\n",
    "location_tags[0:10]"
   ]
  },
  {
   "cell_type": "code",
   "execution_count": 241,
   "id": "5a8a3f72",
   "metadata": {},
   "outputs": [
    {
     "data": {
      "text/plain": [
       "['Mumbai, Bangalore/Bengaluru',\n",
       " 'Noida, Mumbai, Bangalore/Bengaluru',\n",
       " 'Kolkata, Hyderabad/Secunderabad, Pune, Ahmedabad, Chennai, Bangalore/Bengaluru, Delhi / NCR, Mumbai (All Areas)',\n",
       " 'Kolkata, Hyderabad/Secunderabad, Chennai, Bangalore/Bengaluru, Delhi / NCR, Mumbai (All Areas)',\n",
       " 'Bangalore/Bengaluru',\n",
       " 'Bangalore/Bengaluru',\n",
       " 'Bangalore/Bengaluru',\n",
       " 'Bangalore/Bengaluru',\n",
       " 'Bangalore/Bengaluru',\n",
       " 'Bangalore/Bengaluru']"
      ]
     },
     "execution_count": 241,
     "metadata": {},
     "output_type": "execute_result"
    }
   ],
   "source": [
    "for i in location_tags:\n",
    "    location=i.text\n",
    "    locations_list.append(\"location\")\n",
    "locations_list[0:10]"
   ]
  },
  {
   "cell_type": "code",
   "execution_count": null,
   "id": "7cfa6db0",
   "metadata": {},
   "outputs": [],
   "source": [
    "jobs=pd.DataFrame()\n",
    "jobs[\"title\"]=job_titles\n",
    "jobs[\"company\"]=company_names\n",
    "jobs[\"slary\"]=salary_payouts\n",
    "jobs[\"location\"]=locations_list\n",
    "\n",
    "jobs"
   ]
  },
  {
   "cell_type": "code",
   "execution_count": 242,
   "id": "024c7f02",
   "metadata": {},
   "outputs": [],
   "source": [
    "\n",
    "\n",
    "\n",
    "4.\n",
    "\n",
    "\n",
    "import selenium\n",
    "from selenium import webdriver\n",
    "import pandas as pd"
   ]
  },
  {
   "cell_type": "code",
   "execution_count": 252,
   "id": "53f08468",
   "metadata": {},
   "outputs": [],
   "source": [
    "driver=webdriver.Chrome(r\"C:\\web driver\\chromedriver.exe\")\n",
    "driver.get(\"https://www.flipkart.com/\")"
   ]
  },
  {
   "cell_type": "code",
   "execution_count": 254,
   "id": "0c4a6845",
   "metadata": {},
   "outputs": [],
   "source": [
    "cross_button=driver.find_element_by_class_name(\"_2QfC02\")\n",
    "cross_button.click()"
   ]
  },
  {
   "cell_type": "code",
   "execution_count": 256,
   "id": "9a2b5215",
   "metadata": {},
   "outputs": [],
   "source": [
    "search_field_product=driver.find_element_by_class_name(\"_3704LK\")\n",
    "search_field_product.send_keys()"
   ]
  },
  {
   "cell_type": "code",
   "execution_count": 263,
   "id": "81a7838e",
   "metadata": {},
   "outputs": [],
   "source": [
    "brand_names=[]\n",
    "products_description=[]\n",
    "products_price=[]"
   ]
  },
  {
   "cell_type": "code",
   "execution_count": 264,
   "id": "d932e7c7",
   "metadata": {},
   "outputs": [
    {
     "data": {
      "text/plain": [
       "[]"
      ]
     },
     "execution_count": 264,
     "metadata": {},
     "output_type": "execute_result"
    }
   ],
   "source": [
    "title_tags=driver.find_elements_by_xpath(\"//div[@class='_2WkVRV']\")\n",
    "title_tags[0:40]\n",
    "\n",
    "for i in title_tags:\n",
    "    title=i.text\n",
    "    brand_names.append(title)\n",
    "brand_names[0:40]"
   ]
  },
  {
   "cell_type": "code",
   "execution_count": 265,
   "id": "060ff00c",
   "metadata": {},
   "outputs": [
    {
     "data": {
      "text/plain": [
       "[]"
      ]
     },
     "execution_count": 265,
     "metadata": {},
     "output_type": "execute_result"
    }
   ],
   "source": [
    "product_content=driver.find_elements_by_xpath(\"//a[@class='IRpwTa']\")\n",
    "product_content[0:40]\n",
    "\n",
    "for i in product_content:\n",
    "    product=i.text\n",
    "    products_description.append(product)\n",
    "products_description[0:40]"
   ]
  },
  {
   "cell_type": "code",
   "execution_count": 266,
   "id": "d8d60a83",
   "metadata": {},
   "outputs": [
    {
     "data": {
      "text/plain": [
       "[]"
      ]
     },
     "execution_count": 266,
     "metadata": {},
     "output_type": "execute_result"
    }
   ],
   "source": [
    "price=driver.find_elements_by_xpath(\"//a[@class='_3bPFwb']\")\n",
    "price[0:40]\n",
    "\n",
    "for i in price:\n",
    "    p=i.text\n",
    "    products_price.append(p)\n",
    "products_price[0:40]"
   ]
  },
  {
   "cell_type": "code",
   "execution_count": 267,
   "id": "c1a1cb20",
   "metadata": {},
   "outputs": [
    {
     "ename": "NoSuchElementException",
     "evalue": "Message: no such element: Unable to locate element: {\"method\":\"css selector\",\"selector\":\"._1LKTO3\"}\n  (Session info: chrome=102.0.5005.115)\nStacktrace:\nBacktrace:\n\tOrdinal0 [0x00DFD953+2414931]\n\tOrdinal0 [0x00D8F5E1+1963489]\n\tOrdinal0 [0x00C7C6B8+837304]\n\tOrdinal0 [0x00CA9500+1021184]\n\tOrdinal0 [0x00CA979B+1021851]\n\tOrdinal0 [0x00CD6502+1205506]\n\tOrdinal0 [0x00CC44E4+1131748]\n\tOrdinal0 [0x00CD4812+1198098]\n\tOrdinal0 [0x00CC42B6+1131190]\n\tOrdinal0 [0x00C9E860+976992]\n\tOrdinal0 [0x00C9F756+980822]\n\tGetHandleVerifier [0x0106CC62+2510274]\n\tGetHandleVerifier [0x0105F760+2455744]\n\tGetHandleVerifier [0x00E8EABA+551962]\n\tGetHandleVerifier [0x00E8D916+547446]\n\tOrdinal0 [0x00D95F3B+1990459]\n\tOrdinal0 [0x00D9A898+2009240]\n\tOrdinal0 [0x00D9A985+2009477]\n\tOrdinal0 [0x00DA3AD1+2046673]\n\tBaseThreadInitThunk [0x7503FA29+25]\n\tRtlGetAppContainerNamedObjectPath [0x77047A9E+286]\n\tRtlGetAppContainerNamedObjectPath [0x77047A6E+238]\n",
     "output_type": "error",
     "traceback": [
      "\u001b[1;31m---------------------------------------------------------------------------\u001b[0m",
      "\u001b[1;31mNoSuchElementException\u001b[0m                    Traceback (most recent call last)",
      "\u001b[1;32mC:\\Users\\VIKASK~1\\AppData\\Local\\Temp/ipykernel_10864/482750855.py\u001b[0m in \u001b[0;36m<module>\u001b[1;34m\u001b[0m\n\u001b[1;32m----> 1\u001b[1;33m \u001b[0mnext_button\u001b[0m\u001b[1;33m=\u001b[0m\u001b[0mdriver\u001b[0m\u001b[1;33m.\u001b[0m\u001b[0mfind_element_by_class_name\u001b[0m\u001b[1;33m(\u001b[0m\u001b[1;34m\"_1LKTO3\"\u001b[0m\u001b[1;33m)\u001b[0m\u001b[1;33m\u001b[0m\u001b[1;33m\u001b[0m\u001b[0m\n\u001b[0m\u001b[0;32m      2\u001b[0m \u001b[0mnext_button\u001b[0m\u001b[1;33m.\u001b[0m\u001b[0mclick\u001b[0m\u001b[1;33m(\u001b[0m\u001b[1;33m)\u001b[0m\u001b[1;33m\u001b[0m\u001b[1;33m\u001b[0m\u001b[0m\n",
      "\u001b[1;32m~\\anaconda3\\lib\\site-packages\\selenium\\webdriver\\remote\\webdriver.py\u001b[0m in \u001b[0;36mfind_element_by_class_name\u001b[1;34m(self, name)\u001b[0m\n\u001b[0;32m    764\u001b[0m             \u001b[0mstacklevel\u001b[0m\u001b[1;33m=\u001b[0m\u001b[1;36m2\u001b[0m\u001b[1;33m,\u001b[0m\u001b[1;33m\u001b[0m\u001b[1;33m\u001b[0m\u001b[0m\n\u001b[0;32m    765\u001b[0m         )\n\u001b[1;32m--> 766\u001b[1;33m         \u001b[1;32mreturn\u001b[0m \u001b[0mself\u001b[0m\u001b[1;33m.\u001b[0m\u001b[0mfind_element\u001b[0m\u001b[1;33m(\u001b[0m\u001b[0mby\u001b[0m\u001b[1;33m=\u001b[0m\u001b[0mBy\u001b[0m\u001b[1;33m.\u001b[0m\u001b[0mCLASS_NAME\u001b[0m\u001b[1;33m,\u001b[0m \u001b[0mvalue\u001b[0m\u001b[1;33m=\u001b[0m\u001b[0mname\u001b[0m\u001b[1;33m)\u001b[0m\u001b[1;33m\u001b[0m\u001b[1;33m\u001b[0m\u001b[0m\n\u001b[0m\u001b[0;32m    767\u001b[0m \u001b[1;33m\u001b[0m\u001b[0m\n\u001b[0;32m    768\u001b[0m     \u001b[1;32mdef\u001b[0m \u001b[0mfind_elements_by_class_name\u001b[0m\u001b[1;33m(\u001b[0m\u001b[0mself\u001b[0m\u001b[1;33m,\u001b[0m \u001b[0mname\u001b[0m\u001b[1;33m)\u001b[0m \u001b[1;33m->\u001b[0m \u001b[0mList\u001b[0m\u001b[1;33m[\u001b[0m\u001b[0mWebElement\u001b[0m\u001b[1;33m]\u001b[0m\u001b[1;33m:\u001b[0m\u001b[1;33m\u001b[0m\u001b[1;33m\u001b[0m\u001b[0m\n",
      "\u001b[1;32m~\\anaconda3\\lib\\site-packages\\selenium\\webdriver\\remote\\webdriver.py\u001b[0m in \u001b[0;36mfind_element\u001b[1;34m(self, by, value)\u001b[0m\n\u001b[0;32m   1249\u001b[0m             \u001b[0mvalue\u001b[0m \u001b[1;33m=\u001b[0m \u001b[1;34m'[name=\"%s\"]'\u001b[0m \u001b[1;33m%\u001b[0m \u001b[0mvalue\u001b[0m\u001b[1;33m\u001b[0m\u001b[1;33m\u001b[0m\u001b[0m\n\u001b[0;32m   1250\u001b[0m \u001b[1;33m\u001b[0m\u001b[0m\n\u001b[1;32m-> 1251\u001b[1;33m         return self.execute(Command.FIND_ELEMENT, {\n\u001b[0m\u001b[0;32m   1252\u001b[0m             \u001b[1;34m'using'\u001b[0m\u001b[1;33m:\u001b[0m \u001b[0mby\u001b[0m\u001b[1;33m,\u001b[0m\u001b[1;33m\u001b[0m\u001b[1;33m\u001b[0m\u001b[0m\n\u001b[0;32m   1253\u001b[0m             'value': value})['value']\n",
      "\u001b[1;32m~\\anaconda3\\lib\\site-packages\\selenium\\webdriver\\remote\\webdriver.py\u001b[0m in \u001b[0;36mexecute\u001b[1;34m(self, driver_command, params)\u001b[0m\n\u001b[0;32m    428\u001b[0m         \u001b[0mresponse\u001b[0m \u001b[1;33m=\u001b[0m \u001b[0mself\u001b[0m\u001b[1;33m.\u001b[0m\u001b[0mcommand_executor\u001b[0m\u001b[1;33m.\u001b[0m\u001b[0mexecute\u001b[0m\u001b[1;33m(\u001b[0m\u001b[0mdriver_command\u001b[0m\u001b[1;33m,\u001b[0m \u001b[0mparams\u001b[0m\u001b[1;33m)\u001b[0m\u001b[1;33m\u001b[0m\u001b[1;33m\u001b[0m\u001b[0m\n\u001b[0;32m    429\u001b[0m         \u001b[1;32mif\u001b[0m \u001b[0mresponse\u001b[0m\u001b[1;33m:\u001b[0m\u001b[1;33m\u001b[0m\u001b[1;33m\u001b[0m\u001b[0m\n\u001b[1;32m--> 430\u001b[1;33m             \u001b[0mself\u001b[0m\u001b[1;33m.\u001b[0m\u001b[0merror_handler\u001b[0m\u001b[1;33m.\u001b[0m\u001b[0mcheck_response\u001b[0m\u001b[1;33m(\u001b[0m\u001b[0mresponse\u001b[0m\u001b[1;33m)\u001b[0m\u001b[1;33m\u001b[0m\u001b[1;33m\u001b[0m\u001b[0m\n\u001b[0m\u001b[0;32m    431\u001b[0m             response['value'] = self._unwrap_value(\n\u001b[0;32m    432\u001b[0m                 response.get('value', None))\n",
      "\u001b[1;32m~\\anaconda3\\lib\\site-packages\\selenium\\webdriver\\remote\\errorhandler.py\u001b[0m in \u001b[0;36mcheck_response\u001b[1;34m(self, response)\u001b[0m\n\u001b[0;32m    245\u001b[0m                 \u001b[0malert_text\u001b[0m \u001b[1;33m=\u001b[0m \u001b[0mvalue\u001b[0m\u001b[1;33m[\u001b[0m\u001b[1;34m'alert'\u001b[0m\u001b[1;33m]\u001b[0m\u001b[1;33m.\u001b[0m\u001b[0mget\u001b[0m\u001b[1;33m(\u001b[0m\u001b[1;34m'text'\u001b[0m\u001b[1;33m)\u001b[0m\u001b[1;33m\u001b[0m\u001b[1;33m\u001b[0m\u001b[0m\n\u001b[0;32m    246\u001b[0m             \u001b[1;32mraise\u001b[0m \u001b[0mexception_class\u001b[0m\u001b[1;33m(\u001b[0m\u001b[0mmessage\u001b[0m\u001b[1;33m,\u001b[0m \u001b[0mscreen\u001b[0m\u001b[1;33m,\u001b[0m \u001b[0mstacktrace\u001b[0m\u001b[1;33m,\u001b[0m \u001b[0malert_text\u001b[0m\u001b[1;33m)\u001b[0m  \u001b[1;31m# type: ignore[call-arg]  # mypy is not smart enough here\u001b[0m\u001b[1;33m\u001b[0m\u001b[1;33m\u001b[0m\u001b[0m\n\u001b[1;32m--> 247\u001b[1;33m         \u001b[1;32mraise\u001b[0m \u001b[0mexception_class\u001b[0m\u001b[1;33m(\u001b[0m\u001b[0mmessage\u001b[0m\u001b[1;33m,\u001b[0m \u001b[0mscreen\u001b[0m\u001b[1;33m,\u001b[0m \u001b[0mstacktrace\u001b[0m\u001b[1;33m)\u001b[0m\u001b[1;33m\u001b[0m\u001b[1;33m\u001b[0m\u001b[0m\n\u001b[0m\u001b[0;32m    248\u001b[0m \u001b[1;33m\u001b[0m\u001b[0m\n\u001b[0;32m    249\u001b[0m     \u001b[1;32mdef\u001b[0m \u001b[0m_value_or_default\u001b[0m\u001b[1;33m(\u001b[0m\u001b[0mself\u001b[0m\u001b[1;33m,\u001b[0m \u001b[0mobj\u001b[0m\u001b[1;33m:\u001b[0m \u001b[0mMapping\u001b[0m\u001b[1;33m[\u001b[0m\u001b[0m_KT\u001b[0m\u001b[1;33m,\u001b[0m \u001b[0m_VT\u001b[0m\u001b[1;33m]\u001b[0m\u001b[1;33m,\u001b[0m \u001b[0mkey\u001b[0m\u001b[1;33m:\u001b[0m \u001b[0m_KT\u001b[0m\u001b[1;33m,\u001b[0m \u001b[0mdefault\u001b[0m\u001b[1;33m:\u001b[0m \u001b[0m_VT\u001b[0m\u001b[1;33m)\u001b[0m \u001b[1;33m->\u001b[0m \u001b[0m_VT\u001b[0m\u001b[1;33m:\u001b[0m\u001b[1;33m\u001b[0m\u001b[1;33m\u001b[0m\u001b[0m\n",
      "\u001b[1;31mNoSuchElementException\u001b[0m: Message: no such element: Unable to locate element: {\"method\":\"css selector\",\"selector\":\"._1LKTO3\"}\n  (Session info: chrome=102.0.5005.115)\nStacktrace:\nBacktrace:\n\tOrdinal0 [0x00DFD953+2414931]\n\tOrdinal0 [0x00D8F5E1+1963489]\n\tOrdinal0 [0x00C7C6B8+837304]\n\tOrdinal0 [0x00CA9500+1021184]\n\tOrdinal0 [0x00CA979B+1021851]\n\tOrdinal0 [0x00CD6502+1205506]\n\tOrdinal0 [0x00CC44E4+1131748]\n\tOrdinal0 [0x00CD4812+1198098]\n\tOrdinal0 [0x00CC42B6+1131190]\n\tOrdinal0 [0x00C9E860+976992]\n\tOrdinal0 [0x00C9F756+980822]\n\tGetHandleVerifier [0x0106CC62+2510274]\n\tGetHandleVerifier [0x0105F760+2455744]\n\tGetHandleVerifier [0x00E8EABA+551962]\n\tGetHandleVerifier [0x00E8D916+547446]\n\tOrdinal0 [0x00D95F3B+1990459]\n\tOrdinal0 [0x00D9A898+2009240]\n\tOrdinal0 [0x00D9A985+2009477]\n\tOrdinal0 [0x00DA3AD1+2046673]\n\tBaseThreadInitThunk [0x7503FA29+25]\n\tRtlGetAppContainerNamedObjectPath [0x77047A9E+286]\n\tRtlGetAppContainerNamedObjectPath [0x77047A6E+238]\n"
     ]
    }
   ],
   "source": [
    "next_button=driver.find_element_by_class_name(\"_1LKTO3\")\n",
    "next_button.click()"
   ]
  },
  {
   "cell_type": "markdown",
   "id": "57648111",
   "metadata": {},
   "source": [
    "# similarly for [41:80]"
   ]
  },
  {
   "cell_type": "code",
   "execution_count": 269,
   "id": "9d0fdf05",
   "metadata": {},
   "outputs": [
    {
     "data": {
      "text/html": [
       "<div>\n",
       "<style scoped>\n",
       "    .dataframe tbody tr th:only-of-type {\n",
       "        vertical-align: middle;\n",
       "    }\n",
       "\n",
       "    .dataframe tbody tr th {\n",
       "        vertical-align: top;\n",
       "    }\n",
       "\n",
       "    .dataframe thead th {\n",
       "        text-align: right;\n",
       "    }\n",
       "</style>\n",
       "<table border=\"1\" class=\"dataframe\">\n",
       "  <thead>\n",
       "    <tr style=\"text-align: right;\">\n",
       "      <th></th>\n",
       "      <th>Brand</th>\n",
       "      <th>product description</th>\n",
       "      <th>price</th>\n",
       "    </tr>\n",
       "  </thead>\n",
       "  <tbody>\n",
       "  </tbody>\n",
       "</table>\n",
       "</div>"
      ],
      "text/plain": [
       "Empty DataFrame\n",
       "Columns: [Brand, product description, price]\n",
       "Index: []"
      ]
     },
     "execution_count": 269,
     "metadata": {},
     "output_type": "execute_result"
    }
   ],
   "source": [
    "data=pd.DataFrame()\n",
    "data['Brand']=brand_names\n",
    "data['product description']=products_description\n",
    "data['price']=products_price\n",
    "\n",
    "data"
   ]
  },
  {
   "cell_type": "code",
   "execution_count": 6,
   "id": "860d9903",
   "metadata": {},
   "outputs": [],
   "source": [
    "\n",
    "\n",
    "\n",
    "\n",
    "\n",
    "5.\n",
    "\n",
    "import selenium \n",
    "from selenium import webdriver\n",
    "\n",
    "\n",
    "driver=webdriver.Chrome(r\"C:\\web driver\\chromedriver.exe\")\n",
    "driver.get(\"https://www.flipkart.com/\")\n",
    "\n",
    "\n"
   ]
  },
  {
   "cell_type": "code",
   "execution_count": 7,
   "id": "2f06bbc8",
   "metadata": {},
   "outputs": [],
   "source": [
    "import warnings\n",
    "warnings.filterwarnings('ignore')\n",
    "\n",
    "cross_button = driver.find_element_by_xpath('/html/body/div[2]/div/div/button')\n",
    "cross_button.click()"
   ]
  },
  {
   "cell_type": "code",
   "execution_count": 9,
   "id": "4d49e074",
   "metadata": {},
   "outputs": [],
   "source": [
    "search_field_designation=driver.find_element_by_xpath('/html/body/div[1]/div/div[1]/div[1]/div[2]/div[2]/form/div/div/input')\n",
    "search_field_designation.send_keys(\"iphone11\")"
   ]
  },
  {
   "cell_type": "code",
   "execution_count": 10,
   "id": "f67ebb33",
   "metadata": {},
   "outputs": [],
   "source": [
    "search_button=driver.find_element_by_xpath(\"/html/body/div/div/div[1]/div[1]/div[2]/div[2]/form/div/button\")\n",
    "search_button.click()"
   ]
  },
  {
   "cell_type": "code",
   "execution_count": 13,
   "id": "53bc8f38",
   "metadata": {},
   "outputs": [],
   "source": [
    "phone_tap=driver.find_element_by_xpath(\"/html/body/div/div/div[3]/div[1]/div[2]/div[2]/div/div/div/a/div[1]/div[1]/div/div\")\n",
    "phone_tap.click()"
   ]
  },
  {
   "cell_type": "code",
   "execution_count": 31,
   "id": "8178a8db",
   "metadata": {},
   "outputs": [],
   "source": [
    "phone_ratings=[]\n",
    "review_summary=[]\n",
    "full_review=[]"
   ]
  },
  {
   "cell_type": "code",
   "execution_count": 35,
   "id": "5e40b156",
   "metadata": {},
   "outputs": [
    {
     "data": {
      "text/plain": [
       "[]"
      ]
     },
     "execution_count": 35,
     "metadata": {},
     "output_type": "execute_result"
    }
   ],
   "source": [
    "rating_phone=driver.find_elements_by_xpath(\"//div[@class='_3LWZlK _1BLPMq']\")\n",
    "rating_phone[0:10]"
   ]
  },
  {
   "cell_type": "code",
   "execution_count": null,
   "id": "841a3f34",
   "metadata": {},
   "outputs": [],
   "source": [
    "for i in rating_phone:\n",
    "    phone=i.text\n",
    "    phone_ratings.append(phone)\n",
    "phone_ratings[0:10]"
   ]
  },
  {
   "cell_type": "code",
   "execution_count": null,
   "id": "095764af",
   "metadata": {},
   "outputs": [],
   "source": [
    "summary_review=driver.find_elements_by_xpath(\"//p[@class='_2-N8zT']\")\n",
    "summary_review[0:10]\n",
    "\n",
    "for i summary_review:\n",
    "    summary=i.text\n",
    "    review_summary.append(summary)\n",
    "review_summary[0:10]"
   ]
  },
  {
   "cell_type": "code",
   "execution_count": null,
   "id": "3f3f4b95",
   "metadata": {},
   "outputs": [],
   "source": [
    "full_reviews=driver.find_elements_by_xpath(\"\")\n",
    "full_reviews[0:10]\n",
    "\n",
    "for i in full_reviews:\n",
    "    full=i.text\n",
    "    full_review.append(full)\n",
    "full_review[0:10]"
   ]
  },
  {
   "cell_type": "code",
   "execution_count": null,
   "id": "72094120",
   "metadata": {},
   "outputs": [],
   "source": [
    "100_reviews=pd.DataFrame\n",
    "100_reviews[\"ratings\"]=phone_ratings\n",
    "100_reviews[\"summary\"]=review_summary\n",
    "100_reviews[\"full_summary\"]=full_review\n",
    "\n",
    "100_reviews"
   ]
  },
  {
   "cell_type": "code",
   "execution_count": 2,
   "id": "5732a64e",
   "metadata": {},
   "outputs": [],
   "source": [
    " \n",
    "    \n",
    "    \n",
    "    \n",
    "    \n",
    "    \n",
    "6.\n",
    "\n",
    "\n",
    "\n",
    "import selenium\n",
    "from selenium import webdriver\n",
    "import pandas \n",
    "import warnings\n",
    "warnings.filterwarnings('ignore')\n",
    "\n",
    "\n",
    "driver=webdriver.Chrome(r\"C:\\web driver\\chromedriver.exe\")\n",
    "driver.get(\"https://www.flipkart.com/\")"
   ]
  },
  {
   "cell_type": "code",
   "execution_count": 3,
   "id": "dbae34f5",
   "metadata": {},
   "outputs": [],
   "source": [
    "cross_button = driver.find_element_by_xpath('/html/body/div[2]/div/div/button')\n",
    "cross_button.click()\n",
    "\n",
    "search_field_designation=driver.find_element_by_xpath(\"/html/body/div/div/div[1]/div[1]/div[2]/div[2]/form/div/div/input\")\n",
    "search_field_designation.send_keys(\"sneakers\")"
   ]
  },
  {
   "cell_type": "code",
   "execution_count": 4,
   "id": "49eae554",
   "metadata": {},
   "outputs": [],
   "source": [
    "search_button=driver.find_element_by_xpath(\"/html/body/div/div/div[1]/div[1]/div[2]/div[2]/form/div/button\")\n",
    "search_button.click()"
   ]
  },
  {
   "cell_type": "code",
   "execution_count": 5,
   "id": "251065c8",
   "metadata": {},
   "outputs": [],
   "source": [
    "brand=[]\n",
    "product_description=[]\n",
    "price=[]\n",
    "percent_discount=[]"
   ]
  },
  {
   "cell_type": "code",
   "execution_count": 6,
   "id": "27b47398",
   "metadata": {},
   "outputs": [
    {
     "data": {
      "text/plain": [
       "[<selenium.webdriver.remote.webelement.WebElement (session=\"e33ec51eb9bc8b9f81bee9d9acea1154\", element=\"0ddf789a-98e4-484f-9197-c923408438d0\")>,\n",
       " <selenium.webdriver.remote.webelement.WebElement (session=\"e33ec51eb9bc8b9f81bee9d9acea1154\", element=\"ac29e255-3088-489c-aa99-324a5fb6b5e7\")>,\n",
       " <selenium.webdriver.remote.webelement.WebElement (session=\"e33ec51eb9bc8b9f81bee9d9acea1154\", element=\"c61ee40e-1b68-46a0-ba1d-599cb158d46e\")>,\n",
       " <selenium.webdriver.remote.webelement.WebElement (session=\"e33ec51eb9bc8b9f81bee9d9acea1154\", element=\"463df3fb-d4e6-4f7b-ac4c-74df8a7d2102\")>,\n",
       " <selenium.webdriver.remote.webelement.WebElement (session=\"e33ec51eb9bc8b9f81bee9d9acea1154\", element=\"abf06eda-2720-4ce6-91b9-a0b1170d7535\")>,\n",
       " <selenium.webdriver.remote.webelement.WebElement (session=\"e33ec51eb9bc8b9f81bee9d9acea1154\", element=\"f96f8649-8d0f-4990-9ff8-fb060f42892a\")>,\n",
       " <selenium.webdriver.remote.webelement.WebElement (session=\"e33ec51eb9bc8b9f81bee9d9acea1154\", element=\"273d8e00-85b2-4fb4-bc0f-73593fcc4512\")>,\n",
       " <selenium.webdriver.remote.webelement.WebElement (session=\"e33ec51eb9bc8b9f81bee9d9acea1154\", element=\"68201098-6f4c-457c-8b11-e14b830f369d\")>,\n",
       " <selenium.webdriver.remote.webelement.WebElement (session=\"e33ec51eb9bc8b9f81bee9d9acea1154\", element=\"73f42d4e-d35f-41d0-a726-719f1027b10c\")>,\n",
       " <selenium.webdriver.remote.webelement.WebElement (session=\"e33ec51eb9bc8b9f81bee9d9acea1154\", element=\"29c81d2c-9a17-45cd-88dc-d0f3edd0e516\")>,\n",
       " <selenium.webdriver.remote.webelement.WebElement (session=\"e33ec51eb9bc8b9f81bee9d9acea1154\", element=\"681166da-615a-4136-8325-e5bb5a29a68e\")>,\n",
       " <selenium.webdriver.remote.webelement.WebElement (session=\"e33ec51eb9bc8b9f81bee9d9acea1154\", element=\"1b1e3850-c1f4-4fd9-a095-c5058d21a39a\")>,\n",
       " <selenium.webdriver.remote.webelement.WebElement (session=\"e33ec51eb9bc8b9f81bee9d9acea1154\", element=\"908dc2a6-6962-41b8-a386-1b7f186e7b37\")>,\n",
       " <selenium.webdriver.remote.webelement.WebElement (session=\"e33ec51eb9bc8b9f81bee9d9acea1154\", element=\"91c9ef24-3ff7-4ae7-a703-da571adbc1ce\")>,\n",
       " <selenium.webdriver.remote.webelement.WebElement (session=\"e33ec51eb9bc8b9f81bee9d9acea1154\", element=\"9e5a34bf-8318-4aea-a518-139396e25cb9\")>,\n",
       " <selenium.webdriver.remote.webelement.WebElement (session=\"e33ec51eb9bc8b9f81bee9d9acea1154\", element=\"d80fda41-73b6-4a21-a00d-0891d3db4e2c\")>,\n",
       " <selenium.webdriver.remote.webelement.WebElement (session=\"e33ec51eb9bc8b9f81bee9d9acea1154\", element=\"61764f9e-e379-47f3-a0ac-0ab1aa8a6797\")>,\n",
       " <selenium.webdriver.remote.webelement.WebElement (session=\"e33ec51eb9bc8b9f81bee9d9acea1154\", element=\"345cadae-2897-45ac-b067-cbb3e58a7e46\")>,\n",
       " <selenium.webdriver.remote.webelement.WebElement (session=\"e33ec51eb9bc8b9f81bee9d9acea1154\", element=\"96e1bc18-1cd5-4d39-a148-ab8cd9c92c71\")>,\n",
       " <selenium.webdriver.remote.webelement.WebElement (session=\"e33ec51eb9bc8b9f81bee9d9acea1154\", element=\"711578c1-1a98-469a-9248-661b6566a96e\")>,\n",
       " <selenium.webdriver.remote.webelement.WebElement (session=\"e33ec51eb9bc8b9f81bee9d9acea1154\", element=\"370a66b7-79dc-4145-a774-91f5ae90fa87\")>,\n",
       " <selenium.webdriver.remote.webelement.WebElement (session=\"e33ec51eb9bc8b9f81bee9d9acea1154\", element=\"8cd86977-e6bb-457b-9af4-0dcdfc349ce0\")>,\n",
       " <selenium.webdriver.remote.webelement.WebElement (session=\"e33ec51eb9bc8b9f81bee9d9acea1154\", element=\"9ab07446-0c11-44a5-868b-cf171c233dc9\")>,\n",
       " <selenium.webdriver.remote.webelement.WebElement (session=\"e33ec51eb9bc8b9f81bee9d9acea1154\", element=\"71b58257-56eb-4bb2-991c-523ff2612c58\")>,\n",
       " <selenium.webdriver.remote.webelement.WebElement (session=\"e33ec51eb9bc8b9f81bee9d9acea1154\", element=\"0afd8dc3-bf42-4030-9265-e5197393847f\")>,\n",
       " <selenium.webdriver.remote.webelement.WebElement (session=\"e33ec51eb9bc8b9f81bee9d9acea1154\", element=\"35926f40-0b03-41b4-a473-96ed1ce4be53\")>,\n",
       " <selenium.webdriver.remote.webelement.WebElement (session=\"e33ec51eb9bc8b9f81bee9d9acea1154\", element=\"4d70da55-3ea1-496b-b44a-c12acae36b67\")>,\n",
       " <selenium.webdriver.remote.webelement.WebElement (session=\"e33ec51eb9bc8b9f81bee9d9acea1154\", element=\"15d2a92f-c1c0-4a04-902f-53281b192515\")>,\n",
       " <selenium.webdriver.remote.webelement.WebElement (session=\"e33ec51eb9bc8b9f81bee9d9acea1154\", element=\"ece2fff5-141f-4b03-ae6f-90bb473f2201\")>,\n",
       " <selenium.webdriver.remote.webelement.WebElement (session=\"e33ec51eb9bc8b9f81bee9d9acea1154\", element=\"83eedc93-a0ae-42c7-b02b-ca8d556738e2\")>,\n",
       " <selenium.webdriver.remote.webelement.WebElement (session=\"e33ec51eb9bc8b9f81bee9d9acea1154\", element=\"b6fc720e-bb69-46ea-90e0-882fb21e2896\")>,\n",
       " <selenium.webdriver.remote.webelement.WebElement (session=\"e33ec51eb9bc8b9f81bee9d9acea1154\", element=\"dadd48dc-7644-4a13-b6bf-70d401a3653e\")>,\n",
       " <selenium.webdriver.remote.webelement.WebElement (session=\"e33ec51eb9bc8b9f81bee9d9acea1154\", element=\"ba248304-ce96-4edf-8b42-3d89c177e011\")>,\n",
       " <selenium.webdriver.remote.webelement.WebElement (session=\"e33ec51eb9bc8b9f81bee9d9acea1154\", element=\"4cceb7ec-e5ef-4f34-acaa-829fb40bdeac\")>,\n",
       " <selenium.webdriver.remote.webelement.WebElement (session=\"e33ec51eb9bc8b9f81bee9d9acea1154\", element=\"b7e413ff-e8d9-41dc-8abf-bbd6d185a0f7\")>,\n",
       " <selenium.webdriver.remote.webelement.WebElement (session=\"e33ec51eb9bc8b9f81bee9d9acea1154\", element=\"9566081f-dd54-4351-be46-a9ed4b44e434\")>,\n",
       " <selenium.webdriver.remote.webelement.WebElement (session=\"e33ec51eb9bc8b9f81bee9d9acea1154\", element=\"8b533b25-fef1-49e6-aada-4823db4f2031\")>,\n",
       " <selenium.webdriver.remote.webelement.WebElement (session=\"e33ec51eb9bc8b9f81bee9d9acea1154\", element=\"c92f512c-6a89-4c93-9ada-7b9befbfa395\")>,\n",
       " <selenium.webdriver.remote.webelement.WebElement (session=\"e33ec51eb9bc8b9f81bee9d9acea1154\", element=\"380e1d63-c77a-49ee-9bd5-9b1a5a2b62c6\")>,\n",
       " <selenium.webdriver.remote.webelement.WebElement (session=\"e33ec51eb9bc8b9f81bee9d9acea1154\", element=\"dc31dcc3-c0e9-4ffd-8a94-69f3c0716a26\")>]"
      ]
     },
     "execution_count": 6,
     "metadata": {},
     "output_type": "execute_result"
    }
   ],
   "source": [
    "brand_name=driver.find_elements_by_xpath(\"//div[@class='_2WkVRV']\")\n",
    "brand_name[0:40]"
   ]
  },
  {
   "cell_type": "code",
   "execution_count": 7,
   "id": "54ffcf36",
   "metadata": {},
   "outputs": [
    {
     "data": {
      "text/plain": [
       "['Cresswell',\n",
       " 'HIGHLANDER',\n",
       " 'BRUTON',\n",
       " 'Magnolia',\n",
       " 'BIRDE',\n",
       " 'URBANBOX',\n",
       " 'Labbin',\n",
       " \"LEVI'S\",\n",
       " 'Layasa',\n",
       " 'BIRDE',\n",
       " 'aadi',\n",
       " \"LEVI'S\",\n",
       " 'HOTSTYLE',\n",
       " 'BRUTON',\n",
       " 'Magnolia',\n",
       " 'PUMA',\n",
       " 'CLYMB',\n",
       " 'D-SNEAKERZ',\n",
       " 'BRUTON',\n",
       " 'PUMA',\n",
       " 'BIRDE',\n",
       " 'BRUTON',\n",
       " 'Kzaara',\n",
       " \"LEVI'S\",\n",
       " 'corsac',\n",
       " 'Numenzo',\n",
       " 'BRUTON',\n",
       " 'RapidBox',\n",
       " 'KWIK FIT',\n",
       " 'Kraasa',\n",
       " 'Rzisbo',\n",
       " \"LEVI'S\",\n",
       " 'ASTEROID',\n",
       " 'Airland',\n",
       " 'SCATCHITE',\n",
       " 'RapidBox',\n",
       " 'aadi',\n",
       " 'Kraasa',\n",
       " 'Kraasa',\n",
       " 'BRUTON']"
      ]
     },
     "execution_count": 7,
     "metadata": {},
     "output_type": "execute_result"
    }
   ],
   "source": [
    "for i in brand_name:\n",
    "    name_brand=i.text\n",
    "    brand.append(name_brand)\n",
    "brand[0:40]"
   ]
  },
  {
   "cell_type": "code",
   "execution_count": 8,
   "id": "915dd347",
   "metadata": {},
   "outputs": [
    {
     "data": {
      "text/plain": [
       "[<selenium.webdriver.remote.webelement.WebElement (session=\"e33ec51eb9bc8b9f81bee9d9acea1154\", element=\"b9f1324f-5363-4471-9287-8eec70357df7\")>,\n",
       " <selenium.webdriver.remote.webelement.WebElement (session=\"e33ec51eb9bc8b9f81bee9d9acea1154\", element=\"5174e62e-2481-4e33-8267-feb29173438c\")>,\n",
       " <selenium.webdriver.remote.webelement.WebElement (session=\"e33ec51eb9bc8b9f81bee9d9acea1154\", element=\"0ad83ef6-96a8-46b8-9250-6e5d77070ddb\")>,\n",
       " <selenium.webdriver.remote.webelement.WebElement (session=\"e33ec51eb9bc8b9f81bee9d9acea1154\", element=\"486b8b75-8cc0-47ce-9568-f16d4ea4d301\")>,\n",
       " <selenium.webdriver.remote.webelement.WebElement (session=\"e33ec51eb9bc8b9f81bee9d9acea1154\", element=\"2f2e16b1-a968-4d7e-ba64-8d3087f978cd\")>,\n",
       " <selenium.webdriver.remote.webelement.WebElement (session=\"e33ec51eb9bc8b9f81bee9d9acea1154\", element=\"2b731d05-cd24-4a7b-8e4f-1469f61f70d8\")>,\n",
       " <selenium.webdriver.remote.webelement.WebElement (session=\"e33ec51eb9bc8b9f81bee9d9acea1154\", element=\"43e2c316-949a-43e7-8fb8-a236349ffbd4\")>,\n",
       " <selenium.webdriver.remote.webelement.WebElement (session=\"e33ec51eb9bc8b9f81bee9d9acea1154\", element=\"7fc3031c-532e-4ece-afd0-a8540a3cfb90\")>,\n",
       " <selenium.webdriver.remote.webelement.WebElement (session=\"e33ec51eb9bc8b9f81bee9d9acea1154\", element=\"12e5b743-b396-439d-907b-ff0bbf04caeb\")>,\n",
       " <selenium.webdriver.remote.webelement.WebElement (session=\"e33ec51eb9bc8b9f81bee9d9acea1154\", element=\"48a6569b-7172-4048-9d1a-05eb7581b562\")>,\n",
       " <selenium.webdriver.remote.webelement.WebElement (session=\"e33ec51eb9bc8b9f81bee9d9acea1154\", element=\"b1210daa-5208-43cc-9a4a-65957e8dcf74\")>,\n",
       " <selenium.webdriver.remote.webelement.WebElement (session=\"e33ec51eb9bc8b9f81bee9d9acea1154\", element=\"147015d7-4826-41f2-85f1-3c9bab0e0924\")>,\n",
       " <selenium.webdriver.remote.webelement.WebElement (session=\"e33ec51eb9bc8b9f81bee9d9acea1154\", element=\"aab6c0fb-3c9a-44df-85fc-342c4295c4cb\")>,\n",
       " <selenium.webdriver.remote.webelement.WebElement (session=\"e33ec51eb9bc8b9f81bee9d9acea1154\", element=\"ee4c7315-b149-40e1-bd49-1aaca1f33059\")>,\n",
       " <selenium.webdriver.remote.webelement.WebElement (session=\"e33ec51eb9bc8b9f81bee9d9acea1154\", element=\"8c567e1d-382e-4e18-bdda-467cc5625e90\")>,\n",
       " <selenium.webdriver.remote.webelement.WebElement (session=\"e33ec51eb9bc8b9f81bee9d9acea1154\", element=\"dc995ebb-0b29-465b-8343-c0dc8dddb727\")>,\n",
       " <selenium.webdriver.remote.webelement.WebElement (session=\"e33ec51eb9bc8b9f81bee9d9acea1154\", element=\"0303f435-c137-4f1d-ab04-2ea0b67d22aa\")>,\n",
       " <selenium.webdriver.remote.webelement.WebElement (session=\"e33ec51eb9bc8b9f81bee9d9acea1154\", element=\"0efa7bfb-0b42-4874-b4b4-0a2fbdcfc0e5\")>,\n",
       " <selenium.webdriver.remote.webelement.WebElement (session=\"e33ec51eb9bc8b9f81bee9d9acea1154\", element=\"d8cc2387-851d-4284-ba1c-ab98bcc6738d\")>,\n",
       " <selenium.webdriver.remote.webelement.WebElement (session=\"e33ec51eb9bc8b9f81bee9d9acea1154\", element=\"fe5f1e4d-86fe-43c9-bc96-d9d0db1cf79c\")>,\n",
       " <selenium.webdriver.remote.webelement.WebElement (session=\"e33ec51eb9bc8b9f81bee9d9acea1154\", element=\"44bda3e7-975e-4333-af58-794a497e6c5e\")>,\n",
       " <selenium.webdriver.remote.webelement.WebElement (session=\"e33ec51eb9bc8b9f81bee9d9acea1154\", element=\"a9299fd0-d9b1-416a-bb65-4770bea2564d\")>,\n",
       " <selenium.webdriver.remote.webelement.WebElement (session=\"e33ec51eb9bc8b9f81bee9d9acea1154\", element=\"f2d0285b-a78d-47b9-9a2d-844017a24807\")>,\n",
       " <selenium.webdriver.remote.webelement.WebElement (session=\"e33ec51eb9bc8b9f81bee9d9acea1154\", element=\"234d44d2-f4e5-4c2c-97f6-5f8ff2d9b853\")>,\n",
       " <selenium.webdriver.remote.webelement.WebElement (session=\"e33ec51eb9bc8b9f81bee9d9acea1154\", element=\"962cc881-74ea-41b6-9f1e-27caf9710c61\")>,\n",
       " <selenium.webdriver.remote.webelement.WebElement (session=\"e33ec51eb9bc8b9f81bee9d9acea1154\", element=\"4960aebe-3759-45af-8916-593043e853ab\")>,\n",
       " <selenium.webdriver.remote.webelement.WebElement (session=\"e33ec51eb9bc8b9f81bee9d9acea1154\", element=\"29336a0b-25d3-4d71-8b64-248d4ca56590\")>,\n",
       " <selenium.webdriver.remote.webelement.WebElement (session=\"e33ec51eb9bc8b9f81bee9d9acea1154\", element=\"e3873fd8-8c28-43a4-a4ab-51f95c7651d7\")>,\n",
       " <selenium.webdriver.remote.webelement.WebElement (session=\"e33ec51eb9bc8b9f81bee9d9acea1154\", element=\"6b441566-f08e-47ec-9996-3b2074ad0bdc\")>,\n",
       " <selenium.webdriver.remote.webelement.WebElement (session=\"e33ec51eb9bc8b9f81bee9d9acea1154\", element=\"b49513ec-e3f3-4240-9bae-378011e721e0\")>,\n",
       " <selenium.webdriver.remote.webelement.WebElement (session=\"e33ec51eb9bc8b9f81bee9d9acea1154\", element=\"90117138-921b-449f-a0a9-81a1eecabc3e\")>,\n",
       " <selenium.webdriver.remote.webelement.WebElement (session=\"e33ec51eb9bc8b9f81bee9d9acea1154\", element=\"6b9659aa-8549-4e76-a86f-1fa7e4ea947a\")>,\n",
       " <selenium.webdriver.remote.webelement.WebElement (session=\"e33ec51eb9bc8b9f81bee9d9acea1154\", element=\"8c9b4fa3-5e81-4fa2-82f0-09df59983cfc\")>,\n",
       " <selenium.webdriver.remote.webelement.WebElement (session=\"e33ec51eb9bc8b9f81bee9d9acea1154\", element=\"bc527424-bb29-4d18-9ec9-f5c48ad514b3\")>,\n",
       " <selenium.webdriver.remote.webelement.WebElement (session=\"e33ec51eb9bc8b9f81bee9d9acea1154\", element=\"8a2d8f4f-2c8b-41ed-a8e9-6bd9b9f5b37b\")>,\n",
       " <selenium.webdriver.remote.webelement.WebElement (session=\"e33ec51eb9bc8b9f81bee9d9acea1154\", element=\"6e13e575-8327-4518-8be2-9e2745021686\")>,\n",
       " <selenium.webdriver.remote.webelement.WebElement (session=\"e33ec51eb9bc8b9f81bee9d9acea1154\", element=\"e14de3e0-5d29-4330-853f-bb0e67b1b7d4\")>,\n",
       " <selenium.webdriver.remote.webelement.WebElement (session=\"e33ec51eb9bc8b9f81bee9d9acea1154\", element=\"0c557b4f-6ebd-4d7e-a568-f1547ff011fa\")>,\n",
       " <selenium.webdriver.remote.webelement.WebElement (session=\"e33ec51eb9bc8b9f81bee9d9acea1154\", element=\"01e72dd0-9a59-4b96-a8db-0aa1c0a6a749\")>,\n",
       " <selenium.webdriver.remote.webelement.WebElement (session=\"e33ec51eb9bc8b9f81bee9d9acea1154\", element=\"03066ae5-c645-41c3-9e60-3ca8cae2b250\")>]"
      ]
     },
     "execution_count": 8,
     "metadata": {},
     "output_type": "execute_result"
    }
   ],
   "source": [
    "product_content=driver.find_elements_by_class_name(\"IRpwTa\")\n",
    "product_content[0:40 ]"
   ]
  },
  {
   "cell_type": "code",
   "execution_count": 9,
   "id": "a048b823",
   "metadata": {
    "scrolled": true
   },
   "outputs": [
    {
     "data": {
      "text/plain": [
       "['Black-Multicolor Casual Sport Training/Running Sneakers...',\n",
       " 'Sneakers For Men',\n",
       " 'Modern Trendy Sneakers Shoes Sneakers For Men',\n",
       " 'Sneakers For Men',\n",
       " 'Sports Running Shoes Sneakers For Men',\n",
       " 'Sneakers Sneakers For Men',\n",
       " 'Sneakers For Men',\n",
       " \"Levi's Men's Henry Sneakers Sneakers For Men\",\n",
       " 'Sneakers For Men',\n",
       " 'Stylish Comfortable Lightweight, Breathable Casual Walk...',\n",
       " 'Sneakers For Men',\n",
       " \"Men's Hernandez Sneakers Sneakers For Men\",\n",
       " 'Sneakers For Men',\n",
       " 'Combo Pack Of 2 Latest Stylish Casual Shoes for Men Lac...',\n",
       " 'Sneakers For Men',\n",
       " 'Mirage Sport Remix Sneakers For Men',\n",
       " 'Sneakers For Men',\n",
       " \"Casual , Partywear Sneakers Shoes For Men's And Boys Wh...\",\n",
       " 'Lattest Sneakers Shoe Sneakers For Men',\n",
       " 'Simha Sneakers For Men',\n",
       " 'Stylish Comfortable Lightweight, Breathable Walking Sho...',\n",
       " 'Modern Trendy Sneakers Shoes Sneakers For Men',\n",
       " 'Sneakers For Men',\n",
       " \"Men's Lancer Sneakers Sneakers For Men\",\n",
       " 'STYLISH MENS BLACK SNEAKER Sneakers For Men',\n",
       " '411 Casual Sneakers For Men',\n",
       " 'Lightweight Pack Of 1 Trendy Sneakers Sneakers For Men',\n",
       " 'Sneakers For Men',\n",
       " 'Kwik FIT casual sneaker shoes and partywear shoes Casua...',\n",
       " 'Casuals, Canvas, Partywear Sneakers For Men',\n",
       " 'Sneakers For Men',\n",
       " 'Basic 2.0 Sneakers For Men',\n",
       " \"Original Luxury Branded Fashionable Men's Casual Walkin...\",\n",
       " '1259 smart black lace-ups sneakers for men Sneakers For...',\n",
       " 'Sneakers Sneakers For Men',\n",
       " 'Sneakers For Men',\n",
       " 'Sneakers For Men',\n",
       " 'Shark-41 Sneakers For Men',\n",
       " 'Series 7 Sneakers For Men',\n",
       " 'Men Combo Pack of 2 Casual & Sneaker Shoes (Loafer Shoe...']"
      ]
     },
     "execution_count": 9,
     "metadata": {},
     "output_type": "execute_result"
    }
   ],
   "source": [
    "for i in product_content:\n",
    "    product=i.text\n",
    "    product_description.append(product)\n",
    "product_description[0:40]"
   ]
  },
  {
   "cell_type": "code",
   "execution_count": 12,
   "id": "1f7bff09",
   "metadata": {},
   "outputs": [
    {
     "data": {
      "text/plain": [
       "[<selenium.webdriver.remote.webelement.WebElement (session=\"e33ec51eb9bc8b9f81bee9d9acea1154\", element=\"ee980408-c14a-488d-ac60-44cba356e9c4\")>,\n",
       " <selenium.webdriver.remote.webelement.WebElement (session=\"e33ec51eb9bc8b9f81bee9d9acea1154\", element=\"e84a4c12-3691-4967-9885-8a3c6877df89\")>,\n",
       " <selenium.webdriver.remote.webelement.WebElement (session=\"e33ec51eb9bc8b9f81bee9d9acea1154\", element=\"96149877-0609-44c8-b10b-f43809446e12\")>,\n",
       " <selenium.webdriver.remote.webelement.WebElement (session=\"e33ec51eb9bc8b9f81bee9d9acea1154\", element=\"09f05543-c152-4e41-b4f2-c4aed0188f74\")>,\n",
       " <selenium.webdriver.remote.webelement.WebElement (session=\"e33ec51eb9bc8b9f81bee9d9acea1154\", element=\"21ace62c-4de9-4c66-83f7-2311b2484d1e\")>,\n",
       " <selenium.webdriver.remote.webelement.WebElement (session=\"e33ec51eb9bc8b9f81bee9d9acea1154\", element=\"7b89553b-629e-44fb-9de6-63197e6163dc\")>,\n",
       " <selenium.webdriver.remote.webelement.WebElement (session=\"e33ec51eb9bc8b9f81bee9d9acea1154\", element=\"52780d31-ca78-4a8e-82b8-1b4133b9810e\")>,\n",
       " <selenium.webdriver.remote.webelement.WebElement (session=\"e33ec51eb9bc8b9f81bee9d9acea1154\", element=\"9dc028c7-636f-4e27-815a-127ef7ccb31d\")>,\n",
       " <selenium.webdriver.remote.webelement.WebElement (session=\"e33ec51eb9bc8b9f81bee9d9acea1154\", element=\"ad7000a4-e0ee-4857-87d4-860ac2f9cc89\")>,\n",
       " <selenium.webdriver.remote.webelement.WebElement (session=\"e33ec51eb9bc8b9f81bee9d9acea1154\", element=\"f38f31de-4166-4d14-a8e3-ba7df67fe046\")>,\n",
       " <selenium.webdriver.remote.webelement.WebElement (session=\"e33ec51eb9bc8b9f81bee9d9acea1154\", element=\"f9ff1a93-b01f-41f2-bbe1-d3125027517f\")>,\n",
       " <selenium.webdriver.remote.webelement.WebElement (session=\"e33ec51eb9bc8b9f81bee9d9acea1154\", element=\"102f72b0-6c6a-4d04-9f2b-c3175eeaeb34\")>,\n",
       " <selenium.webdriver.remote.webelement.WebElement (session=\"e33ec51eb9bc8b9f81bee9d9acea1154\", element=\"11b6d977-07f4-47af-94a6-5a6598a401ef\")>,\n",
       " <selenium.webdriver.remote.webelement.WebElement (session=\"e33ec51eb9bc8b9f81bee9d9acea1154\", element=\"fdb14dc9-0fd8-44ee-b672-6310e8ac3f2b\")>,\n",
       " <selenium.webdriver.remote.webelement.WebElement (session=\"e33ec51eb9bc8b9f81bee9d9acea1154\", element=\"1cb7f59e-fa85-4c7f-b29a-ecfe979db28e\")>,\n",
       " <selenium.webdriver.remote.webelement.WebElement (session=\"e33ec51eb9bc8b9f81bee9d9acea1154\", element=\"bdde03a0-96bb-4168-998f-41b1585d0215\")>,\n",
       " <selenium.webdriver.remote.webelement.WebElement (session=\"e33ec51eb9bc8b9f81bee9d9acea1154\", element=\"5d18ce10-5358-459d-b4a4-f9ef9e753adf\")>,\n",
       " <selenium.webdriver.remote.webelement.WebElement (session=\"e33ec51eb9bc8b9f81bee9d9acea1154\", element=\"481039de-e706-40d5-bd71-8f40dd2d3d21\")>,\n",
       " <selenium.webdriver.remote.webelement.WebElement (session=\"e33ec51eb9bc8b9f81bee9d9acea1154\", element=\"b5243f78-4ee8-47a3-ae72-cfeed025443f\")>,\n",
       " <selenium.webdriver.remote.webelement.WebElement (session=\"e33ec51eb9bc8b9f81bee9d9acea1154\", element=\"fc07a4ac-7632-46c4-9202-cad0ca4a9d77\")>,\n",
       " <selenium.webdriver.remote.webelement.WebElement (session=\"e33ec51eb9bc8b9f81bee9d9acea1154\", element=\"276d8993-6956-4914-811b-f92e74ebffa4\")>,\n",
       " <selenium.webdriver.remote.webelement.WebElement (session=\"e33ec51eb9bc8b9f81bee9d9acea1154\", element=\"03f8ed9d-a606-49e0-9dc5-3e5f2f2cda8d\")>,\n",
       " <selenium.webdriver.remote.webelement.WebElement (session=\"e33ec51eb9bc8b9f81bee9d9acea1154\", element=\"8e004ab5-5ad2-433e-88c8-05d5012ca898\")>,\n",
       " <selenium.webdriver.remote.webelement.WebElement (session=\"e33ec51eb9bc8b9f81bee9d9acea1154\", element=\"97fb3001-c4fc-4172-9194-99792dbcfb93\")>,\n",
       " <selenium.webdriver.remote.webelement.WebElement (session=\"e33ec51eb9bc8b9f81bee9d9acea1154\", element=\"577735ab-6bdc-4c2c-bdbc-7d9de0da9b4a\")>,\n",
       " <selenium.webdriver.remote.webelement.WebElement (session=\"e33ec51eb9bc8b9f81bee9d9acea1154\", element=\"36270e9c-e8be-4061-b658-d3754b7d8410\")>,\n",
       " <selenium.webdriver.remote.webelement.WebElement (session=\"e33ec51eb9bc8b9f81bee9d9acea1154\", element=\"5f89fcfc-3e22-47ac-aec0-1c985d568942\")>,\n",
       " <selenium.webdriver.remote.webelement.WebElement (session=\"e33ec51eb9bc8b9f81bee9d9acea1154\", element=\"9d005127-5d6c-4d0d-a28e-962d46d68805\")>,\n",
       " <selenium.webdriver.remote.webelement.WebElement (session=\"e33ec51eb9bc8b9f81bee9d9acea1154\", element=\"b276593e-d537-4522-aace-f2dcb414a937\")>,\n",
       " <selenium.webdriver.remote.webelement.WebElement (session=\"e33ec51eb9bc8b9f81bee9d9acea1154\", element=\"bd5aefae-6599-4844-ba67-cf45491ad6c9\")>,\n",
       " <selenium.webdriver.remote.webelement.WebElement (session=\"e33ec51eb9bc8b9f81bee9d9acea1154\", element=\"f9b3c763-ccf8-4168-9dab-2fa680c5b570\")>,\n",
       " <selenium.webdriver.remote.webelement.WebElement (session=\"e33ec51eb9bc8b9f81bee9d9acea1154\", element=\"c911677e-148a-4af8-b8d5-22eb1a55b3c9\")>,\n",
       " <selenium.webdriver.remote.webelement.WebElement (session=\"e33ec51eb9bc8b9f81bee9d9acea1154\", element=\"1e9e29d8-3101-4956-ab86-fe2921c31fbb\")>,\n",
       " <selenium.webdriver.remote.webelement.WebElement (session=\"e33ec51eb9bc8b9f81bee9d9acea1154\", element=\"446b10ab-8896-459b-a8a5-08d75ec0927f\")>,\n",
       " <selenium.webdriver.remote.webelement.WebElement (session=\"e33ec51eb9bc8b9f81bee9d9acea1154\", element=\"a763aafb-6f0e-4144-b65f-509a5fec77b8\")>,\n",
       " <selenium.webdriver.remote.webelement.WebElement (session=\"e33ec51eb9bc8b9f81bee9d9acea1154\", element=\"d344dd62-5a1d-4724-8140-b80b10a6ebfc\")>,\n",
       " <selenium.webdriver.remote.webelement.WebElement (session=\"e33ec51eb9bc8b9f81bee9d9acea1154\", element=\"90a15a32-955a-4cce-8249-50099fb25eb5\")>,\n",
       " <selenium.webdriver.remote.webelement.WebElement (session=\"e33ec51eb9bc8b9f81bee9d9acea1154\", element=\"318ceb63-ef03-4a06-a3be-7216eb0c5bc2\")>,\n",
       " <selenium.webdriver.remote.webelement.WebElement (session=\"e33ec51eb9bc8b9f81bee9d9acea1154\", element=\"103a2822-6e84-4a69-887d-e9dedfefb40d\")>,\n",
       " <selenium.webdriver.remote.webelement.WebElement (session=\"e33ec51eb9bc8b9f81bee9d9acea1154\", element=\"5910336c-810b-47b4-a677-225a07edcf17\")>]"
      ]
     },
     "execution_count": 12,
     "metadata": {},
     "output_type": "execute_result"
    }
   ],
   "source": [
    "price_tag=driver.find_elements_by_xpath(\"//div[@class='_30jeq3']\")\n",
    "price_tag[0:40]\n",
    "\n"
   ]
  },
  {
   "cell_type": "code",
   "execution_count": 13,
   "id": "6f0bd0d1",
   "metadata": {},
   "outputs": [
    {
     "data": {
      "text/plain": [
       "['₹1,499',\n",
       " '₹895',\n",
       " '₹269',\n",
       " '₹374',\n",
       " '₹249',\n",
       " '₹198',\n",
       " '₹499',\n",
       " '₹1,399',\n",
       " '₹399',\n",
       " '₹299',\n",
       " '₹319',\n",
       " '₹2,199',\n",
       " '₹258',\n",
       " '₹499',\n",
       " '₹374',\n",
       " '₹4,242',\n",
       " '₹519',\n",
       " '₹284',\n",
       " '₹269',\n",
       " '₹1,891',\n",
       " '₹314',\n",
       " '₹299',\n",
       " '₹254',\n",
       " '₹1,599',\n",
       " '₹499',\n",
       " '₹474',\n",
       " '₹178',\n",
       " '₹680',\n",
       " '₹397',\n",
       " '₹479',\n",
       " '₹490',\n",
       " '₹1,349',\n",
       " '₹499',\n",
       " '₹210',\n",
       " '₹378',\n",
       " '₹695',\n",
       " '₹299',\n",
       " '₹479',\n",
       " '₹479',\n",
       " '₹366']"
      ]
     },
     "execution_count": 13,
     "metadata": {},
     "output_type": "execute_result"
    }
   ],
   "source": [
    "for i in price_tag:\n",
    "    prices=i.text\n",
    "    price.append(prices)\n",
    "price[0:40]"
   ]
  },
  {
   "cell_type": "code",
   "execution_count": 14,
   "id": "0086eebd",
   "metadata": {},
   "outputs": [
    {
     "data": {
      "text/plain": [
       "[<selenium.webdriver.remote.webelement.WebElement (session=\"e33ec51eb9bc8b9f81bee9d9acea1154\", element=\"7fcb47b3-d884-4d11-a5c9-77e0821a76fe\")>,\n",
       " <selenium.webdriver.remote.webelement.WebElement (session=\"e33ec51eb9bc8b9f81bee9d9acea1154\", element=\"faa62b34-d4f5-48db-a27a-660121d406cc\")>,\n",
       " <selenium.webdriver.remote.webelement.WebElement (session=\"e33ec51eb9bc8b9f81bee9d9acea1154\", element=\"35a6d90f-420f-4ced-9a94-22aa756385e7\")>,\n",
       " <selenium.webdriver.remote.webelement.WebElement (session=\"e33ec51eb9bc8b9f81bee9d9acea1154\", element=\"a5c8d8a8-66ea-4716-8a95-d4c77121f241\")>,\n",
       " <selenium.webdriver.remote.webelement.WebElement (session=\"e33ec51eb9bc8b9f81bee9d9acea1154\", element=\"b3a74783-7110-4ee4-a2bb-51fec30d59d7\")>,\n",
       " <selenium.webdriver.remote.webelement.WebElement (session=\"e33ec51eb9bc8b9f81bee9d9acea1154\", element=\"09f05e9a-2395-49d7-a64c-83665164e4ae\")>,\n",
       " <selenium.webdriver.remote.webelement.WebElement (session=\"e33ec51eb9bc8b9f81bee9d9acea1154\", element=\"b320a58a-24e1-485c-b0d5-6a8e79257ac5\")>,\n",
       " <selenium.webdriver.remote.webelement.WebElement (session=\"e33ec51eb9bc8b9f81bee9d9acea1154\", element=\"b9b1f696-4017-41d0-a374-8d99f30817e1\")>,\n",
       " <selenium.webdriver.remote.webelement.WebElement (session=\"e33ec51eb9bc8b9f81bee9d9acea1154\", element=\"f27d650c-f8fd-4c40-8404-796114a18f8b\")>,\n",
       " <selenium.webdriver.remote.webelement.WebElement (session=\"e33ec51eb9bc8b9f81bee9d9acea1154\", element=\"9720e14a-7497-464c-b3df-3521b4f42176\")>,\n",
       " <selenium.webdriver.remote.webelement.WebElement (session=\"e33ec51eb9bc8b9f81bee9d9acea1154\", element=\"39b0b31d-0895-451d-93bb-86cf1fc3f0ca\")>,\n",
       " <selenium.webdriver.remote.webelement.WebElement (session=\"e33ec51eb9bc8b9f81bee9d9acea1154\", element=\"119c08d4-cc68-4c4f-bef3-af9bc3217d9b\")>,\n",
       " <selenium.webdriver.remote.webelement.WebElement (session=\"e33ec51eb9bc8b9f81bee9d9acea1154\", element=\"7a14b52a-17e5-4da3-9367-700738717756\")>,\n",
       " <selenium.webdriver.remote.webelement.WebElement (session=\"e33ec51eb9bc8b9f81bee9d9acea1154\", element=\"9affd842-6cf0-4910-a71a-dc254fab5276\")>,\n",
       " <selenium.webdriver.remote.webelement.WebElement (session=\"e33ec51eb9bc8b9f81bee9d9acea1154\", element=\"a2e9a302-0211-413b-8a5e-59c7df694c7a\")>,\n",
       " <selenium.webdriver.remote.webelement.WebElement (session=\"e33ec51eb9bc8b9f81bee9d9acea1154\", element=\"ed2c6430-c8be-4618-a76c-814649140b60\")>,\n",
       " <selenium.webdriver.remote.webelement.WebElement (session=\"e33ec51eb9bc8b9f81bee9d9acea1154\", element=\"09733c88-fe6c-47f5-8e11-cfedf37c3efb\")>,\n",
       " <selenium.webdriver.remote.webelement.WebElement (session=\"e33ec51eb9bc8b9f81bee9d9acea1154\", element=\"7edfbbda-05bc-4121-acfe-208e9ee6f4f8\")>,\n",
       " <selenium.webdriver.remote.webelement.WebElement (session=\"e33ec51eb9bc8b9f81bee9d9acea1154\", element=\"402063e0-f5f4-4a45-a841-f02a0a447871\")>,\n",
       " <selenium.webdriver.remote.webelement.WebElement (session=\"e33ec51eb9bc8b9f81bee9d9acea1154\", element=\"b1f3e7a9-d9f1-4bd4-bc2f-7963945e78c3\")>,\n",
       " <selenium.webdriver.remote.webelement.WebElement (session=\"e33ec51eb9bc8b9f81bee9d9acea1154\", element=\"1115a45b-fd73-4a9e-a21d-90dcee400734\")>,\n",
       " <selenium.webdriver.remote.webelement.WebElement (session=\"e33ec51eb9bc8b9f81bee9d9acea1154\", element=\"687d8b1c-cb38-495f-8a6a-413ddd92e80a\")>,\n",
       " <selenium.webdriver.remote.webelement.WebElement (session=\"e33ec51eb9bc8b9f81bee9d9acea1154\", element=\"920a45f7-26d7-4503-a8d1-68f8f16d4074\")>,\n",
       " <selenium.webdriver.remote.webelement.WebElement (session=\"e33ec51eb9bc8b9f81bee9d9acea1154\", element=\"a026ac7d-ee6f-4779-95c8-11ed3fef8234\")>,\n",
       " <selenium.webdriver.remote.webelement.WebElement (session=\"e33ec51eb9bc8b9f81bee9d9acea1154\", element=\"8661fa8e-5f4d-47ad-84d5-34ff273f3ee1\")>,\n",
       " <selenium.webdriver.remote.webelement.WebElement (session=\"e33ec51eb9bc8b9f81bee9d9acea1154\", element=\"69fe7ee8-1bbd-4458-a6c0-565d04ecb6ee\")>,\n",
       " <selenium.webdriver.remote.webelement.WebElement (session=\"e33ec51eb9bc8b9f81bee9d9acea1154\", element=\"5d131038-d537-47e3-8a3f-b34293ffcdec\")>,\n",
       " <selenium.webdriver.remote.webelement.WebElement (session=\"e33ec51eb9bc8b9f81bee9d9acea1154\", element=\"06c7fce1-39fc-4a57-a100-a40d5c0cbf9a\")>,\n",
       " <selenium.webdriver.remote.webelement.WebElement (session=\"e33ec51eb9bc8b9f81bee9d9acea1154\", element=\"cfe83734-9411-481f-8fbf-08322af96440\")>,\n",
       " <selenium.webdriver.remote.webelement.WebElement (session=\"e33ec51eb9bc8b9f81bee9d9acea1154\", element=\"bff3851a-67e7-4642-8385-fd1833bf52f7\")>,\n",
       " <selenium.webdriver.remote.webelement.WebElement (session=\"e33ec51eb9bc8b9f81bee9d9acea1154\", element=\"9989bfdc-a36a-4169-90ec-60428b9deb6b\")>,\n",
       " <selenium.webdriver.remote.webelement.WebElement (session=\"e33ec51eb9bc8b9f81bee9d9acea1154\", element=\"cae75d80-4cc4-4539-8a5c-0fe2fe3f23f5\")>,\n",
       " <selenium.webdriver.remote.webelement.WebElement (session=\"e33ec51eb9bc8b9f81bee9d9acea1154\", element=\"488b8bbf-6b49-475a-afc1-7b72a01db28f\")>,\n",
       " <selenium.webdriver.remote.webelement.WebElement (session=\"e33ec51eb9bc8b9f81bee9d9acea1154\", element=\"d7c5fb58-7945-48d7-8917-e6ecc984f5de\")>,\n",
       " <selenium.webdriver.remote.webelement.WebElement (session=\"e33ec51eb9bc8b9f81bee9d9acea1154\", element=\"4a369cb4-6919-4b3b-b62a-46d1c6b2d2da\")>,\n",
       " <selenium.webdriver.remote.webelement.WebElement (session=\"e33ec51eb9bc8b9f81bee9d9acea1154\", element=\"3f1940f0-9ed5-41df-bc60-56286ededb92\")>,\n",
       " <selenium.webdriver.remote.webelement.WebElement (session=\"e33ec51eb9bc8b9f81bee9d9acea1154\", element=\"2b5e47a9-a2f1-4c2e-9040-54cec5418470\")>,\n",
       " <selenium.webdriver.remote.webelement.WebElement (session=\"e33ec51eb9bc8b9f81bee9d9acea1154\", element=\"b4374925-0af3-4f31-83d6-4b787be8f62b\")>,\n",
       " <selenium.webdriver.remote.webelement.WebElement (session=\"e33ec51eb9bc8b9f81bee9d9acea1154\", element=\"7872bbeb-76ba-4054-9a7f-e5fe6ffa38e0\")>,\n",
       " <selenium.webdriver.remote.webelement.WebElement (session=\"e33ec51eb9bc8b9f81bee9d9acea1154\", element=\"2527cc9a-ceab-4de6-9eb0-6b049ddfd7ad\")>]"
      ]
     },
     "execution_count": 14,
     "metadata": {},
     "output_type": "execute_result"
    }
   ],
   "source": [
    "percent_discounts=driver.find_elements_by_xpath(\"//div[@class='_3Ay6Sb']\")\n",
    "percent_discounts[0:40]"
   ]
  },
  {
   "cell_type": "code",
   "execution_count": 16,
   "id": "ef694048",
   "metadata": {},
   "outputs": [
    {
     "data": {
      "text/plain": [
       "['57% off',\n",
       " '55% off',\n",
       " '79% off',\n",
       " '62% off',\n",
       " '75% off',\n",
       " '80% off',\n",
       " '50% off',\n",
       " '50% off',\n",
       " '60% off',\n",
       " '70% off',\n",
       " '68% off',\n",
       " '45% off',\n",
       " '74% off',\n",
       " '80% off',\n",
       " '62% off',\n",
       " '52% off',\n",
       " '65% off',\n",
       " '56% off',\n",
       " '79% off',\n",
       " '36% off',\n",
       " '68% off',\n",
       " '76% off',\n",
       " '74% off',\n",
       " '50% off',\n",
       " '66% off',\n",
       " '76% off',\n",
       " '70% off',\n",
       " '31% off',\n",
       " '80% off',\n",
       " '52% off',\n",
       " '50% off',\n",
       " '55% off',\n",
       " '75% off',\n",
       " '57% off',\n",
       " '62% off',\n",
       " '30% off',\n",
       " '70% off',\n",
       " '52% off',\n",
       " '52% off',\n",
       " '84% off']"
      ]
     },
     "execution_count": 16,
     "metadata": {},
     "output_type": "execute_result"
    }
   ],
   "source": [
    "for i in percent_discounts:\n",
    "    percent=i.text\n",
    "    percent_discount.append(percent)\n",
    "percent_discount[0:40]"
   ]
  },
  {
   "cell_type": "code",
   "execution_count": 24,
   "id": "8cfa098f",
   "metadata": {},
   "outputs": [
    {
     "data": {
      "text/html": [
       "<div>\n",
       "<style scoped>\n",
       "    .dataframe tbody tr th:only-of-type {\n",
       "        vertical-align: middle;\n",
       "    }\n",
       "\n",
       "    .dataframe tbody tr th {\n",
       "        vertical-align: top;\n",
       "    }\n",
       "\n",
       "    .dataframe thead th {\n",
       "        text-align: right;\n",
       "    }\n",
       "</style>\n",
       "<table border=\"1\" class=\"dataframe\">\n",
       "  <thead>\n",
       "    <tr style=\"text-align: right;\">\n",
       "      <th></th>\n",
       "      <th>brands</th>\n",
       "      <th>product detail</th>\n",
       "      <th>amount</th>\n",
       "      <th>discounts</th>\n",
       "    </tr>\n",
       "  </thead>\n",
       "  <tbody>\n",
       "    <tr>\n",
       "      <th>0</th>\n",
       "      <td>Cresswell</td>\n",
       "      <td>Black-Multicolor Casual Sport Training/Running...</td>\n",
       "      <td>₹1,499</td>\n",
       "      <td>57% off</td>\n",
       "    </tr>\n",
       "    <tr>\n",
       "      <th>1</th>\n",
       "      <td>HIGHLANDER</td>\n",
       "      <td>Sneakers For Men</td>\n",
       "      <td>₹895</td>\n",
       "      <td>55% off</td>\n",
       "    </tr>\n",
       "    <tr>\n",
       "      <th>2</th>\n",
       "      <td>BRUTON</td>\n",
       "      <td>Modern Trendy Sneakers Shoes Sneakers For Men</td>\n",
       "      <td>₹269</td>\n",
       "      <td>79% off</td>\n",
       "    </tr>\n",
       "    <tr>\n",
       "      <th>3</th>\n",
       "      <td>Magnolia</td>\n",
       "      <td>Sneakers For Men</td>\n",
       "      <td>₹374</td>\n",
       "      <td>62% off</td>\n",
       "    </tr>\n",
       "    <tr>\n",
       "      <th>4</th>\n",
       "      <td>BIRDE</td>\n",
       "      <td>Sports Running Shoes Sneakers For Men</td>\n",
       "      <td>₹249</td>\n",
       "      <td>75% off</td>\n",
       "    </tr>\n",
       "    <tr>\n",
       "      <th>5</th>\n",
       "      <td>URBANBOX</td>\n",
       "      <td>Sneakers Sneakers For Men</td>\n",
       "      <td>₹198</td>\n",
       "      <td>80% off</td>\n",
       "    </tr>\n",
       "    <tr>\n",
       "      <th>6</th>\n",
       "      <td>Labbin</td>\n",
       "      <td>Sneakers For Men</td>\n",
       "      <td>₹499</td>\n",
       "      <td>50% off</td>\n",
       "    </tr>\n",
       "    <tr>\n",
       "      <th>7</th>\n",
       "      <td>LEVI'S</td>\n",
       "      <td>Levi's Men's Henry Sneakers Sneakers For Men</td>\n",
       "      <td>₹1,399</td>\n",
       "      <td>50% off</td>\n",
       "    </tr>\n",
       "    <tr>\n",
       "      <th>8</th>\n",
       "      <td>Layasa</td>\n",
       "      <td>Sneakers For Men</td>\n",
       "      <td>₹399</td>\n",
       "      <td>60% off</td>\n",
       "    </tr>\n",
       "    <tr>\n",
       "      <th>9</th>\n",
       "      <td>BIRDE</td>\n",
       "      <td>Stylish Comfortable Lightweight, Breathable Ca...</td>\n",
       "      <td>₹299</td>\n",
       "      <td>70% off</td>\n",
       "    </tr>\n",
       "    <tr>\n",
       "      <th>10</th>\n",
       "      <td>aadi</td>\n",
       "      <td>Sneakers For Men</td>\n",
       "      <td>₹319</td>\n",
       "      <td>68% off</td>\n",
       "    </tr>\n",
       "    <tr>\n",
       "      <th>11</th>\n",
       "      <td>LEVI'S</td>\n",
       "      <td>Men's Hernandez Sneakers Sneakers For Men</td>\n",
       "      <td>₹2,199</td>\n",
       "      <td>45% off</td>\n",
       "    </tr>\n",
       "    <tr>\n",
       "      <th>12</th>\n",
       "      <td>HOTSTYLE</td>\n",
       "      <td>Sneakers For Men</td>\n",
       "      <td>₹258</td>\n",
       "      <td>74% off</td>\n",
       "    </tr>\n",
       "    <tr>\n",
       "      <th>13</th>\n",
       "      <td>BRUTON</td>\n",
       "      <td>Combo Pack Of 2 Latest Stylish Casual Shoes fo...</td>\n",
       "      <td>₹499</td>\n",
       "      <td>80% off</td>\n",
       "    </tr>\n",
       "    <tr>\n",
       "      <th>14</th>\n",
       "      <td>Magnolia</td>\n",
       "      <td>Sneakers For Men</td>\n",
       "      <td>₹374</td>\n",
       "      <td>62% off</td>\n",
       "    </tr>\n",
       "    <tr>\n",
       "      <th>15</th>\n",
       "      <td>PUMA</td>\n",
       "      <td>Mirage Sport Remix Sneakers For Men</td>\n",
       "      <td>₹4,242</td>\n",
       "      <td>52% off</td>\n",
       "    </tr>\n",
       "    <tr>\n",
       "      <th>16</th>\n",
       "      <td>CLYMB</td>\n",
       "      <td>Sneakers For Men</td>\n",
       "      <td>₹519</td>\n",
       "      <td>65% off</td>\n",
       "    </tr>\n",
       "    <tr>\n",
       "      <th>17</th>\n",
       "      <td>D-SNEAKERZ</td>\n",
       "      <td>Casual , Partywear Sneakers Shoes For Men's An...</td>\n",
       "      <td>₹284</td>\n",
       "      <td>56% off</td>\n",
       "    </tr>\n",
       "    <tr>\n",
       "      <th>18</th>\n",
       "      <td>BRUTON</td>\n",
       "      <td>Lattest Sneakers Shoe Sneakers For Men</td>\n",
       "      <td>₹269</td>\n",
       "      <td>79% off</td>\n",
       "    </tr>\n",
       "    <tr>\n",
       "      <th>19</th>\n",
       "      <td>PUMA</td>\n",
       "      <td>Simha Sneakers For Men</td>\n",
       "      <td>₹1,891</td>\n",
       "      <td>36% off</td>\n",
       "    </tr>\n",
       "    <tr>\n",
       "      <th>20</th>\n",
       "      <td>BIRDE</td>\n",
       "      <td>Stylish Comfortable Lightweight, Breathable Wa...</td>\n",
       "      <td>₹314</td>\n",
       "      <td>68% off</td>\n",
       "    </tr>\n",
       "    <tr>\n",
       "      <th>21</th>\n",
       "      <td>BRUTON</td>\n",
       "      <td>Modern Trendy Sneakers Shoes Sneakers For Men</td>\n",
       "      <td>₹299</td>\n",
       "      <td>76% off</td>\n",
       "    </tr>\n",
       "    <tr>\n",
       "      <th>22</th>\n",
       "      <td>Kzaara</td>\n",
       "      <td>Sneakers For Men</td>\n",
       "      <td>₹254</td>\n",
       "      <td>74% off</td>\n",
       "    </tr>\n",
       "    <tr>\n",
       "      <th>23</th>\n",
       "      <td>LEVI'S</td>\n",
       "      <td>Men's Lancer Sneakers Sneakers For Men</td>\n",
       "      <td>₹1,599</td>\n",
       "      <td>50% off</td>\n",
       "    </tr>\n",
       "    <tr>\n",
       "      <th>24</th>\n",
       "      <td>corsac</td>\n",
       "      <td>STYLISH MENS BLACK SNEAKER Sneakers For Men</td>\n",
       "      <td>₹499</td>\n",
       "      <td>66% off</td>\n",
       "    </tr>\n",
       "    <tr>\n",
       "      <th>25</th>\n",
       "      <td>Numenzo</td>\n",
       "      <td>411 Casual Sneakers For Men</td>\n",
       "      <td>₹474</td>\n",
       "      <td>76% off</td>\n",
       "    </tr>\n",
       "    <tr>\n",
       "      <th>26</th>\n",
       "      <td>BRUTON</td>\n",
       "      <td>Lightweight Pack Of 1 Trendy Sneakers Sneakers...</td>\n",
       "      <td>₹178</td>\n",
       "      <td>70% off</td>\n",
       "    </tr>\n",
       "    <tr>\n",
       "      <th>27</th>\n",
       "      <td>RapidBox</td>\n",
       "      <td>Sneakers For Men</td>\n",
       "      <td>₹680</td>\n",
       "      <td>31% off</td>\n",
       "    </tr>\n",
       "    <tr>\n",
       "      <th>28</th>\n",
       "      <td>KWIK FIT</td>\n",
       "      <td>Kwik FIT casual sneaker shoes and partywear sh...</td>\n",
       "      <td>₹397</td>\n",
       "      <td>80% off</td>\n",
       "    </tr>\n",
       "    <tr>\n",
       "      <th>29</th>\n",
       "      <td>Kraasa</td>\n",
       "      <td>Casuals, Canvas, Partywear Sneakers For Men</td>\n",
       "      <td>₹479</td>\n",
       "      <td>52% off</td>\n",
       "    </tr>\n",
       "    <tr>\n",
       "      <th>30</th>\n",
       "      <td>Rzisbo</td>\n",
       "      <td>Sneakers For Men</td>\n",
       "      <td>₹490</td>\n",
       "      <td>50% off</td>\n",
       "    </tr>\n",
       "    <tr>\n",
       "      <th>31</th>\n",
       "      <td>LEVI'S</td>\n",
       "      <td>Basic 2.0 Sneakers For Men</td>\n",
       "      <td>₹1,349</td>\n",
       "      <td>55% off</td>\n",
       "    </tr>\n",
       "    <tr>\n",
       "      <th>32</th>\n",
       "      <td>ASTEROID</td>\n",
       "      <td>Original Luxury Branded Fashionable Men's Casu...</td>\n",
       "      <td>₹499</td>\n",
       "      <td>75% off</td>\n",
       "    </tr>\n",
       "    <tr>\n",
       "      <th>33</th>\n",
       "      <td>Airland</td>\n",
       "      <td>1259 smart black lace-ups sneakers for men Sne...</td>\n",
       "      <td>₹210</td>\n",
       "      <td>57% off</td>\n",
       "    </tr>\n",
       "    <tr>\n",
       "      <th>34</th>\n",
       "      <td>SCATCHITE</td>\n",
       "      <td>Sneakers Sneakers For Men</td>\n",
       "      <td>₹378</td>\n",
       "      <td>62% off</td>\n",
       "    </tr>\n",
       "    <tr>\n",
       "      <th>35</th>\n",
       "      <td>RapidBox</td>\n",
       "      <td>Sneakers For Men</td>\n",
       "      <td>₹695</td>\n",
       "      <td>30% off</td>\n",
       "    </tr>\n",
       "    <tr>\n",
       "      <th>36</th>\n",
       "      <td>aadi</td>\n",
       "      <td>Sneakers For Men</td>\n",
       "      <td>₹299</td>\n",
       "      <td>70% off</td>\n",
       "    </tr>\n",
       "    <tr>\n",
       "      <th>37</th>\n",
       "      <td>Kraasa</td>\n",
       "      <td>Shark-41 Sneakers For Men</td>\n",
       "      <td>₹479</td>\n",
       "      <td>52% off</td>\n",
       "    </tr>\n",
       "    <tr>\n",
       "      <th>38</th>\n",
       "      <td>Kraasa</td>\n",
       "      <td>Series 7 Sneakers For Men</td>\n",
       "      <td>₹479</td>\n",
       "      <td>52% off</td>\n",
       "    </tr>\n",
       "    <tr>\n",
       "      <th>39</th>\n",
       "      <td>BRUTON</td>\n",
       "      <td>Men Combo Pack of 2 Casual &amp; Sneaker Shoes (Lo...</td>\n",
       "      <td>₹366</td>\n",
       "      <td>84% off</td>\n",
       "    </tr>\n",
       "  </tbody>\n",
       "</table>\n",
       "</div>"
      ],
      "text/plain": [
       "        brands                                     product detail  amount  \\\n",
       "0    Cresswell  Black-Multicolor Casual Sport Training/Running...  ₹1,499   \n",
       "1   HIGHLANDER                                   Sneakers For Men    ₹895   \n",
       "2       BRUTON      Modern Trendy Sneakers Shoes Sneakers For Men    ₹269   \n",
       "3     Magnolia                                   Sneakers For Men    ₹374   \n",
       "4        BIRDE              Sports Running Shoes Sneakers For Men    ₹249   \n",
       "5     URBANBOX                          Sneakers Sneakers For Men    ₹198   \n",
       "6       Labbin                                   Sneakers For Men    ₹499   \n",
       "7       LEVI'S       Levi's Men's Henry Sneakers Sneakers For Men  ₹1,399   \n",
       "8       Layasa                                   Sneakers For Men    ₹399   \n",
       "9        BIRDE  Stylish Comfortable Lightweight, Breathable Ca...    ₹299   \n",
       "10        aadi                                   Sneakers For Men    ₹319   \n",
       "11      LEVI'S          Men's Hernandez Sneakers Sneakers For Men  ₹2,199   \n",
       "12    HOTSTYLE                                   Sneakers For Men    ₹258   \n",
       "13      BRUTON  Combo Pack Of 2 Latest Stylish Casual Shoes fo...    ₹499   \n",
       "14    Magnolia                                   Sneakers For Men    ₹374   \n",
       "15        PUMA                Mirage Sport Remix Sneakers For Men  ₹4,242   \n",
       "16       CLYMB                                   Sneakers For Men    ₹519   \n",
       "17  D-SNEAKERZ  Casual , Partywear Sneakers Shoes For Men's An...    ₹284   \n",
       "18      BRUTON             Lattest Sneakers Shoe Sneakers For Men    ₹269   \n",
       "19        PUMA                             Simha Sneakers For Men  ₹1,891   \n",
       "20       BIRDE  Stylish Comfortable Lightweight, Breathable Wa...    ₹314   \n",
       "21      BRUTON      Modern Trendy Sneakers Shoes Sneakers For Men    ₹299   \n",
       "22      Kzaara                                   Sneakers For Men    ₹254   \n",
       "23      LEVI'S             Men's Lancer Sneakers Sneakers For Men  ₹1,599   \n",
       "24      corsac        STYLISH MENS BLACK SNEAKER Sneakers For Men    ₹499   \n",
       "25     Numenzo                        411 Casual Sneakers For Men    ₹474   \n",
       "26      BRUTON  Lightweight Pack Of 1 Trendy Sneakers Sneakers...    ₹178   \n",
       "27    RapidBox                                   Sneakers For Men    ₹680   \n",
       "28    KWIK FIT  Kwik FIT casual sneaker shoes and partywear sh...    ₹397   \n",
       "29      Kraasa        Casuals, Canvas, Partywear Sneakers For Men    ₹479   \n",
       "30      Rzisbo                                   Sneakers For Men    ₹490   \n",
       "31      LEVI'S                         Basic 2.0 Sneakers For Men  ₹1,349   \n",
       "32    ASTEROID  Original Luxury Branded Fashionable Men's Casu...    ₹499   \n",
       "33     Airland  1259 smart black lace-ups sneakers for men Sne...    ₹210   \n",
       "34   SCATCHITE                          Sneakers Sneakers For Men    ₹378   \n",
       "35    RapidBox                                   Sneakers For Men    ₹695   \n",
       "36        aadi                                   Sneakers For Men    ₹299   \n",
       "37      Kraasa                          Shark-41 Sneakers For Men    ₹479   \n",
       "38      Kraasa                          Series 7 Sneakers For Men    ₹479   \n",
       "39      BRUTON  Men Combo Pack of 2 Casual & Sneaker Shoes (Lo...    ₹366   \n",
       "\n",
       "   discounts  \n",
       "0    57% off  \n",
       "1    55% off  \n",
       "2    79% off  \n",
       "3    62% off  \n",
       "4    75% off  \n",
       "5    80% off  \n",
       "6    50% off  \n",
       "7    50% off  \n",
       "8    60% off  \n",
       "9    70% off  \n",
       "10   68% off  \n",
       "11   45% off  \n",
       "12   74% off  \n",
       "13   80% off  \n",
       "14   62% off  \n",
       "15   52% off  \n",
       "16   65% off  \n",
       "17   56% off  \n",
       "18   79% off  \n",
       "19   36% off  \n",
       "20   68% off  \n",
       "21   76% off  \n",
       "22   74% off  \n",
       "23   50% off  \n",
       "24   66% off  \n",
       "25   76% off  \n",
       "26   70% off  \n",
       "27   31% off  \n",
       "28   80% off  \n",
       "29   52% off  \n",
       "30   50% off  \n",
       "31   55% off  \n",
       "32   75% off  \n",
       "33   57% off  \n",
       "34   62% off  \n",
       "35   30% off  \n",
       "36   70% off  \n",
       "37   52% off  \n",
       "38   52% off  \n",
       "39   84% off  "
      ]
     },
     "execution_count": 24,
     "metadata": {},
     "output_type": "execute_result"
    }
   ],
   "source": [
    "import pandas as pd\n",
    "\n",
    "sneakers=pd.DataFrame({})\n",
    "sneakers['brands']= brand\n",
    "sneakers['product detail'] = product_description\n",
    "sneakers['amount'] = price\n",
    "sneakers['discounts'] = percent_discount[0:40]\n",
    "\n",
    "sneakers"
   ]
  },
  {
   "cell_type": "code",
   "execution_count": 25,
   "id": "beb84c97",
   "metadata": {},
   "outputs": [],
   "source": [
    "\n",
    "\n",
    "\n",
    "\n",
    "7. \n",
    "\n",
    "import pandas as pd \n",
    "import selenium\n",
    "from selenium import webdriver\n",
    "\n",
    "\n",
    "driver = webdriver.Chrome(r\"C:\\web driver\\chromedriver.exe\")\n",
    "driver.get(\"https://www.myntra.com/shoes\")\n"
   ]
  },
  {
   "cell_type": "code",
   "execution_count": 30,
   "id": "a12b8a0c",
   "metadata": {},
   "outputs": [],
   "source": [
    "color_button = driver.find_element_by_xpath(\"/html/body/div[2]/div/div[1]/main/div[3]/div[1]/section/div/div[6]/ul/li[1]/label\")\n",
    "color_button.click()\n",
    "\n",
    "\n",
    "salary_button = driver.find_element_by_xpath(\"/html/body/div[2]/div/div[1]/main/div[3]/div[1]/section/div/div[5]/ul/li[2]/label\")\n",
    "salary_button.click()"
   ]
  },
  {
   "cell_type": "code",
   "execution_count": 31,
   "id": "2a3fe880",
   "metadata": {},
   "outputs": [],
   "source": [
    "brand=[]\n",
    "shoe_description=[]\n",
    "price=[]"
   ]
  },
  {
   "cell_type": "code",
   "execution_count": 32,
   "id": "fb67364d",
   "metadata": {},
   "outputs": [
    {
     "data": {
      "text/plain": [
       "['Skechers',\n",
       " 'Puma',\n",
       " 'Puma',\n",
       " 'ADIDAS',\n",
       " 'UNDER ARMOUR',\n",
       " 'Puma',\n",
       " 'Vans',\n",
       " 'Puma',\n",
       " 'UNDER ARMOUR',\n",
       " 'UNDER ARMOUR',\n",
       " 'Hush Puppies',\n",
       " 'Puma',\n",
       " 'Puma',\n",
       " 'EVADICT By Decathlon',\n",
       " 'Versace Jeans Couture',\n",
       " 'Saint G',\n",
       " 'ADIDAS Originals',\n",
       " 'Geox',\n",
       " 'UNDER ARMOUR',\n",
       " 'Bugatti',\n",
       " 'Saint G',\n",
       " 'Geox',\n",
       " 'Versace Jeans Couture',\n",
       " 'Geox',\n",
       " 'Geox',\n",
       " 'Geox',\n",
       " 'Geox',\n",
       " 'Saint G',\n",
       " 'Polo Ralph Lauren',\n",
       " 'Geox',\n",
       " 'Clarks',\n",
       " 'Clarks',\n",
       " 'Saint G',\n",
       " 'ROSSO BRUNELLO',\n",
       " 'DAVINCHI',\n",
       " 'Bugatti',\n",
       " 'Geox',\n",
       " 'Geox',\n",
       " 'Geox',\n",
       " 'Saint G',\n",
       " 'Columbia',\n",
       " 'Cole Haan',\n",
       " 'Columbia',\n",
       " 'Geox',\n",
       " 'Columbia',\n",
       " 'J.FONTINI',\n",
       " 'Clarks',\n",
       " 'DAVINCHI',\n",
       " 'KIPRUN By Decathlon',\n",
       " 'J.FONTINI']"
      ]
     },
     "execution_count": 32,
     "metadata": {},
     "output_type": "execute_result"
    }
   ],
   "source": [
    "brand_name=driver.find_elements_by_class_name(\"product-brand\")\n",
    "brand_name[0:50]\n",
    "\n",
    "for i in brand_name:\n",
    "    brands=i.text\n",
    "    brand.append(brands)\n",
    "brand[0:50]"
   ]
  },
  {
   "cell_type": "code",
   "execution_count": 33,
   "id": "76f8a803",
   "metadata": {},
   "outputs": [
    {
     "data": {
      "text/plain": [
       "['Men ENIGMA Running Shoes',\n",
       " 'Men M Nitro Running Shoess',\n",
       " 'Eternity Nitro Running Shoes',\n",
       " 'Men Solar Glide 4 ST Running',\n",
       " 'Men HOVR Sonic SE Running Shoe',\n",
       " 'Men Deviate Nitro Shoes',\n",
       " 'Men Colourblocked Sneakers',\n",
       " 'Men D Nitro WTR Running Shoes',\n",
       " 'Women Charged Breeze Running',\n",
       " 'Women Hovr Sonic SE Run Shoes',\n",
       " 'Men Solid Formal Slip-Ons',\n",
       " 'Women Running Sports Shoes',\n",
       " 'Women Magnify Nitro Running',\n",
       " 'Men Running Shoes',\n",
       " 'Men Training or Gym Shoes',\n",
       " 'Leather Block Sandals',\n",
       " 'Women Ozelia Sneakers',\n",
       " 'Men Leather Loafers',\n",
       " 'W omen TriBase Reign 4 Running',\n",
       " 'Men Solid Leather Formal Derbys',\n",
       " 'Leather High-Top Block Heeled Boots',\n",
       " 'Men Perforations Sneakers',\n",
       " 'Men Training or Gym Shoes',\n",
       " 'Men Leather Driving Shoes',\n",
       " 'Men Leather Sneakers',\n",
       " 'Men Leather Sneakers',\n",
       " 'Men Leather Formal Slip-Ons',\n",
       " 'Suede Leather Block Heel Boots',\n",
       " 'Men Solid Sneakers',\n",
       " 'Men Textured Leather Driving Shoes',\n",
       " 'Men Woven Design Suede Flat Boots',\n",
       " 'Men Leather Slip-On Sneakers',\n",
       " 'Men Leather Chelsea Boots',\n",
       " 'Men Solid Leather Oxfords',\n",
       " 'Men Textured Formal Leather Loafers',\n",
       " 'Women Textured Leather Oxfords',\n",
       " 'Leather Block Pumps',\n",
       " 'Textured Leather Block Pumps',\n",
       " 'Women Ballerinas Flats',\n",
       " 'Leather Block',\n",
       " 'PEAKFREAK OUTDRY Trekking Shoe',\n",
       " 'Men GENERATION ZEROGRAND STITCHLITE',\n",
       " 'Women Trekking Shoes',\n",
       " 'Men Solid Slip-On Sneakers',\n",
       " 'Men FACET OUTDRY Trekking Shoe',\n",
       " 'Men Solid Loafers',\n",
       " 'Men Solid Formal Leather Derbys',\n",
       " 'Men Formal Leather Slip-Ons',\n",
       " 'Men Running Shoes',\n",
       " 'Men Textured Leather Formal Loafers']"
      ]
     },
     "execution_count": 33,
     "metadata": {},
     "output_type": "execute_result"
    }
   ],
   "source": [
    "short_shoe=driver.find_elements_by_xpath(\"//h4[@class='product-product']\")\n",
    "short_shoe[0:50]\n",
    "\n",
    "for i in short_shoe:\n",
    "    shoe=i.text\n",
    "    shoe_description.append(shoe)\n",
    "shoe_description[0:50]"
   ]
  },
  {
   "cell_type": "code",
   "execution_count": 34,
   "id": "a8c2eba9",
   "metadata": {},
   "outputs": [
    {
     "data": {
      "text/plain": [
       "['Rs. 9024Rs. 9499(5% OFF)',\n",
       " 'Rs. 9099Rs. 12999(30% OFF)',\n",
       " 'Rs. 9099Rs. 12999(30% OFF)',\n",
       " 'Rs. 11999Rs. 14999(20% OFF)',\n",
       " 'Rs. 9999',\n",
       " 'Rs. 10499Rs. 14999(30% OFF)',\n",
       " 'Rs. 10999',\n",
       " 'Rs. 11199Rs. 15999(30% OFF)',\n",
       " 'Rs. 8999',\n",
       " 'Rs. 9999',\n",
       " 'Rs. 9999',\n",
       " 'Rs. 10499Rs. 14999(30% OFF)',\n",
       " 'Rs. 9099Rs. 12999(30% OFF)',\n",
       " 'Rs. 10289Rs. 10499(2% OFF)',\n",
       " 'Rs. 25000',\n",
       " 'Rs. 9810Rs. 10900(10% OFF)',\n",
       " 'Rs. 8799Rs. 10999(20% OFF)',\n",
       " 'Rs. 10990',\n",
       " 'Rs. 11999',\n",
       " 'Rs. 8999Rs. 9999(10% OFF)',\n",
       " 'Rs. 15675Rs. 16500(5% OFF)',\n",
       " 'Rs. 13990',\n",
       " 'Rs. 25000',\n",
       " 'Rs. 8992Rs. 11990(25% OFF)',\n",
       " 'Rs. 10990',\n",
       " 'Rs. 13990',\n",
       " 'Rs. 9990',\n",
       " 'Rs. 10355Rs. 10900(5% OFF)',\n",
       " 'Rs. 14000',\n",
       " 'Rs. 10990',\n",
       " 'Rs. 9999',\n",
       " 'Rs. 8999',\n",
       " 'Rs. 10710Rs. 11900(10% OFF)',\n",
       " 'Rs. 14999',\n",
       " 'Rs. 9990',\n",
       " 'Rs. 9999',\n",
       " 'Rs. 8992Rs. 11990(25% OFF)',\n",
       " 'Rs. 8992Rs. 11990(25% OFF)',\n",
       " 'Rs. 10990',\n",
       " 'Rs. 9975Rs. 10500(5% OFF)',\n",
       " 'Rs. 9999',\n",
       " 'Rs. 11999',\n",
       " 'Rs. 8999',\n",
       " 'Rs. 13990',\n",
       " 'Rs. 12999',\n",
       " 'Rs. 8990',\n",
       " 'Rs. 9999',\n",
       " 'Rs. 8990',\n",
       " 'Rs. 8685Rs. 10099(14% OFF)',\n",
       " 'Rs. 8990']"
      ]
     },
     "execution_count": 34,
     "metadata": {},
     "output_type": "execute_result"
    }
   ],
   "source": [
    "price_tag=driver.find_elements_by_xpath(\"//div[@class='product-price']\")\n",
    "price_tag[0:50]\n",
    "\n",
    "for i in price_tag:\n",
    "    prices=i.text\n",
    "    price.append(prices)\n",
    "price[0:50]"
   ]
  },
  {
   "cell_type": "code",
   "execution_count": 35,
   "id": "b61f8b43",
   "metadata": {},
   "outputs": [
    {
     "data": {
      "text/html": [
       "<div>\n",
       "<style scoped>\n",
       "    .dataframe tbody tr th:only-of-type {\n",
       "        vertical-align: middle;\n",
       "    }\n",
       "\n",
       "    .dataframe tbody tr th {\n",
       "        vertical-align: top;\n",
       "    }\n",
       "\n",
       "    .dataframe thead th {\n",
       "        text-align: right;\n",
       "    }\n",
       "</style>\n",
       "<table border=\"1\" class=\"dataframe\">\n",
       "  <thead>\n",
       "    <tr style=\"text-align: right;\">\n",
       "      <th></th>\n",
       "      <th>brands_name</th>\n",
       "      <th>description</th>\n",
       "      <th>amount</th>\n",
       "    </tr>\n",
       "  </thead>\n",
       "  <tbody>\n",
       "    <tr>\n",
       "      <th>0</th>\n",
       "      <td>Skechers</td>\n",
       "      <td>Men ENIGMA Running Shoes</td>\n",
       "      <td>Rs. 9024Rs. 9499(5% OFF)</td>\n",
       "    </tr>\n",
       "    <tr>\n",
       "      <th>1</th>\n",
       "      <td>Puma</td>\n",
       "      <td>Men M Nitro Running Shoess</td>\n",
       "      <td>Rs. 9099Rs. 12999(30% OFF)</td>\n",
       "    </tr>\n",
       "    <tr>\n",
       "      <th>2</th>\n",
       "      <td>Puma</td>\n",
       "      <td>Eternity Nitro Running Shoes</td>\n",
       "      <td>Rs. 9099Rs. 12999(30% OFF)</td>\n",
       "    </tr>\n",
       "    <tr>\n",
       "      <th>3</th>\n",
       "      <td>ADIDAS</td>\n",
       "      <td>Men Solar Glide 4 ST Running</td>\n",
       "      <td>Rs. 11999Rs. 14999(20% OFF)</td>\n",
       "    </tr>\n",
       "    <tr>\n",
       "      <th>4</th>\n",
       "      <td>UNDER ARMOUR</td>\n",
       "      <td>Men HOVR Sonic SE Running Shoe</td>\n",
       "      <td>Rs. 9999</td>\n",
       "    </tr>\n",
       "    <tr>\n",
       "      <th>5</th>\n",
       "      <td>Puma</td>\n",
       "      <td>Men Deviate Nitro Shoes</td>\n",
       "      <td>Rs. 10499Rs. 14999(30% OFF)</td>\n",
       "    </tr>\n",
       "    <tr>\n",
       "      <th>6</th>\n",
       "      <td>Vans</td>\n",
       "      <td>Men Colourblocked Sneakers</td>\n",
       "      <td>Rs. 10999</td>\n",
       "    </tr>\n",
       "    <tr>\n",
       "      <th>7</th>\n",
       "      <td>Puma</td>\n",
       "      <td>Men D Nitro WTR Running Shoes</td>\n",
       "      <td>Rs. 11199Rs. 15999(30% OFF)</td>\n",
       "    </tr>\n",
       "    <tr>\n",
       "      <th>8</th>\n",
       "      <td>UNDER ARMOUR</td>\n",
       "      <td>Women Charged Breeze Running</td>\n",
       "      <td>Rs. 8999</td>\n",
       "    </tr>\n",
       "    <tr>\n",
       "      <th>9</th>\n",
       "      <td>UNDER ARMOUR</td>\n",
       "      <td>Women Hovr Sonic SE Run Shoes</td>\n",
       "      <td>Rs. 9999</td>\n",
       "    </tr>\n",
       "    <tr>\n",
       "      <th>10</th>\n",
       "      <td>Hush Puppies</td>\n",
       "      <td>Men Solid Formal Slip-Ons</td>\n",
       "      <td>Rs. 9999</td>\n",
       "    </tr>\n",
       "    <tr>\n",
       "      <th>11</th>\n",
       "      <td>Puma</td>\n",
       "      <td>Women Running Sports Shoes</td>\n",
       "      <td>Rs. 10499Rs. 14999(30% OFF)</td>\n",
       "    </tr>\n",
       "    <tr>\n",
       "      <th>12</th>\n",
       "      <td>Puma</td>\n",
       "      <td>Women Magnify Nitro Running</td>\n",
       "      <td>Rs. 9099Rs. 12999(30% OFF)</td>\n",
       "    </tr>\n",
       "    <tr>\n",
       "      <th>13</th>\n",
       "      <td>EVADICT By Decathlon</td>\n",
       "      <td>Men Running Shoes</td>\n",
       "      <td>Rs. 10289Rs. 10499(2% OFF)</td>\n",
       "    </tr>\n",
       "    <tr>\n",
       "      <th>14</th>\n",
       "      <td>Versace Jeans Couture</td>\n",
       "      <td>Men Training or Gym Shoes</td>\n",
       "      <td>Rs. 25000</td>\n",
       "    </tr>\n",
       "    <tr>\n",
       "      <th>15</th>\n",
       "      <td>Saint G</td>\n",
       "      <td>Leather Block Sandals</td>\n",
       "      <td>Rs. 9810Rs. 10900(10% OFF)</td>\n",
       "    </tr>\n",
       "    <tr>\n",
       "      <th>16</th>\n",
       "      <td>ADIDAS Originals</td>\n",
       "      <td>Women Ozelia Sneakers</td>\n",
       "      <td>Rs. 8799Rs. 10999(20% OFF)</td>\n",
       "    </tr>\n",
       "    <tr>\n",
       "      <th>17</th>\n",
       "      <td>Geox</td>\n",
       "      <td>Men Leather Loafers</td>\n",
       "      <td>Rs. 10990</td>\n",
       "    </tr>\n",
       "    <tr>\n",
       "      <th>18</th>\n",
       "      <td>UNDER ARMOUR</td>\n",
       "      <td>W omen TriBase Reign 4 Running</td>\n",
       "      <td>Rs. 11999</td>\n",
       "    </tr>\n",
       "    <tr>\n",
       "      <th>19</th>\n",
       "      <td>Bugatti</td>\n",
       "      <td>Men Solid Leather Formal Derbys</td>\n",
       "      <td>Rs. 8999Rs. 9999(10% OFF)</td>\n",
       "    </tr>\n",
       "    <tr>\n",
       "      <th>20</th>\n",
       "      <td>Saint G</td>\n",
       "      <td>Leather High-Top Block Heeled Boots</td>\n",
       "      <td>Rs. 15675Rs. 16500(5% OFF)</td>\n",
       "    </tr>\n",
       "    <tr>\n",
       "      <th>21</th>\n",
       "      <td>Geox</td>\n",
       "      <td>Men Perforations Sneakers</td>\n",
       "      <td>Rs. 13990</td>\n",
       "    </tr>\n",
       "    <tr>\n",
       "      <th>22</th>\n",
       "      <td>Versace Jeans Couture</td>\n",
       "      <td>Men Training or Gym Shoes</td>\n",
       "      <td>Rs. 25000</td>\n",
       "    </tr>\n",
       "    <tr>\n",
       "      <th>23</th>\n",
       "      <td>Geox</td>\n",
       "      <td>Men Leather Driving Shoes</td>\n",
       "      <td>Rs. 8992Rs. 11990(25% OFF)</td>\n",
       "    </tr>\n",
       "    <tr>\n",
       "      <th>24</th>\n",
       "      <td>Geox</td>\n",
       "      <td>Men Leather Sneakers</td>\n",
       "      <td>Rs. 10990</td>\n",
       "    </tr>\n",
       "    <tr>\n",
       "      <th>25</th>\n",
       "      <td>Geox</td>\n",
       "      <td>Men Leather Sneakers</td>\n",
       "      <td>Rs. 13990</td>\n",
       "    </tr>\n",
       "    <tr>\n",
       "      <th>26</th>\n",
       "      <td>Geox</td>\n",
       "      <td>Men Leather Formal Slip-Ons</td>\n",
       "      <td>Rs. 9990</td>\n",
       "    </tr>\n",
       "    <tr>\n",
       "      <th>27</th>\n",
       "      <td>Saint G</td>\n",
       "      <td>Suede Leather Block Heel Boots</td>\n",
       "      <td>Rs. 10355Rs. 10900(5% OFF)</td>\n",
       "    </tr>\n",
       "    <tr>\n",
       "      <th>28</th>\n",
       "      <td>Polo Ralph Lauren</td>\n",
       "      <td>Men Solid Sneakers</td>\n",
       "      <td>Rs. 14000</td>\n",
       "    </tr>\n",
       "    <tr>\n",
       "      <th>29</th>\n",
       "      <td>Geox</td>\n",
       "      <td>Men Textured Leather Driving Shoes</td>\n",
       "      <td>Rs. 10990</td>\n",
       "    </tr>\n",
       "    <tr>\n",
       "      <th>30</th>\n",
       "      <td>Clarks</td>\n",
       "      <td>Men Woven Design Suede Flat Boots</td>\n",
       "      <td>Rs. 9999</td>\n",
       "    </tr>\n",
       "    <tr>\n",
       "      <th>31</th>\n",
       "      <td>Clarks</td>\n",
       "      <td>Men Leather Slip-On Sneakers</td>\n",
       "      <td>Rs. 8999</td>\n",
       "    </tr>\n",
       "    <tr>\n",
       "      <th>32</th>\n",
       "      <td>Saint G</td>\n",
       "      <td>Men Leather Chelsea Boots</td>\n",
       "      <td>Rs. 10710Rs. 11900(10% OFF)</td>\n",
       "    </tr>\n",
       "    <tr>\n",
       "      <th>33</th>\n",
       "      <td>ROSSO BRUNELLO</td>\n",
       "      <td>Men Solid Leather Oxfords</td>\n",
       "      <td>Rs. 14999</td>\n",
       "    </tr>\n",
       "    <tr>\n",
       "      <th>34</th>\n",
       "      <td>DAVINCHI</td>\n",
       "      <td>Men Textured Formal Leather Loafers</td>\n",
       "      <td>Rs. 9990</td>\n",
       "    </tr>\n",
       "    <tr>\n",
       "      <th>35</th>\n",
       "      <td>Bugatti</td>\n",
       "      <td>Women Textured Leather Oxfords</td>\n",
       "      <td>Rs. 9999</td>\n",
       "    </tr>\n",
       "    <tr>\n",
       "      <th>36</th>\n",
       "      <td>Geox</td>\n",
       "      <td>Leather Block Pumps</td>\n",
       "      <td>Rs. 8992Rs. 11990(25% OFF)</td>\n",
       "    </tr>\n",
       "    <tr>\n",
       "      <th>37</th>\n",
       "      <td>Geox</td>\n",
       "      <td>Textured Leather Block Pumps</td>\n",
       "      <td>Rs. 8992Rs. 11990(25% OFF)</td>\n",
       "    </tr>\n",
       "    <tr>\n",
       "      <th>38</th>\n",
       "      <td>Geox</td>\n",
       "      <td>Women Ballerinas Flats</td>\n",
       "      <td>Rs. 10990</td>\n",
       "    </tr>\n",
       "    <tr>\n",
       "      <th>39</th>\n",
       "      <td>Saint G</td>\n",
       "      <td>Leather Block</td>\n",
       "      <td>Rs. 9975Rs. 10500(5% OFF)</td>\n",
       "    </tr>\n",
       "    <tr>\n",
       "      <th>40</th>\n",
       "      <td>Columbia</td>\n",
       "      <td>PEAKFREAK OUTDRY Trekking Shoe</td>\n",
       "      <td>Rs. 9999</td>\n",
       "    </tr>\n",
       "    <tr>\n",
       "      <th>41</th>\n",
       "      <td>Cole Haan</td>\n",
       "      <td>Men GENERATION ZEROGRAND STITCHLITE</td>\n",
       "      <td>Rs. 11999</td>\n",
       "    </tr>\n",
       "    <tr>\n",
       "      <th>42</th>\n",
       "      <td>Columbia</td>\n",
       "      <td>Women Trekking Shoes</td>\n",
       "      <td>Rs. 8999</td>\n",
       "    </tr>\n",
       "    <tr>\n",
       "      <th>43</th>\n",
       "      <td>Geox</td>\n",
       "      <td>Men Solid Slip-On Sneakers</td>\n",
       "      <td>Rs. 13990</td>\n",
       "    </tr>\n",
       "    <tr>\n",
       "      <th>44</th>\n",
       "      <td>Columbia</td>\n",
       "      <td>Men FACET OUTDRY Trekking Shoe</td>\n",
       "      <td>Rs. 12999</td>\n",
       "    </tr>\n",
       "    <tr>\n",
       "      <th>45</th>\n",
       "      <td>J.FONTINI</td>\n",
       "      <td>Men Solid Loafers</td>\n",
       "      <td>Rs. 8990</td>\n",
       "    </tr>\n",
       "    <tr>\n",
       "      <th>46</th>\n",
       "      <td>Clarks</td>\n",
       "      <td>Men Solid Formal Leather Derbys</td>\n",
       "      <td>Rs. 9999</td>\n",
       "    </tr>\n",
       "    <tr>\n",
       "      <th>47</th>\n",
       "      <td>DAVINCHI</td>\n",
       "      <td>Men Formal Leather Slip-Ons</td>\n",
       "      <td>Rs. 8990</td>\n",
       "    </tr>\n",
       "    <tr>\n",
       "      <th>48</th>\n",
       "      <td>KIPRUN By Decathlon</td>\n",
       "      <td>Men Running Shoes</td>\n",
       "      <td>Rs. 8685Rs. 10099(14% OFF)</td>\n",
       "    </tr>\n",
       "    <tr>\n",
       "      <th>49</th>\n",
       "      <td>J.FONTINI</td>\n",
       "      <td>Men Textured Leather Formal Loafers</td>\n",
       "      <td>Rs. 8990</td>\n",
       "    </tr>\n",
       "  </tbody>\n",
       "</table>\n",
       "</div>"
      ],
      "text/plain": [
       "              brands_name                          description  \\\n",
       "0                Skechers             Men ENIGMA Running Shoes   \n",
       "1                    Puma           Men M Nitro Running Shoess   \n",
       "2                    Puma         Eternity Nitro Running Shoes   \n",
       "3                  ADIDAS         Men Solar Glide 4 ST Running   \n",
       "4            UNDER ARMOUR       Men HOVR Sonic SE Running Shoe   \n",
       "5                    Puma              Men Deviate Nitro Shoes   \n",
       "6                    Vans           Men Colourblocked Sneakers   \n",
       "7                    Puma        Men D Nitro WTR Running Shoes   \n",
       "8            UNDER ARMOUR         Women Charged Breeze Running   \n",
       "9            UNDER ARMOUR        Women Hovr Sonic SE Run Shoes   \n",
       "10           Hush Puppies            Men Solid Formal Slip-Ons   \n",
       "11                   Puma           Women Running Sports Shoes   \n",
       "12                   Puma          Women Magnify Nitro Running   \n",
       "13   EVADICT By Decathlon                    Men Running Shoes   \n",
       "14  Versace Jeans Couture            Men Training or Gym Shoes   \n",
       "15                Saint G                Leather Block Sandals   \n",
       "16       ADIDAS Originals                Women Ozelia Sneakers   \n",
       "17                   Geox                  Men Leather Loafers   \n",
       "18           UNDER ARMOUR       W omen TriBase Reign 4 Running   \n",
       "19                Bugatti      Men Solid Leather Formal Derbys   \n",
       "20                Saint G  Leather High-Top Block Heeled Boots   \n",
       "21                   Geox            Men Perforations Sneakers   \n",
       "22  Versace Jeans Couture            Men Training or Gym Shoes   \n",
       "23                   Geox            Men Leather Driving Shoes   \n",
       "24                   Geox                 Men Leather Sneakers   \n",
       "25                   Geox                 Men Leather Sneakers   \n",
       "26                   Geox          Men Leather Formal Slip-Ons   \n",
       "27                Saint G       Suede Leather Block Heel Boots   \n",
       "28      Polo Ralph Lauren                   Men Solid Sneakers   \n",
       "29                   Geox   Men Textured Leather Driving Shoes   \n",
       "30                 Clarks    Men Woven Design Suede Flat Boots   \n",
       "31                 Clarks         Men Leather Slip-On Sneakers   \n",
       "32                Saint G            Men Leather Chelsea Boots   \n",
       "33         ROSSO BRUNELLO            Men Solid Leather Oxfords   \n",
       "34               DAVINCHI  Men Textured Formal Leather Loafers   \n",
       "35                Bugatti       Women Textured Leather Oxfords   \n",
       "36                   Geox                  Leather Block Pumps   \n",
       "37                   Geox         Textured Leather Block Pumps   \n",
       "38                   Geox               Women Ballerinas Flats   \n",
       "39                Saint G                        Leather Block   \n",
       "40               Columbia       PEAKFREAK OUTDRY Trekking Shoe   \n",
       "41              Cole Haan  Men GENERATION ZEROGRAND STITCHLITE   \n",
       "42               Columbia                 Women Trekking Shoes   \n",
       "43                   Geox           Men Solid Slip-On Sneakers   \n",
       "44               Columbia       Men FACET OUTDRY Trekking Shoe   \n",
       "45              J.FONTINI                    Men Solid Loafers   \n",
       "46                 Clarks      Men Solid Formal Leather Derbys   \n",
       "47               DAVINCHI          Men Formal Leather Slip-Ons   \n",
       "48    KIPRUN By Decathlon                    Men Running Shoes   \n",
       "49              J.FONTINI  Men Textured Leather Formal Loafers   \n",
       "\n",
       "                         amount  \n",
       "0      Rs. 9024Rs. 9499(5% OFF)  \n",
       "1    Rs. 9099Rs. 12999(30% OFF)  \n",
       "2    Rs. 9099Rs. 12999(30% OFF)  \n",
       "3   Rs. 11999Rs. 14999(20% OFF)  \n",
       "4                      Rs. 9999  \n",
       "5   Rs. 10499Rs. 14999(30% OFF)  \n",
       "6                     Rs. 10999  \n",
       "7   Rs. 11199Rs. 15999(30% OFF)  \n",
       "8                      Rs. 8999  \n",
       "9                      Rs. 9999  \n",
       "10                     Rs. 9999  \n",
       "11  Rs. 10499Rs. 14999(30% OFF)  \n",
       "12   Rs. 9099Rs. 12999(30% OFF)  \n",
       "13   Rs. 10289Rs. 10499(2% OFF)  \n",
       "14                    Rs. 25000  \n",
       "15   Rs. 9810Rs. 10900(10% OFF)  \n",
       "16   Rs. 8799Rs. 10999(20% OFF)  \n",
       "17                    Rs. 10990  \n",
       "18                    Rs. 11999  \n",
       "19    Rs. 8999Rs. 9999(10% OFF)  \n",
       "20   Rs. 15675Rs. 16500(5% OFF)  \n",
       "21                    Rs. 13990  \n",
       "22                    Rs. 25000  \n",
       "23   Rs. 8992Rs. 11990(25% OFF)  \n",
       "24                    Rs. 10990  \n",
       "25                    Rs. 13990  \n",
       "26                     Rs. 9990  \n",
       "27   Rs. 10355Rs. 10900(5% OFF)  \n",
       "28                    Rs. 14000  \n",
       "29                    Rs. 10990  \n",
       "30                     Rs. 9999  \n",
       "31                     Rs. 8999  \n",
       "32  Rs. 10710Rs. 11900(10% OFF)  \n",
       "33                    Rs. 14999  \n",
       "34                     Rs. 9990  \n",
       "35                     Rs. 9999  \n",
       "36   Rs. 8992Rs. 11990(25% OFF)  \n",
       "37   Rs. 8992Rs. 11990(25% OFF)  \n",
       "38                    Rs. 10990  \n",
       "39    Rs. 9975Rs. 10500(5% OFF)  \n",
       "40                     Rs. 9999  \n",
       "41                    Rs. 11999  \n",
       "42                     Rs. 8999  \n",
       "43                    Rs. 13990  \n",
       "44                    Rs. 12999  \n",
       "45                     Rs. 8990  \n",
       "46                     Rs. 9999  \n",
       "47                     Rs. 8990  \n",
       "48   Rs. 8685Rs. 10099(14% OFF)  \n",
       "49                     Rs. 8990  "
      ]
     },
     "execution_count": 35,
     "metadata": {},
     "output_type": "execute_result"
    }
   ],
   "source": [
    "shoes=pd.DataFrame({})\n",
    "shoes['brands_name']=brand\n",
    "shoes['description']=shoe_description\n",
    "shoes['amount']=price\n",
    "\n",
    "shoes"
   ]
  },
  {
   "cell_type": "code",
   "execution_count": 41,
   "id": "f3e061b2",
   "metadata": {},
   "outputs": [],
   "source": [
    "next_button=driver.find_element_by_xpath('/html/body/div[2]/div/div[1]/main/div[3]/div[2]/div/div[2]/section/div[2]/ul/li[11]')\n",
    "next_button.click()"
   ]
  },
  {
   "cell_type": "code",
   "execution_count": 42,
   "id": "c1e021a5",
   "metadata": {},
   "outputs": [
    {
     "data": {
      "text/plain": [
       "['ADIDAS Originals',\n",
       " 'ASICS',\n",
       " 'Clarks',\n",
       " 'Cole Haan',\n",
       " 'PUMA Motorsport',\n",
       " 'Tommy Hilfiger',\n",
       " 'ASICS',\n",
       " 'ADIDAS Originals',\n",
       " 'ASICS',\n",
       " 'ROSSO BRUNELLO',\n",
       " 'ROSSO BRUNELLO',\n",
       " 'Clarks',\n",
       " 'ECCO',\n",
       " 'ASICS',\n",
       " 'Cole Haan',\n",
       " 'ALDO',\n",
       " 'Saint G',\n",
       " 'ALDO',\n",
       " 'Saint G',\n",
       " 'ROSSO BRUNELLO',\n",
       " 'ECCO',\n",
       " 'ECCO',\n",
       " 'ECCO',\n",
       " 'Birkenstock',\n",
       " 'Pavers England',\n",
       " 'Columbia',\n",
       " 'Birkenstock',\n",
       " 'Birkenstock',\n",
       " 'DAVINCHI',\n",
       " 'ADIDAS',\n",
       " 'ALDO',\n",
       " 'Geox',\n",
       " 'Cole Haan',\n",
       " 'ADIDAS Originals',\n",
       " 'ADIDAS Originals',\n",
       " 'ASICS',\n",
       " 'ASICS',\n",
       " 'ROSSO BRUNELLO',\n",
       " 'ADIDAS Originals',\n",
       " 'ROSSO BRUNELLO',\n",
       " 'ATESBER',\n",
       " 'ALDO',\n",
       " 'ASICS',\n",
       " 'Kenkoh',\n",
       " 'Pavers England',\n",
       " 'ROSSO BRUNELLO',\n",
       " 'Saint G',\n",
       " 'ROSSO BRUNELLO',\n",
       " 'ALDO']"
      ]
     },
     "execution_count": 42,
     "metadata": {},
     "output_type": "execute_result"
    }
   ],
   "source": [
    "brand_name=driver.find_elements_by_class_name(\"product-brand\")\n",
    "brand_name[51:100]\n",
    "\n",
    "for i in brand_name:\n",
    "    brands=i.text\n",
    "    brand.append(brands)\n",
    "brand[51:100]"
   ]
  },
  {
   "cell_type": "code",
   "execution_count": 43,
   "id": "a187d54c",
   "metadata": {},
   "outputs": [
    {
     "data": {
      "text/plain": [
       "['Men NMD_R1 V3 Sneakers',\n",
       " 'Men Running Shoes',\n",
       " 'Men Leather Derbys',\n",
       " 'Men Lightweight Brogues',\n",
       " 'Men BMW MMS Kart Sneakers',\n",
       " 'Men Solid Loafers',\n",
       " 'Men Running Shoes',\n",
       " 'Men ZX 2K Boost 2.0 Sneakers',\n",
       " 'Men GEL-KAYANO Running Shoes',\n",
       " 'Men Leather Formal Oxfords',\n",
       " 'Men Solid Leather Formal Monk Shoes',\n",
       " 'Men Solid Leather Formal Derbys',\n",
       " 'Men Solid Leather Formal Slip-On',\n",
       " 'GEL-Cumulus Running Shoes',\n",
       " 'Women High Top Heeled Boots',\n",
       " 'Men Leather Driving Shoes',\n",
       " 'Leather Stiletto Sandals',\n",
       " 'Men Textured Leather Driving Shoes',\n",
       " 'Textured Leather Stiletto Pumps',\n",
       " 'Men Leather Driving Shoes',\n",
       " 'Women Open Toe Flats',\n",
       " 'Leather Block Pumps with Buckles',\n",
       " 'Men Formal Slip-On Shoes',\n",
       " 'Women Ballerinas Flats',\n",
       " 'Men Textured Leather Driving Shoes',\n",
       " 'PANINARO OMNI-HEAT Trekking',\n",
       " 'Women Samira Natural Leather Black Narrow Width',\n",
       " 'Madrid Oiled Open Toe Flats',\n",
       " 'Men Slip-On Sneakers',\n",
       " 'Men Dropset Training Shoes',\n",
       " 'Men Leather Loafers',\n",
       " 'Men Leather Sneakers',\n",
       " 'Solid Leather Formal Brogues',\n",
       " 'Men ZX 1K Boost Pure Sneakers',\n",
       " 'Men Woven NMD_R1 Sneakers',\n",
       " 'Men Running Shoes',\n",
       " 'Men GT-2000 9 Running Shoes',\n",
       " 'Men Textured Leather Loafers',\n",
       " 'Men Forum Tech Boost Flatforms',\n",
       " 'Men Leather Loafers',\n",
       " 'Men Solid Leather Formal Loafers',\n",
       " 'Solid Leather Formal Oxfords',\n",
       " 'Men Running Shoes',\n",
       " 'Men Open Toe Flats',\n",
       " 'Men Formal Loafers',\n",
       " 'Men Solid Leather Formal Loafers',\n",
       " 'Women Leather Boots',\n",
       " 'Men Leather Loafers',\n",
       " 'Men Leather Loafers']"
      ]
     },
     "execution_count": 43,
     "metadata": {},
     "output_type": "execute_result"
    }
   ],
   "source": [
    "short_shoe=driver.find_elements_by_xpath(\"//h4[@class='product-product']\")\n",
    "short_shoe[51:100]\n",
    "\n",
    "for i in short_shoe:\n",
    "    shoe=i.text\n",
    "    shoe_description.append(shoe)\n",
    "shoe_description[51:100]"
   ]
  },
  {
   "cell_type": "code",
   "execution_count": 44,
   "id": "b030fa90",
   "metadata": {},
   "outputs": [
    {
     "data": {
      "text/plain": [
       "['Rs. 14399Rs. 15999(10% OFF)',\n",
       " 'Rs. 14249Rs. 14999(5% OFF)',\n",
       " 'Rs. 8999',\n",
       " 'Rs. 15999',\n",
       " 'Rs. 9999',\n",
       " 'Rs. 8999',\n",
       " 'Rs. 8999Rs. 11999(25% OFF)',\n",
       " 'Rs. 9799Rs. 13999(30% OFF)',\n",
       " 'Rs. 10399Rs. 12999(20% OFF)',\n",
       " 'Rs. 9999',\n",
       " 'Rs. 9599Rs. 11999(20% OFF)',\n",
       " 'Rs. 9499Rs. 18999(50% OFF)',\n",
       " 'Rs. 13999',\n",
       " 'Rs. 9499Rs. 9999(5% OFF)',\n",
       " 'Rs. 9499Rs. 18999(50% OFF)',\n",
       " 'Rs. 9099Rs. 12999(30% OFF)',\n",
       " 'Rs. 9025Rs. 9500(5% OFF)',\n",
       " 'Rs. 8999Rs. 14999(40% OFF)',\n",
       " 'Rs. 9025Rs. 9500(5% OFF)',\n",
       " 'Rs. 9999',\n",
       " 'Rs. 9999',\n",
       " 'Rs. 11999',\n",
       " 'Rs. 13999',\n",
       " 'Rs. 8990',\n",
       " 'Rs. 9999',\n",
       " 'Rs. 10889Rs. 10999(1% OFF)',\n",
       " 'Rs. 9990',\n",
       " 'Rs. 9990',\n",
       " 'Rs. 9990',\n",
       " 'Rs. 11049Rs. 12999(15% OFF)',\n",
       " 'Rs. 14999',\n",
       " 'Rs. 12990',\n",
       " 'Rs. 9999Rs. 19999(50% OFF)',\n",
       " 'Rs. 9999',\n",
       " 'Rs. 9099Rs. 12999(30% OFF)',\n",
       " 'Rs. 14249Rs. 14999(5% OFF)',\n",
       " 'Rs. 9599Rs. 11999(20% OFF)',\n",
       " 'Rs. 10999',\n",
       " 'Rs. 12999',\n",
       " 'Rs. 8999',\n",
       " 'Rs. 18990',\n",
       " 'Rs. 10499Rs. 14999(30% OFF)',\n",
       " 'Rs. 8999',\n",
       " 'Rs. 12475',\n",
       " 'Rs. 8999',\n",
       " 'Rs. 9799Rs. 13999(30% OFF)',\n",
       " 'Rs. 10355Rs. 10900(5% OFF)',\n",
       " 'Rs. 8799Rs. 10999(20% OFF)',\n",
       " 'Rs. 10799Rs. 17999(40% OFF)']"
      ]
     },
     "execution_count": 44,
     "metadata": {},
     "output_type": "execute_result"
    }
   ],
   "source": [
    "price_tag=driver.find_elements_by_xpath(\"//div[@class='product-price']\")\n",
    "price_tag[51:100]\n",
    "\n",
    "for i in price_tag:\n",
    "    prices=i.text\n",
    "    price.append(prices)\n",
    "price[51:100]"
   ]
  },
  {
   "cell_type": "code",
   "execution_count": 47,
   "id": "eecd00b7",
   "metadata": {},
   "outputs": [
    {
     "data": {
      "text/html": [
       "<div>\n",
       "<style scoped>\n",
       "    .dataframe tbody tr th:only-of-type {\n",
       "        vertical-align: middle;\n",
       "    }\n",
       "\n",
       "    .dataframe tbody tr th {\n",
       "        vertical-align: top;\n",
       "    }\n",
       "\n",
       "    .dataframe thead th {\n",
       "        text-align: right;\n",
       "    }\n",
       "</style>\n",
       "<table border=\"1\" class=\"dataframe\">\n",
       "  <thead>\n",
       "    <tr style=\"text-align: right;\">\n",
       "      <th></th>\n",
       "      <th>brands_name</th>\n",
       "      <th>description</th>\n",
       "      <th>amount</th>\n",
       "    </tr>\n",
       "  </thead>\n",
       "  <tbody>\n",
       "    <tr>\n",
       "      <th>0</th>\n",
       "      <td>Skechers</td>\n",
       "      <td>Men ENIGMA Running Shoes</td>\n",
       "      <td>Rs. 9024Rs. 9499(5% OFF)</td>\n",
       "    </tr>\n",
       "    <tr>\n",
       "      <th>1</th>\n",
       "      <td>Puma</td>\n",
       "      <td>Men M Nitro Running Shoess</td>\n",
       "      <td>Rs. 9099Rs. 12999(30% OFF)</td>\n",
       "    </tr>\n",
       "    <tr>\n",
       "      <th>2</th>\n",
       "      <td>Puma</td>\n",
       "      <td>Eternity Nitro Running Shoes</td>\n",
       "      <td>Rs. 9099Rs. 12999(30% OFF)</td>\n",
       "    </tr>\n",
       "    <tr>\n",
       "      <th>3</th>\n",
       "      <td>ADIDAS</td>\n",
       "      <td>Men Solar Glide 4 ST Running</td>\n",
       "      <td>Rs. 11999Rs. 14999(20% OFF)</td>\n",
       "    </tr>\n",
       "    <tr>\n",
       "      <th>4</th>\n",
       "      <td>UNDER ARMOUR</td>\n",
       "      <td>Men HOVR Sonic SE Running Shoe</td>\n",
       "      <td>Rs. 9999</td>\n",
       "    </tr>\n",
       "    <tr>\n",
       "      <th>...</th>\n",
       "      <td>...</td>\n",
       "      <td>...</td>\n",
       "      <td>...</td>\n",
       "    </tr>\n",
       "    <tr>\n",
       "      <th>95</th>\n",
       "      <td>Pavers England</td>\n",
       "      <td>Men Formal Loafers</td>\n",
       "      <td>Rs. 8999</td>\n",
       "    </tr>\n",
       "    <tr>\n",
       "      <th>96</th>\n",
       "      <td>ROSSO BRUNELLO</td>\n",
       "      <td>Men Solid Leather Formal Loafers</td>\n",
       "      <td>Rs. 9799Rs. 13999(30% OFF)</td>\n",
       "    </tr>\n",
       "    <tr>\n",
       "      <th>97</th>\n",
       "      <td>Saint G</td>\n",
       "      <td>Women Leather Boots</td>\n",
       "      <td>Rs. 10355Rs. 10900(5% OFF)</td>\n",
       "    </tr>\n",
       "    <tr>\n",
       "      <th>98</th>\n",
       "      <td>ROSSO BRUNELLO</td>\n",
       "      <td>Men Leather Loafers</td>\n",
       "      <td>Rs. 8799Rs. 10999(20% OFF)</td>\n",
       "    </tr>\n",
       "    <tr>\n",
       "      <th>99</th>\n",
       "      <td>ALDO</td>\n",
       "      <td>Men Leather Loafers</td>\n",
       "      <td>Rs. 10799Rs. 17999(40% OFF)</td>\n",
       "    </tr>\n",
       "  </tbody>\n",
       "</table>\n",
       "<p>100 rows × 3 columns</p>\n",
       "</div>"
      ],
      "text/plain": [
       "       brands_name                       description  \\\n",
       "0         Skechers          Men ENIGMA Running Shoes   \n",
       "1             Puma        Men M Nitro Running Shoess   \n",
       "2             Puma      Eternity Nitro Running Shoes   \n",
       "3           ADIDAS      Men Solar Glide 4 ST Running   \n",
       "4     UNDER ARMOUR    Men HOVR Sonic SE Running Shoe   \n",
       "..             ...                               ...   \n",
       "95  Pavers England                Men Formal Loafers   \n",
       "96  ROSSO BRUNELLO  Men Solid Leather Formal Loafers   \n",
       "97         Saint G               Women Leather Boots   \n",
       "98  ROSSO BRUNELLO               Men Leather Loafers   \n",
       "99            ALDO               Men Leather Loafers   \n",
       "\n",
       "                         amount  \n",
       "0      Rs. 9024Rs. 9499(5% OFF)  \n",
       "1    Rs. 9099Rs. 12999(30% OFF)  \n",
       "2    Rs. 9099Rs. 12999(30% OFF)  \n",
       "3   Rs. 11999Rs. 14999(20% OFF)  \n",
       "4                      Rs. 9999  \n",
       "..                          ...  \n",
       "95                     Rs. 8999  \n",
       "96   Rs. 9799Rs. 13999(30% OFF)  \n",
       "97   Rs. 10355Rs. 10900(5% OFF)  \n",
       "98   Rs. 8799Rs. 10999(20% OFF)  \n",
       "99  Rs. 10799Rs. 17999(40% OFF)  \n",
       "\n",
       "[100 rows x 3 columns]"
      ]
     },
     "execution_count": 47,
     "metadata": {},
     "output_type": "execute_result"
    }
   ],
   "source": [
    "shoes=pd.DataFrame({})\n",
    "shoes['brands_name']=brand\n",
    "shoes['description']=shoe_description\n",
    "shoes['amount']=price\n",
    "\n",
    "shoes"
   ]
  },
  {
   "cell_type": "code",
   "execution_count": 66,
   "id": "465348fb",
   "metadata": {},
   "outputs": [],
   "source": [
    "\n",
    "\n",
    "\n",
    "\n",
    "8.\n",
    "\n",
    "\n",
    "\n",
    "import selenium\n",
    "from selenium import webdriver\n",
    "import pandas as pd\n",
    "\n",
    "\n",
    "driver=webdriver.Chrome(r\"C:\\web driver\\chromedriver.exe\")\n",
    "driver.get(\"https://www.amazon.in/\")"
   ]
  },
  {
   "cell_type": "code",
   "execution_count": 67,
   "id": "ced5df0b",
   "metadata": {},
   "outputs": [],
   "source": [
    "search_field_designation=driver.find_element_by_xpath(\"/html/body/div[1]/header/div/div[1]/div[2]/div/form/div[2]/div[1]/input\")\n",
    "search_field_designation.send_keys('laptop')\n",
    "\n",
    "search_button=driver.find_element_by_xpath(\"/html/body/div[1]/header/div/div[1]/div[2]/div/form/div[3]/div/span/input\")\n",
    "search_button.click()"
   ]
  },
  {
   "cell_type": "code",
   "execution_count": 69,
   "id": "67a25115",
   "metadata": {},
   "outputs": [
    {
     "ename": "NoSuchElementException",
     "evalue": "Message: no such element: Unable to locate element: {\"method\":\"xpath\",\"selector\":\"/html/body/div[1]/div[2]/div[1]/div[2]/div/div[3]/span/div[1]/div/div/div[6]/ul[2]/li[13]/span/a/div\"}\n  (Session info: chrome=102.0.5005.115)\nStacktrace:\nBacktrace:\n\tOrdinal0 [0x00C0D953+2414931]\n\tOrdinal0 [0x00B9F5E1+1963489]\n\tOrdinal0 [0x00A8C6B8+837304]\n\tOrdinal0 [0x00AB9500+1021184]\n\tOrdinal0 [0x00AB979B+1021851]\n\tOrdinal0 [0x00AE6502+1205506]\n\tOrdinal0 [0x00AD44E4+1131748]\n\tOrdinal0 [0x00AE4812+1198098]\n\tOrdinal0 [0x00AD42B6+1131190]\n\tOrdinal0 [0x00AAE860+976992]\n\tOrdinal0 [0x00AAF756+980822]\n\tGetHandleVerifier [0x00E7CC62+2510274]\n\tGetHandleVerifier [0x00E6F760+2455744]\n\tGetHandleVerifier [0x00C9EABA+551962]\n\tGetHandleVerifier [0x00C9D916+547446]\n\tOrdinal0 [0x00BA5F3B+1990459]\n\tOrdinal0 [0x00BAA898+2009240]\n\tOrdinal0 [0x00BAA985+2009477]\n\tOrdinal0 [0x00BB3AD1+2046673]\n\tBaseThreadInitThunk [0x7757FA29+25]\n\tRtlGetAppContainerNamedObjectPath [0x776C7A9E+286]\n\tRtlGetAppContainerNamedObjectPath [0x776C7A6E+238]\n",
     "output_type": "error",
     "traceback": [
      "\u001b[1;31m---------------------------------------------------------------------------\u001b[0m",
      "\u001b[1;31mNoSuchElementException\u001b[0m                    Traceback (most recent call last)",
      "\u001b[1;32mC:\\Users\\VIKASK~1\\AppData\\Local\\Temp/ipykernel_7416/493233921.py\u001b[0m in \u001b[0;36m<module>\u001b[1;34m\u001b[0m\n\u001b[0;32m      3\u001b[0m \u001b[0mtime\u001b[0m\u001b[1;33m.\u001b[0m\u001b[0msleep\u001b[0m\u001b[1;33m(\u001b[0m\u001b[1;36m5\u001b[0m\u001b[1;33m)\u001b[0m\u001b[1;33m\u001b[0m\u001b[1;33m\u001b[0m\u001b[0m\n\u001b[0;32m      4\u001b[0m \u001b[1;33m\u001b[0m\u001b[0m\n\u001b[1;32m----> 5\u001b[1;33m \u001b[0mi_seven\u001b[0m\u001b[1;33m=\u001b[0m\u001b[0mdriver\u001b[0m\u001b[1;33m.\u001b[0m\u001b[0mfind_element_by_xpath\u001b[0m\u001b[1;33m(\u001b[0m\u001b[1;34m\"/html/body/div[1]/div[2]/div[1]/div[2]/div/div[3]/span/div[1]/div/div/div[6]/ul[2]/li[13]/span/a/div\"\u001b[0m\u001b[1;33m)\u001b[0m\u001b[1;33m\u001b[0m\u001b[1;33m\u001b[0m\u001b[0m\n\u001b[0m\u001b[0;32m      6\u001b[0m \u001b[0mi_seven\u001b[0m\u001b[1;33m.\u001b[0m\u001b[0mclick\u001b[0m\u001b[1;33m(\u001b[0m\u001b[1;33m)\u001b[0m\u001b[1;33m\u001b[0m\u001b[1;33m\u001b[0m\u001b[0m\n",
      "\u001b[1;32m~\\anaconda3\\lib\\site-packages\\selenium\\webdriver\\remote\\webdriver.py\u001b[0m in \u001b[0;36mfind_element_by_xpath\u001b[1;34m(self, xpath)\u001b[0m\n\u001b[0;32m    524\u001b[0m             \u001b[0mstacklevel\u001b[0m\u001b[1;33m=\u001b[0m\u001b[1;36m2\u001b[0m\u001b[1;33m,\u001b[0m\u001b[1;33m\u001b[0m\u001b[1;33m\u001b[0m\u001b[0m\n\u001b[0;32m    525\u001b[0m         )\n\u001b[1;32m--> 526\u001b[1;33m         \u001b[1;32mreturn\u001b[0m \u001b[0mself\u001b[0m\u001b[1;33m.\u001b[0m\u001b[0mfind_element\u001b[0m\u001b[1;33m(\u001b[0m\u001b[0mby\u001b[0m\u001b[1;33m=\u001b[0m\u001b[0mBy\u001b[0m\u001b[1;33m.\u001b[0m\u001b[0mXPATH\u001b[0m\u001b[1;33m,\u001b[0m \u001b[0mvalue\u001b[0m\u001b[1;33m=\u001b[0m\u001b[0mxpath\u001b[0m\u001b[1;33m)\u001b[0m\u001b[1;33m\u001b[0m\u001b[1;33m\u001b[0m\u001b[0m\n\u001b[0m\u001b[0;32m    527\u001b[0m \u001b[1;33m\u001b[0m\u001b[0m\n\u001b[0;32m    528\u001b[0m     \u001b[1;32mdef\u001b[0m \u001b[0mfind_elements_by_xpath\u001b[0m\u001b[1;33m(\u001b[0m\u001b[0mself\u001b[0m\u001b[1;33m,\u001b[0m \u001b[0mxpath\u001b[0m\u001b[1;33m)\u001b[0m \u001b[1;33m->\u001b[0m \u001b[0mList\u001b[0m\u001b[1;33m[\u001b[0m\u001b[0mWebElement\u001b[0m\u001b[1;33m]\u001b[0m\u001b[1;33m:\u001b[0m\u001b[1;33m\u001b[0m\u001b[1;33m\u001b[0m\u001b[0m\n",
      "\u001b[1;32m~\\anaconda3\\lib\\site-packages\\selenium\\webdriver\\remote\\webdriver.py\u001b[0m in \u001b[0;36mfind_element\u001b[1;34m(self, by, value)\u001b[0m\n\u001b[0;32m   1249\u001b[0m             \u001b[0mvalue\u001b[0m \u001b[1;33m=\u001b[0m \u001b[1;34m'[name=\"%s\"]'\u001b[0m \u001b[1;33m%\u001b[0m \u001b[0mvalue\u001b[0m\u001b[1;33m\u001b[0m\u001b[1;33m\u001b[0m\u001b[0m\n\u001b[0;32m   1250\u001b[0m \u001b[1;33m\u001b[0m\u001b[0m\n\u001b[1;32m-> 1251\u001b[1;33m         return self.execute(Command.FIND_ELEMENT, {\n\u001b[0m\u001b[0;32m   1252\u001b[0m             \u001b[1;34m'using'\u001b[0m\u001b[1;33m:\u001b[0m \u001b[0mby\u001b[0m\u001b[1;33m,\u001b[0m\u001b[1;33m\u001b[0m\u001b[1;33m\u001b[0m\u001b[0m\n\u001b[0;32m   1253\u001b[0m             'value': value})['value']\n",
      "\u001b[1;32m~\\anaconda3\\lib\\site-packages\\selenium\\webdriver\\remote\\webdriver.py\u001b[0m in \u001b[0;36mexecute\u001b[1;34m(self, driver_command, params)\u001b[0m\n\u001b[0;32m    428\u001b[0m         \u001b[0mresponse\u001b[0m \u001b[1;33m=\u001b[0m \u001b[0mself\u001b[0m\u001b[1;33m.\u001b[0m\u001b[0mcommand_executor\u001b[0m\u001b[1;33m.\u001b[0m\u001b[0mexecute\u001b[0m\u001b[1;33m(\u001b[0m\u001b[0mdriver_command\u001b[0m\u001b[1;33m,\u001b[0m \u001b[0mparams\u001b[0m\u001b[1;33m)\u001b[0m\u001b[1;33m\u001b[0m\u001b[1;33m\u001b[0m\u001b[0m\n\u001b[0;32m    429\u001b[0m         \u001b[1;32mif\u001b[0m \u001b[0mresponse\u001b[0m\u001b[1;33m:\u001b[0m\u001b[1;33m\u001b[0m\u001b[1;33m\u001b[0m\u001b[0m\n\u001b[1;32m--> 430\u001b[1;33m             \u001b[0mself\u001b[0m\u001b[1;33m.\u001b[0m\u001b[0merror_handler\u001b[0m\u001b[1;33m.\u001b[0m\u001b[0mcheck_response\u001b[0m\u001b[1;33m(\u001b[0m\u001b[0mresponse\u001b[0m\u001b[1;33m)\u001b[0m\u001b[1;33m\u001b[0m\u001b[1;33m\u001b[0m\u001b[0m\n\u001b[0m\u001b[0;32m    431\u001b[0m             response['value'] = self._unwrap_value(\n\u001b[0;32m    432\u001b[0m                 response.get('value', None))\n",
      "\u001b[1;32m~\\anaconda3\\lib\\site-packages\\selenium\\webdriver\\remote\\errorhandler.py\u001b[0m in \u001b[0;36mcheck_response\u001b[1;34m(self, response)\u001b[0m\n\u001b[0;32m    245\u001b[0m                 \u001b[0malert_text\u001b[0m \u001b[1;33m=\u001b[0m \u001b[0mvalue\u001b[0m\u001b[1;33m[\u001b[0m\u001b[1;34m'alert'\u001b[0m\u001b[1;33m]\u001b[0m\u001b[1;33m.\u001b[0m\u001b[0mget\u001b[0m\u001b[1;33m(\u001b[0m\u001b[1;34m'text'\u001b[0m\u001b[1;33m)\u001b[0m\u001b[1;33m\u001b[0m\u001b[1;33m\u001b[0m\u001b[0m\n\u001b[0;32m    246\u001b[0m             \u001b[1;32mraise\u001b[0m \u001b[0mexception_class\u001b[0m\u001b[1;33m(\u001b[0m\u001b[0mmessage\u001b[0m\u001b[1;33m,\u001b[0m \u001b[0mscreen\u001b[0m\u001b[1;33m,\u001b[0m \u001b[0mstacktrace\u001b[0m\u001b[1;33m,\u001b[0m \u001b[0malert_text\u001b[0m\u001b[1;33m)\u001b[0m  \u001b[1;31m# type: ignore[call-arg]  # mypy is not smart enough here\u001b[0m\u001b[1;33m\u001b[0m\u001b[1;33m\u001b[0m\u001b[0m\n\u001b[1;32m--> 247\u001b[1;33m         \u001b[1;32mraise\u001b[0m \u001b[0mexception_class\u001b[0m\u001b[1;33m(\u001b[0m\u001b[0mmessage\u001b[0m\u001b[1;33m,\u001b[0m \u001b[0mscreen\u001b[0m\u001b[1;33m,\u001b[0m \u001b[0mstacktrace\u001b[0m\u001b[1;33m)\u001b[0m\u001b[1;33m\u001b[0m\u001b[1;33m\u001b[0m\u001b[0m\n\u001b[0m\u001b[0;32m    248\u001b[0m \u001b[1;33m\u001b[0m\u001b[0m\n\u001b[0;32m    249\u001b[0m     \u001b[1;32mdef\u001b[0m \u001b[0m_value_or_default\u001b[0m\u001b[1;33m(\u001b[0m\u001b[0mself\u001b[0m\u001b[1;33m,\u001b[0m \u001b[0mobj\u001b[0m\u001b[1;33m:\u001b[0m \u001b[0mMapping\u001b[0m\u001b[1;33m[\u001b[0m\u001b[0m_KT\u001b[0m\u001b[1;33m,\u001b[0m \u001b[0m_VT\u001b[0m\u001b[1;33m]\u001b[0m\u001b[1;33m,\u001b[0m \u001b[0mkey\u001b[0m\u001b[1;33m:\u001b[0m \u001b[0m_KT\u001b[0m\u001b[1;33m,\u001b[0m \u001b[0mdefault\u001b[0m\u001b[1;33m:\u001b[0m \u001b[0m_VT\u001b[0m\u001b[1;33m)\u001b[0m \u001b[1;33m->\u001b[0m \u001b[0m_VT\u001b[0m\u001b[1;33m:\u001b[0m\u001b[1;33m\u001b[0m\u001b[1;33m\u001b[0m\u001b[0m\n",
      "\u001b[1;31mNoSuchElementException\u001b[0m: Message: no such element: Unable to locate element: {\"method\":\"xpath\",\"selector\":\"/html/body/div[1]/div[2]/div[1]/div[2]/div/div[3]/span/div[1]/div/div/div[6]/ul[2]/li[13]/span/a/div\"}\n  (Session info: chrome=102.0.5005.115)\nStacktrace:\nBacktrace:\n\tOrdinal0 [0x00C0D953+2414931]\n\tOrdinal0 [0x00B9F5E1+1963489]\n\tOrdinal0 [0x00A8C6B8+837304]\n\tOrdinal0 [0x00AB9500+1021184]\n\tOrdinal0 [0x00AB979B+1021851]\n\tOrdinal0 [0x00AE6502+1205506]\n\tOrdinal0 [0x00AD44E4+1131748]\n\tOrdinal0 [0x00AE4812+1198098]\n\tOrdinal0 [0x00AD42B6+1131190]\n\tOrdinal0 [0x00AAE860+976992]\n\tOrdinal0 [0x00AAF756+980822]\n\tGetHandleVerifier [0x00E7CC62+2510274]\n\tGetHandleVerifier [0x00E6F760+2455744]\n\tGetHandleVerifier [0x00C9EABA+551962]\n\tGetHandleVerifier [0x00C9D916+547446]\n\tOrdinal0 [0x00BA5F3B+1990459]\n\tOrdinal0 [0x00BAA898+2009240]\n\tOrdinal0 [0x00BAA985+2009477]\n\tOrdinal0 [0x00BB3AD1+2046673]\n\tBaseThreadInitThunk [0x7757FA29+25]\n\tRtlGetAppContainerNamedObjectPath [0x776C7A9E+286]\n\tRtlGetAppContainerNamedObjectPath [0x776C7A6E+238]\n"
     ]
    }
   ],
   "source": [
    "from selenium.common.exceptions import NoSuchElementException\n",
    "import time\n",
    "time.sleep(5)\n",
    "\n",
    "i_seven=driver.find_element_by_xpath(\"/html/body/div[1]/div[2]/div[1]/div[2]/div/div[3]/span/div[1]/div/div/div[6]/ul[2]/li[13]/span/a/div\")\n",
    "i_seven.click()"
   ]
  },
  {
   "cell_type": "code",
   "execution_count": 70,
   "id": "38751cc8",
   "metadata": {},
   "outputs": [],
   "source": [
    "title=[]\n",
    "ratings=[]\n",
    "price=[]\n"
   ]
  },
  {
   "cell_type": "code",
   "execution_count": null,
   "id": "01a72ee7",
   "metadata": {},
   "outputs": [],
   "source": [
    "title_tag=driver.find_elements_by_xpath(\"//span[@class='a-size-medium a-color-base a-text-normal']\")\n",
    "title_tag[0:10]\n",
    "\n",
    "for i in title_tag:\n",
    "    titles=i.text\n",
    "    title.append(titles)\n",
    "title[0:10]"
   ]
  },
  {
   "cell_type": "code",
   "execution_count": null,
   "id": "5b7924e0",
   "metadata": {},
   "outputs": [],
   "source": [
    "rating_tag=driver.find_elements_by_xpath(\"//a[@class='a-popover-trigger a-declarative']\")\n",
    "rating_tag[0:10]\n",
    "\n",
    "for i in rating_tag:\n",
    "    rating=i.text\n",
    "    ratings.append(rating)\n",
    "ratings[0:10]"
   ]
  },
  {
   "cell_type": "code",
   "execution_count": null,
   "id": "04d885ce",
   "metadata": {},
   "outputs": [],
   "source": [
    "price_tag=driver.find_elements_by_xpath(\"//span[@class='a-price-whole']\")\n",
    "price_tag[0:10]\n",
    "\n",
    "for i in price_tag:\n",
    "    prices=i.text\n",
    "    price.append(prices)\n",
    "price[0:10]"
   ]
  },
  {
   "cell_type": "code",
   "execution_count": null,
   "id": "eda80909",
   "metadata": {},
   "outputs": [],
   "source": [
    "data = pd.DataFrame({})\n",
    "data['title name']= title[]\n",
    "data['customer_rating']=ratings[]\n",
    "data['amount']=price[]\n",
    "     \n",
    "data[0:10]"
   ]
  },
  {
   "cell_type": "code",
   "execution_count": 126,
   "id": "29ec614f",
   "metadata": {},
   "outputs": [],
   "source": [
    "\n",
    "\n",
    "\n",
    "\n",
    "\n",
    "9.\n",
    "\n",
    "\n",
    "\n",
    "\n",
    "\n",
    "from selenium import webdriver\n",
    "import time\n",
    "\n",
    "\n",
    "import selenium\n",
    "import pandas as pd \n",
    "\n",
    "\n",
    "\n",
    "\n",
    "driver=webdriver.Chrome(r\"C:\\web driver\\chromedriver.exe\")\n",
    "driver.get(\"https://www.ambitionbox.com/\")"
   ]
  },
  {
   "cell_type": "code",
   "execution_count": 127,
   "id": "f59cb322",
   "metadata": {},
   "outputs": [],
   "source": [
    "job_button=driver.find_element_by_xpath(\"/html/body/div[1]/nav/nav/a[6]\")\n",
    "job_button.click()"
   ]
  },
  {
   "cell_type": "code",
   "execution_count": 128,
   "id": "86f0b072",
   "metadata": {},
   "outputs": [],
   "source": [
    "time.sleep(5)\n",
    "\n",
    "search_field_designation=driver.find_element_by_xpath(\"/html/body/div/div/div/div[2]/div[1]/div[1]/div/div/div/div/span/input\")\n",
    "search_field_designation.send_keys(\"Data Scientist\")"
   ]
  },
  {
   "cell_type": "code",
   "execution_count": 129,
   "id": "22782fd3",
   "metadata": {},
   "outputs": [],
   "source": [
    "search_button=driver.find_element_by_xpath(\"/html/body/div/div/div/div[2]/div[1]/div[1]/div/div/div/button/span\")\n",
    "search_button.click()"
   ]
  },
  {
   "cell_type": "code",
   "execution_count": 130,
   "id": "e9f79f47",
   "metadata": {},
   "outputs": [],
   "source": [
    "location_button=driver.find_element_by_xpath(\"/html/body/div/div/div/div[2]/div[1]/div[2]/div[1]/div/div/div/div[2]/div[1]/i\")\n",
    "location_button.click()"
   ]
  },
  {
   "cell_type": "code",
   "execution_count": 131,
   "id": "ed57ba24",
   "metadata": {},
   "outputs": [],
   "source": [
    "search_location=driver.find_element_by_xpath(\"/html/body/div/div/div/div[2]/div[1]/div[2]/div[1]/div/div/div/div[2]/div[2]/div/div[2]/input\")\n",
    "search_location.send_keys(\"noida\")"
   ]
  },
  {
   "cell_type": "code",
   "execution_count": 132,
   "id": "4ddaf4f7",
   "metadata": {},
   "outputs": [],
   "source": [
    "noida_button=driver.find_element_by_xpath(\"/html/body/div/div/div/div[2]/div[1]/div[2]/div[1]/div/div/div/div[2]/div[2]/div/div[3]/div[1]/div[1]/div/input\")\n",
    "noida_button.click()"
   ]
  },
  {
   "cell_type": "code",
   "execution_count": 133,
   "id": "22d900a4",
   "metadata": {},
   "outputs": [],
   "source": [
    "title=[]\n",
    "company_name=[]\n",
    "experience_list=[]"
   ]
  },
  {
   "cell_type": "code",
   "execution_count": 134,
   "id": "64f4108a",
   "metadata": {},
   "outputs": [
    {
     "data": {
      "text/plain": [
       "['Data Scientist',\n",
       " 'Senior Data Scientist',\n",
       " 'Data Scientist -Machine Learning with Python',\n",
       " 'Data Scientist - OIP',\n",
       " 'Data Science - Lead Data Scientist',\n",
       " 'Data Scientist (Python) Immediate Joiners',\n",
       " 'Data Scientist - Associate Vice President',\n",
       " 'Data Scientist - MIND Infotech',\n",
       " 'Data Science Trainer | AI | Machine Learning | Python |',\n",
       " 'Data Scientist']"
      ]
     },
     "execution_count": 134,
     "metadata": {},
     "output_type": "execute_result"
    }
   ],
   "source": [
    "title_tag=driver.find_elements_by_xpath(\"//a[@class='title noclick']\")\n",
    "title_tag[0:10]\n",
    "\n",
    "for i in title_tag:\n",
    "    titles=i.text\n",
    "    title.append(titles)\n",
    "title[0:10]"
   ]
  },
  {
   "cell_type": "code",
   "execution_count": 135,
   "id": "8fa10105",
   "metadata": {},
   "outputs": [
    {
     "data": {
      "text/plain": [
       "['GENPACT India Private Limited',\n",
       " 'Optum Global Solutions (India) Private Limited',\n",
       " 'GENPACT India Private Limited',\n",
       " 'Hcl Technologies Limited',\n",
       " 'Paytm',\n",
       " 'Om Software Internet Solutions Private Limited',\n",
       " 'Paytm',\n",
       " 'MOTHERSONSUMI INFOTECH & DESIGNS LIMITED',\n",
       " 'Careerera',\n",
       " 'Ashkom Media India Private Limited']"
      ]
     },
     "execution_count": 135,
     "metadata": {},
     "output_type": "execute_result"
    }
   ],
   "source": [
    "company_names=driver.find_elements_by_xpath(\"//p[@class='company body-medium']\")\n",
    "company_names[0:10]\n",
    "\n",
    "for i in company_names:\n",
    "    company=i.text\n",
    "    company_name.append(company)\n",
    "company_name[0:10]"
   ]
  },
  {
   "cell_type": "code",
   "execution_count": 137,
   "id": "a5bacaed",
   "metadata": {},
   "outputs": [
    {
     "data": {
      "text/plain": [
       "['', '', '', '', '', '', '', '', '', '']"
      ]
     },
     "execution_count": 137,
     "metadata": {},
     "output_type": "execute_result"
    }
   ],
   "source": [
    "time.sleep(5)\n",
    "experience_lists=driver.find_elements_by_xpath(\"//i[@class='icon icon-work']\")\n",
    "experience_lists[0:10]\n",
    "\n",
    "\n",
    "for i in experience_lists:\n",
    "    experience=i.text\n",
    "    experience_list.append(experience)\n",
    "experience_list[0:10]"
   ]
  },
  {
   "cell_type": "code",
   "execution_count": null,
   "id": "8fe0b833",
   "metadata": {},
   "outputs": [],
   "source": [
    "data =pd.DataFrame({})\n",
    "\n",
    "data['']=title[]\n",
    "data['']=company_name[]\n",
    "data['']=experience_list[]\n",
    "\n",
    "data"
   ]
  },
  {
   "cell_type": "code",
   "execution_count": null,
   "id": "00ef1799",
   "metadata": {},
   "outputs": [],
   "source": []
  },
  {
   "cell_type": "code",
   "execution_count": null,
   "id": "29dc1a16",
   "metadata": {},
   "outputs": [],
   "source": []
  },
  {
   "cell_type": "code",
   "execution_count": 138,
   "id": "b9ef7ef6",
   "metadata": {},
   "outputs": [],
   "source": [
    "\n",
    "\n",
    "\n",
    "\n",
    "10. \n",
    "\n",
    "\n",
    "import selenium\n",
    "import time\n",
    "import pandas as pd \n",
    "from selenium import webdriver\n",
    "\n",
    "driver=webdriver.Chrome(r\"C:\\web driver\\chromedriver.exe\")\n",
    "driver.get(\"https://www.ambitionbox.com/\")\n"
   ]
  },
  {
   "cell_type": "code",
   "execution_count": 139,
   "id": "1ee24a87",
   "metadata": {},
   "outputs": [],
   "source": [
    "salary_button=driver.find_element_by_xpath(\"/html/body/div[1]/nav/nav/a[4]\")\n",
    "salary_button.click()"
   ]
  },
  {
   "cell_type": "code",
   "execution_count": 140,
   "id": "72068066",
   "metadata": {},
   "outputs": [],
   "source": [
    "search_field_designation=driver.find_element_by_xpath(\"/html/body/div/div/div/div[2]/div/div/div/div[1]/span/input\")\n",
    "search_field_designation.send_keys(\"Data Scientist\")"
   ]
  },
  {
   "cell_type": "code",
   "execution_count": 141,
   "id": "df9e15c5",
   "metadata": {},
   "outputs": [],
   "source": [
    "search_button=driver.find_element_by_xpath(\"/html/body/div/div/div/div[2]/div/div/div/button/span\")\n",
    "search_button.click()"
   ]
  },
  {
   "cell_type": "code",
   "execution_count": 142,
   "id": "6f232c47",
   "metadata": {},
   "outputs": [],
   "source": [
    "company=[]\n",
    "total_salary_record=[]\n",
    "average_salary=[]\n",
    "minium_salary=[]\n",
    "maxium_salary=[]\n",
    "experience_list=[]\n"
   ]
  },
  {
   "cell_type": "code",
   "execution_count": null,
   "id": "f7b4c997",
   "metadata": {},
   "outputs": [],
   "source": [
    "company_names=driver.find_elements_by_xpath(\"\")\n",
    "company_names[0:10]\n",
    "\n",
    "for i in company_names:\n",
    "    company=i.text\n",
    "    company_name.append(company)\n",
    "company_name[0:10]"
   ]
  }
 ],
 "metadata": {
  "kernelspec": {
   "display_name": "Python 3 (ipykernel)",
   "language": "python",
   "name": "python3"
  },
  "language_info": {
   "codemirror_mode": {
    "name": "ipython",
    "version": 3
   },
   "file_extension": ".py",
   "mimetype": "text/x-python",
   "name": "python",
   "nbconvert_exporter": "python",
   "pygments_lexer": "ipython3",
   "version": "3.9.7"
  }
 },
 "nbformat": 4,
 "nbformat_minor": 5
}
